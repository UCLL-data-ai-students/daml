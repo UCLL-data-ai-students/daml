{
 "cells": [
  {
   "cell_type": "markdown",
   "metadata": {},
   "source": [
    "We did an end-to-end case for the past two weeks to give you a broad overview of what a data science project could look like using the CRISP-DM framework. From now on we'll take a slower, more methodological approach to ensure you are capable of taking on such a project yourself."
   ]
  },
  {
   "cell_type": "markdown",
   "metadata": {},
   "source": [
    "<img src=\"images\\Logo_UCLL_ENG_RGB.png\" style=\"background-color:white;\" />\n",
    "\n",
    "# Data Analytics & Machine learning\n",
    "\n",
    "Lecturers: Aimée Lynn Backiel, Chidi Nweke, Daan Nijs\n",
    "\n",
    "Academic year 2023-2024\n",
    "\n",
    "## Lab 7 Part 2: End-to-end exercise + classification"
   ]
  },
  {
   "cell_type": "markdown",
   "metadata": {},
   "source": [
    "### Lecture outline\n",
    "\n",
    "1. One large exercise covering all we have done so far in this course applied to classification."
   ]
  },
  {
   "cell_type": "markdown",
   "metadata": {},
   "source": [
    "### Recap of last lecture(s)\n",
    "\n",
    "#### Lab 1\n",
    "\n",
    "1. We ensured we had a valid Python installation.\n",
    "2. We learnt what a virtual environment is:\n",
    "   * Isolated Python executable and packages.\n",
    "   * We created a virtual environment.\n",
    "3. Absolute path vs relative path recap.\n",
    "4. Recap of data structures in Python\n",
    "\n",
    "#### Lab 2\n",
    "1. Installed Pandas\n",
    "2. Learnt how to read data\n",
    "3. Learnt how to calculate mean, mode, median etc.\n",
    "4. Basic exploration of the 4 variables\n",
    "\n",
    "#### Lab 3\n",
    "1. Wrapped up computing summary statistics (mean, median, mode, ...)\n",
    "2. Learnt how to deal with outliers \n",
    "3. Focused on exploration of dat\n",
    "\n",
    "#### Lab 4\n",
    "1. Univariate data visualization using Matplotlib\n",
    "   1. Figures and axes\n",
    "   2. Histograms\n",
    "   3. Box plots\n",
    "   4. Bar charts\n",
    "2. Multivariate data visualization using Seaborn\n",
    "   1. Scatter plots\n",
    "   2. Small multiples\n",
    "   3. Color coding\n",
    "\n",
    "#### Lab 5\n",
    "1. Intro to machine learning using scikit-learn\n",
    "   1. Preprocessing\n",
    "      1. One Hot encoding\n",
    "      2. Scaling\n",
    "      3. Outliers\n",
    "   2. Regression\n",
    "\n",
    "#### Lab 6\n",
    "1. Preprocessing with scikit-learn\n",
    "   1. ColumnTransformer: Apply a transformation to specific columns.\n",
    "   2. Pipeline: Do several transformations after each other\n",
    "2. Evaluation:\n",
    "   1. Why the mean of the error is a bad idea\n",
    "   2. Mean absolute error\n",
    "   3. Mean squared error\n",
    "\n",
    "### Lab 7\n",
    "1. Feature engineering\n",
    "   1. Binning\n",
    "   2. Interactions\n",
    "   3. Custom features\n",
    "2. Rounding up model evaluation\n",
    "   1. Cross validation\n",
    "   2. Hyper parameter tuning"
   ]
  },
  {
   "cell_type": "markdown",
   "metadata": {},
   "source": [
    "#### Our next case: Hotel booking dataset\n",
    "\n",
    "source: https://www.sciencedirect.com/science/article/pii/S2352340918315191\n",
    "\n",
    "*This data article describes two datasets with hotel demand data. One of the hotels (H1) is a resort hotel and the other is a city hotel (H2). Both datasets share the same structure, with 31 variables describing the 40,060 observations of H1 and 79,330 observations of H2. Each observation represents a hotel booking. Both datasets comprehend bookings due to arrive between the 1st of July of 2015 and the 31st of August 2017, including bookings that effectively arrived and bookings that were canceled. Both hotels are located in Portugal: H1 at the resort region of Algarve and H2 at the city of Lisbon.*\n",
    "\n",
    "The goal is to help the two hotels maximize their revenue.\n",
    "\n"
   ]
  },
  {
   "cell_type": "markdown",
   "metadata": {},
   "source": [
    "|variable                       |class     |description |\n",
    "|:------------------------------|:---------|:-----------|\n",
    "|hotel                          |character | Hotel (H1 = Resort Hotel or H2 = City Hotel) |\n",
    "|is_canceled                    |double    | Value indicating if the booking was canceled (1) or not (0) |\n",
    "|lead_time                      |double    | Number of days that elapsed between the entering date of the booking into the PMS and the arrival date |\n",
    "|arrival_date_year              |double    | Year of arrival date|\n",
    "|arrival_date_month             |character | Month of arrival date|\n",
    "|arrival_date_week_number       |double    | Week number of year for arrival date|\n",
    "|arrival_date_day_of_month      |double    | Day of arrival date|\n",
    "|stays_in_weekend_nights        |double    | Number of weekend nights (Saturday or Sunday) the guest stayed or booked to stay at the hotel |\n",
    "|stays_in_week_nights           |double    |  Number of week nights (Monday to Friday) the guest stayed or booked to stay at the hotel|\n",
    "|adults                         |double    | Number of adults|\n",
    "|children                       |double    | Number of children|\n",
    "|babies                         |double    |Number of babies |\n",
    "|meal                           |character | Type of meal booked. Categories are presented in standard hospitality meal packages: <br> Undefined/SC – no meal package;<br>BB – Bed & Breakfast; <br> HB – Half board (breakfast and one other meal – usually dinner); <br> FB – Full board (breakfast, lunch and dinner) |\n",
    "|country                        |character | Country of origin. Categories are represented in the ISO 3155–3:2013 format |\n",
    "|market_segment                 |character | Market segment designation. In categories, the term “TA” means “Travel Agents” and “TO” means “Tour Operators” |\n",
    "|distribution_channel           |character | Booking distribution channel. The term “TA” means “Travel Agents” and “TO” means “Tour Operators” |\n",
    "|is_repeated_guest              |double    | Value indicating if the booking name was from a repeated guest (1) or not (0) |\n",
    "|previous_cancellations         |double    | Number of previous bookings that were cancelled by the customer prior to the current booking |\n",
    "|previous_bookings_not_canceled |double    | Number of previous bookings not cancelled by the customer prior to the current booking |\n",
    "|reserved_room_type             |character | Code of room type reserved. Code is presented instead of designation for anonymity reasons |\n",
    "|assigned_room_type             |character | Code for the type of room assigned to the booking. Sometimes the assigned room type differs from the reserved room type due to hotel operation reasons (e.g. overbooking) or by customer request. Code is presented instead of designation for anonymity reasons |\n",
    "|booking_changes                |double    | Number of changes/amendments made to the booking from the moment the booking was entered on the PMS until the moment of check-in or cancellation|\n",
    "|deposit_type                   |character | Indication on if the customer made a deposit to guarantee the booking. This variable can assume three categories:<br>No Deposit – no deposit was made;<br>Non Refund – a deposit was made in the value of the total stay cost;<br>Refundable – a deposit was made with a value under the total cost of stay. |\n",
    "|agent                          |character | ID of the travel agency that made the booking |\n",
    "|company                        |character | ID of the company/entity that made the booking or responsible for paying the booking. ID is presented instead of designation for anonymity reasons |\n",
    "|days_in_waiting_list           |double    | Number of days the booking was in the waiting list before it was confirmed to the customer |\n",
    "|customer_type                  |character | Type of booking, assuming one of four categories:<br>Contract - when the booking has an allotment or other type of contract associated to it;<br>Group – when the booking is associated to a group;<br>Transient – when the booking is not part of a group or contract, and is not associated to other transient booking;<br>Transient-party – when the booking is transient, but is associated to at least other transient booking|\n",
    "|adr                            |double    | Average Daily Rate as defined by dividing the sum of all lodging transactions by the total number of staying nights |\n",
    "|required_car_parking_spaces    |double    | Number of car parking spaces required by the customer |\n",
    "|total_of_special_requests      |double    | Number of special requests made by the customer (e.g. twin bed or high floor)|\n",
    "|reservation_status             |character | Reservation last status, assuming one of three categories:<br>Canceled – booking was canceled by the customer;<br>Check-Out – customer has checked in but already departed;<br>No-Show – customer did not check-in and did inform the hotel of the reason why |\n",
    "|reservation_status_date        |double    | Date at which the last status was set. This variable can be used in conjunction with the ReservationStatus to understand when was the booking canceled or when did the customer checked-out of the hotel|\n",
    "\n",
    "\n",
    "\n"
   ]
  },
  {
   "cell_type": "code",
   "execution_count": null,
   "metadata": {},
   "outputs": [],
   "source": [
    "import pandas as pd"
   ]
  },
  {
   "cell_type": "code",
   "execution_count": null,
   "metadata": {},
   "outputs": [],
   "source": [
    "h1 = pd.read_csv(\"data/H1.csv\")\n",
    "h1.head()"
   ]
  },
  {
   "cell_type": "code",
   "execution_count": null,
   "metadata": {},
   "outputs": [],
   "source": [
    "h2 = pd.read_csv(\"data/H2.csv\")\n",
    "h2.head()"
   ]
  },
  {
   "cell_type": "markdown",
   "metadata": {},
   "source": [
    "#### ❓ The first thing we need to decide is what we want to do with this dataset. We have many different variables and thus things we can do. What would you do with this dataset?"
   ]
  },
  {
   "cell_type": "markdown",
   "metadata": {},
   "source": [
    "The first goal, finding out who cancels, is **predicting a categorical value**. `isCanceled` is a number but in our dataset it should be regarded as a discrete category. This is called **classification**. When doing classification we will need slightly different machine learning models but most importantly, we will need different evaluation metrics. The full details are discussed in the theory sessions."
   ]
  },
  {
   "cell_type": "markdown",
   "metadata": {},
   "source": [
    "We still start of by doing exploring the dataset using Pandas exclusively and move on to some plots later on. The choice of which tool to use is yours. In this session we will be"
   ]
  },
  {
   "cell_type": "code",
   "execution_count": null,
   "metadata": {},
   "outputs": [],
   "source": [
    "h1[\"hotel\"] = \"Resort hotel\"\n",
    "h2[\"hotel\"] = \"City hotel\"\n",
    "hotel_df = pd.concat([h1, h2], ignore_index=True)"
   ]
  },
  {
   "cell_type": "code",
   "execution_count": null,
   "metadata": {},
   "outputs": [],
   "source": [
    "hotel_df"
   ]
  },
  {
   "cell_type": "markdown",
   "metadata": {},
   "source": [
    "### Data understanding"
   ]
  },
  {
   "cell_type": "markdown",
   "metadata": {},
   "source": [
    "Business people might  questions like:\n",
    "\n",
    "Are we booking rooms correctly in our system? Do all bookings have quests?\n",
    "\n",
    "Where do the guests come from?\n",
    "\n",
    "How much do they pay per night?\n",
    "\n",
    "Does the price vary per time of the year?\n",
    "\n",
    "When are the hotels the busiest?\n",
    "\n",
    "How long do customers stay? Are there any noticeable differences?\n",
    "\n",
    "When and for which type of customers do the biggest cancellations happen?\n",
    "\n",
    "We will try and answer all of these."
   ]
  },
  {
   "cell_type": "code",
   "execution_count": null,
   "metadata": {},
   "outputs": [],
   "source": [
    "# ❓ Do we have null values?"
   ]
  },
  {
   "cell_type": "code",
   "execution_count": null,
   "metadata": {},
   "outputs": [],
   "source": [
    "# ❓ What would you do with the missing values. (hint: df.fillna)\n"
   ]
  },
  {
   "cell_type": "code",
   "execution_count": null,
   "metadata": {},
   "outputs": [],
   "source": [
    "# ❓ Do all bookings have guests? \n",
    "\n"
   ]
  },
  {
   "cell_type": "code",
   "execution_count": null,
   "metadata": {},
   "outputs": [],
   "source": [
    "# ❓ How much do they pay per night?\n"
   ]
  },
  {
   "cell_type": "code",
   "execution_count": null,
   "metadata": {},
   "outputs": [],
   "source": [
    "# ❓ Where do the guests come from?\n"
   ]
  },
  {
   "cell_type": "code",
   "execution_count": null,
   "metadata": {},
   "outputs": [],
   "source": [
    "# ❓ Does the price vary per time of the year?\n",
    "\n"
   ]
  },
  {
   "cell_type": "code",
   "execution_count": null,
   "metadata": {},
   "outputs": [],
   "source": [
    "# ❓ When are the hotels the busiest?\n",
    "\n"
   ]
  },
  {
   "cell_type": "code",
   "execution_count": null,
   "metadata": {},
   "outputs": [],
   "source": [
    "# ❓ How long do customers stay? Are there any noticeable differences?\n"
   ]
  },
  {
   "cell_type": "code",
   "execution_count": null,
   "metadata": {},
   "outputs": [],
   "source": [
    "# ❓ How long do customers stay? Are there any noticeable differences?\n",
    "\n"
   ]
  },
  {
   "cell_type": "code",
   "execution_count": null,
   "metadata": {},
   "outputs": [],
   "source": [
    "# ❓ Analyze the bookings per market segment\n",
    "\n"
   ]
  },
  {
   "cell_type": "code",
   "execution_count": null,
   "metadata": {},
   "outputs": [],
   "source": [
    "# ❓ Analyze the bookings per market segment\n"
   ]
  },
  {
   "cell_type": "code",
   "execution_count": null,
   "metadata": {},
   "outputs": [],
   "source": [
    "# ❓ When and for which type of customers do the biggest cancellations happen?\n",
    "\n"
   ]
  },
  {
   "cell_type": "markdown",
   "metadata": {},
   "source": [
    "#### Data exploration with plots"
   ]
  },
  {
   "cell_type": "code",
   "execution_count": null,
   "metadata": {},
   "outputs": [],
   "source": [
    "import matplotlib.pyplot as plt\n",
    "import seaborn as sns\n",
    "import plotly.express as px\n",
    "import numpy as np"
   ]
  },
  {
   "cell_type": "code",
   "execution_count": null,
   "metadata": {},
   "outputs": [],
   "source": [
    "hotel_df[\"YearMonth\"] = hotel_df[\"ArrivalDateYear\"].astype(str) + hotel_df[ \"ArrivalDateMonth\"]"
   ]
  },
  {
   "cell_type": "markdown",
   "metadata": {},
   "source": [
    "hotel_df[\"YearMonth\"]"
   ]
  },
  {
   "cell_type": "code",
   "execution_count": null,
   "metadata": {},
   "outputs": [],
   "source": [
    "# ❓ Make a plot that shows the bookings over time\n"
   ]
  },
  {
   "cell_type": "code",
   "execution_count": null,
   "metadata": {},
   "outputs": [],
   "source": [
    "# ❓ Make a line plot that shows the bookings over time. Divide into cancellations and not cancelled bookings.\n"
   ]
  },
  {
   "cell_type": "code",
   "execution_count": null,
   "metadata": {},
   "outputs": [],
   "source": [
    "# ❓ Where do the guests come from?"
   ]
  },
  {
   "cell_type": "code",
   "execution_count": null,
   "metadata": {},
   "outputs": [],
   "source": [
    "# Extra, just the top 10\n",
    "\n",
    "fig, ax = plt.subplots(figsize=(24,24))\n",
    "sns.countplot(data=hotel_df, x=\"Country\", order = hotel_df['Country'].value_counts().iloc[:10].index, ax=ax)\n",
    "ax.tick_params(axis='x', rotation=90)\n"
   ]
  },
  {
   "cell_type": "code",
   "execution_count": null,
   "metadata": {},
   "outputs": [],
   "source": [
    "# Extra extra\n",
    "\n",
    "countryData = hotel_df.groupby(\"Country\", as_index=False).size()\n",
    "\n",
    "countryData.rename(columns={\"size\": \"Number of Guests\"}, inplace=True)\n",
    "total_guests = countryData[\"Number of Guests\"].sum()\n",
    "countryData[\"Guests in %\"] = np.round(countryData[\"Number of Guests\"] / total_guests * 100, 2)\n",
    "\n",
    "guest_map = px.choropleth(countryData,\n",
    "                    locations=countryData.Country,\n",
    "                    color=countryData[\"Guests in %\"],\n",
    "                    hover_name=countryData.Country, \n",
    "                    title=\"Home country of guests\")\n",
    "guest_map.show()"
   ]
  },
  {
   "cell_type": "code",
   "execution_count": null,
   "metadata": {},
   "outputs": [],
   "source": [
    "# ❓ How much do they pay per night (hint distribution of ...)\n"
   ]
  },
  {
   "cell_type": "code",
   "execution_count": null,
   "metadata": {},
   "outputs": [],
   "source": [
    "# ❓ How much do they pay per night (hint distribution of ...)\n",
    "# Hint, only use the customers that didn't cancel\n"
   ]
  },
  {
   "cell_type": "code",
   "execution_count": null,
   "metadata": {},
   "outputs": [],
   "source": [
    "# ❓ Does the price vary per time of the year? (hint: distribution of ... per month or per year month)\n",
    "# Hint, only use the customers that didn't cancel\n"
   ]
  },
  {
   "cell_type": "code",
   "execution_count": null,
   "metadata": {},
   "outputs": [],
   "source": [
    "# ❓ Is there a difference in daily rate for both hotels?\n",
    "\n"
   ]
  },
  {
   "cell_type": "code",
   "execution_count": null,
   "metadata": {},
   "outputs": [],
   "source": [
    "# ❓ How long do customers stay? Are there any noticeable differences? (hint: you can analyze this variable over YearMonth)\n",
    "# Hint, only use the customers that didn't cancel\n"
   ]
  },
  {
   "cell_type": "code",
   "execution_count": null,
   "metadata": {},
   "outputs": [],
   "source": [
    "# ❓ What variables are correlated with cancellations? (hint use numeric_only=True when making the correlations)\n"
   ]
  },
  {
   "cell_type": "code",
   "execution_count": null,
   "metadata": {},
   "outputs": [],
   "source": [
    "# ❓How does the evolution of bookings per year look like?"
   ]
  },
  {
   "cell_type": "code",
   "execution_count": null,
   "metadata": {},
   "outputs": [],
   "source": [
    "from sklearn.model_selection import cross_val_score\n",
    "from sklearn.impute import SimpleImputer # missing values\n",
    "from sklearn.preprocessing import StandardScaler # Scaling the data to have a mean of 0 and a standard deviation of 1 \n",
    "from sklearn.pipeline import make_pipeline # Composing multiple steps behind each other\n",
    "from sklearn.compose import make_column_transformer # Applying a transformer to a subset of columns\n",
    "from sklearn.preprocessing import OneHotEncoder # Turning categorical data to numeric by making a column for each unique value and denoting it as 0 or 1\n",
    "from sklearn.model_selection import train_test_split"
   ]
  },
  {
   "cell_type": "code",
   "execution_count": null,
   "metadata": {},
   "outputs": [],
   "source": [
    "num_features = [\"LeadTime\",\"ArrivalDateWeekNumber\",\"ArrivalDateDayOfMonth\",\n",
    "                \"StaysInWeekendNights\",\"StaysInWeekNights\",\"Adults\",\"Children\",\n",
    "                \"Babies\",\"PreviousCancellations\",\n",
    "                \"PreviousBookingsNotCanceled\", \"ADR\"]\n",
    "\n",
    "cat_features = [\"hotel\",\"ArrivalDateMonth\",\"Meal\",\"MarketSegment\", \"IsRepeatedGuest\", \"RequiredCarParkingSpaces\", \"TotalOfSpecialRequests\",\n",
    "                \"DistributionChannel\",\"ReservedRoomType\",\"DepositType\",\"CustomerType\"]"
   ]
  },
  {
   "cell_type": "markdown",
   "metadata": {},
   "source": [
    "### ❓ What variable would be a bad idea to one hot encode?\n"
   ]
  },
  {
   "cell_type": "code",
   "execution_count": null,
   "metadata": {},
   "outputs": [],
   "source": [
    "# Divide the data into X and y\n"
   ]
  },
  {
   "cell_type": "code",
   "execution_count": null,
   "metadata": {},
   "outputs": [],
   "source": [
    "# Make a pipeline for the categorical values\n"
   ]
  },
  {
   "cell_type": "code",
   "execution_count": null,
   "metadata": {},
   "outputs": [],
   "source": [
    "# Make a pipeline for the numeric values\n",
    "\n"
   ]
  },
  {
   "cell_type": "code",
   "execution_count": null,
   "metadata": {},
   "outputs": [],
   "source": [
    "# compose the two pipelines you made\n",
    "\n"
   ]
  },
  {
   "cell_type": "code",
   "execution_count": null,
   "metadata": {},
   "outputs": [],
   "source": [
    "# Split the data into training and testing\n"
   ]
  },
  {
   "cell_type": "code",
   "execution_count": null,
   "metadata": {},
   "outputs": [],
   "source": [
    "from sklearn.linear_model import LogisticRegressionCV # linear regression for classification\n",
    "from sklearn.tree import DecisionTreeClassifier # A single decision tree\n",
    "from sklearn.ensemble import HistGradientBoostingClassifier # Fits many decision trees sequentially. Each tree is trained to improve on the performance of all the previous trees.\n",
    "from sklearn.ensemble import RandomForestClassifier # Fits many decision trees in parallel with some added randomness. The final prediction is the average of all trees..\n"
   ]
  },
  {
   "cell_type": "markdown",
   "metadata": {},
   "source": [
    "### ❗ Make sure to use n_jobs = -1 when doing cross validation. Training these models can take a while."
   ]
  },
  {
   "cell_type": "markdown",
   "metadata": {},
   "source": [
    "### ❓ What evaluation metrics do you already know for classification models? Which one will you use and why?"
   ]
  },
  {
   "cell_type": "code",
   "execution_count": null,
   "metadata": {},
   "outputs": [],
   "source": [
    "# Evaluate logistic regression\n",
    "\n"
   ]
  },
  {
   "cell_type": "code",
   "execution_count": null,
   "metadata": {},
   "outputs": [],
   "source": []
  },
  {
   "cell_type": "code",
   "execution_count": null,
   "metadata": {},
   "outputs": [],
   "source": [
    "# Evaluate decision tree\n"
   ]
  },
  {
   "cell_type": "code",
   "execution_count": null,
   "metadata": {},
   "outputs": [],
   "source": []
  },
  {
   "cell_type": "code",
   "execution_count": null,
   "metadata": {},
   "outputs": [],
   "source": [
    "# Evaluate gradient boosting\n"
   ]
  },
  {
   "cell_type": "code",
   "execution_count": null,
   "metadata": {},
   "outputs": [],
   "source": []
  },
  {
   "cell_type": "code",
   "execution_count": null,
   "metadata": {},
   "outputs": [],
   "source": [
    "# Evaluate random forest\n"
   ]
  },
  {
   "cell_type": "code",
   "execution_count": null,
   "metadata": {},
   "outputs": [],
   "source": []
  },
  {
   "cell_type": "markdown",
   "metadata": {},
   "source": [
    "### ❓ Motivate which model is the best and use it on the final part of the data\n"
   ]
  },
  {
   "cell_type": "code",
   "execution_count": null,
   "metadata": {},
   "outputs": [],
   "source": [
    "from sklearn.metrics import # your chosen evaluation metric"
   ]
  },
  {
   "cell_type": "code",
   "execution_count": null,
   "metadata": {},
   "outputs": [],
   "source": [
    "# Fit the final model\n"
   ]
  },
  {
   "cell_type": "code",
   "execution_count": null,
   "metadata": {},
   "outputs": [],
   "source": [
    "# Make your predictions"
   ]
  },
  {
   "cell_type": "code",
   "execution_count": null,
   "metadata": {},
   "outputs": [],
   "source": [
    "# Calculate the final accuracy\n"
   ]
  }
 ],
 "metadata": {
  "kernelspec": {
   "display_name": ".venv",
   "language": "python",
   "name": "python3"
  },
  "language_info": {
   "codemirror_mode": {
    "name": "ipython",
    "version": 3
   },
   "file_extension": ".py",
   "mimetype": "text/x-python",
   "name": "python",
   "nbconvert_exporter": "python",
   "pygments_lexer": "ipython3",
   "version": "3.11.9"
  },
  "orig_nbformat": 4
 },
 "nbformat": 4,
 "nbformat_minor": 2
}
