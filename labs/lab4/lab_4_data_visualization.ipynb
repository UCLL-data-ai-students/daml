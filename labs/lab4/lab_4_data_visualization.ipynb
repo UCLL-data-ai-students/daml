{
 "cells": [
  {
   "cell_type": "markdown",
   "metadata": {},
   "source": [
    "<img src=\"images\\Logo_UCLL_ENG_RGB.png\" style=\"background-color:white;\" />\n",
    "\n",
    "# Data Analytics & Machine learning\n",
    "\n",
    "Lecturers: Aimée Lynn Backiel, Chidi Nweke, Daan Nijs\n",
    "\n",
    "Academic year 2023-2024\n",
    "\n",
    "## Lab 4: Data visualization"
   ]
  },
  {
   "cell_type": "markdown",
   "metadata": {},
   "source": [
    "### Lecture outline\n",
    "\n",
    "1. Recap last week\n",
    "2. Data visualization with Matplotlib, Seaborn and Plotly "
   ]
  },
  {
   "cell_type": "markdown",
   "metadata": {},
   "source": [
    "### Recap of last lecture(s)\n",
    "\n",
    "#### Lab 1\n",
    "\n",
    "1. We ensured we had a valid Python installation.\n",
    "2. We learnt what a virtual environment is:\n",
    "   * Isolated Python executable and packages.\n",
    "   * We created a virtual environment.\n",
    "3. Absolute path vs relative path recap.\n",
    "4. Recap of data structures in Python\n",
    "\n",
    "#### Lab 2\n",
    "1. Installed Pandas\n",
    "2. Learnt how to read data\n",
    "3. Learnt how to calculate mean, mode, median etc.\n",
    "4. Basic exploration of the 4 variables\n",
    "\n",
    "#### Lab 3\n",
    "1. Wrapped up computing summary statistics (mean, median, mode, ...)\n",
    "2. Learnt how to deal with outliers \n",
    "3. Focused on exploration of dat\n",
    "\n"
   ]
  },
  {
   "cell_type": "markdown",
   "metadata": {},
   "source": [
    "### Interpretation of correlation\n",
    "\n",
    "Lab lecture there was a bit of discussion of how interpret correlations. The previous lab said a correlation of 0.75 could be interpreted as follows:\n",
    "\n",
    "> If variable A increases with 1 unit variable B increases with 0.75 units.\n",
    "\n",
    "**That is usually incorrect.** \n",
    "\n",
    "The (sample) correlation $r_{X,Y}$ is given as:\n",
    "\n",
    "$$\n",
    "r_{x,y} = \\frac{cov(x,y)}{(n-1)s_{x}s_{y}} = \\frac{\\sum_{i=1}^{n}{(x_{i} - \\bar{x})(y_{i} - \\bar{y})}}{(n-1)s_{x}s_{y}}\n",
    "$$\n",
    "\n",
    "We have some notation to unpack here.\n",
    "\n",
    "We have two variables $x$ and $y$. These each have a mean $\\bar{x}$ and $\\bar{y}$ pronounced as x bar and y bar respectively, $s_{x}$ and $s_{y}$ are respectively the standard deviations of x and y.\n",
    "\n",
    "The first equality shows us that the correlation $r_{x, y}$ is a normalized version of something called the covariance (cov). The scaling is achieved by dividing by a factor related to the product of the standard deviations of the two variables. This is what ensures that $r_{x,y} \\in [-1, 1]$. \n",
    "\n",
    "Thee covariance expresses the joint variability of two variables. A covariance of 8 means that if variable x increased by 1 the other variable increases by an amount that is dependent on the units and scale of both variables; it doesn't specify a fixed number of units either.\n",
    "\n",
    "Thus, the correct interpretation of a correlation coefficient is: \n",
    "\n",
    "> A correlation coefficient, measures the strength and direction of a linear relationship between two variables, but not the slope of that relationship.\n",
    "\n",
    "Finally, to know how much one variable varies in function of the other we can look at the regression slope:\n",
    "\n",
    "$$\n",
    "\\beta_{y} = r_{x,y}\\frac{s_{x}}{s_{y}}\n",
    "$$\n",
    "\n",
    "The slope of the regression has a deep connection with the correlation. It's the correlation weighted by the proportion of the standard deviations. Logically, if $s_{x} = s_{y}$ the interpretation given last lecture holds. Generally that is not the case, so those that made this remark last lecture were correct. The equation above shows that it is trivial to recover the slope from the correlation.\n",
    "\n",
    "It is important to remember that correlations and the slope of a regression are expressing linear relationships. As discussed last lecture Anscombe's quartet consists of four datasets that have nearly identical simple descriptive statistics, yet have very different distributions and appear very different when graphed. **This highlights the importance of visualizing data and not relying solely on statistical metrics.**"
   ]
  },
  {
   "cell_type": "markdown",
   "metadata": {},
   "source": [
    "### The case"
   ]
  },
  {
   "cell_type": "markdown",
   "metadata": {},
   "source": [
    "Ada Turing Travelogue, or as everyone calls her, Ada just started working part time at her parents travel agency. She has a keen understanding and interest of everything related to applied computer science ranging from server & system management to full stack software development. Through database foundations she already understands how to query data and programming 1 and 2 covered the essentials about the Python programming language. Recently she has just decided to start learning about data analytics & machine learning as well.\n",
    "\n",
    "She uses her skills to connect to the travel agency's database where she finds many, normalized, tables. Ada recalls what she learnt in database foundations and performs all the correct joins. Afterwards she saves the data in the `data/` folder.\n",
    "\n",
    "\n",
    "She finds the following dataset:\n",
    "\n",
    "| Column Name          | Description                                                                                       |\n",
    "| -------------------- | ------------------------------------------------------------------------------------------------- |\n",
    "| SalesID              | Unique identifier for each sale.                                                                  |\n",
    "| Age                  | Age of the traveler.                                                                              |\n",
    "| Country              | Country of origin of the traveler.                                                                |\n",
    "| Membership_Status    | Membership level of the traveler in the booking system; could be 'standard', 'silver', or 'gold'. |\n",
    "| Previous_Purchases   | Number of previous bookings made by the traveler.                                                 |\n",
    "| Destination          | Travel destination chosen by the traveler.                                                        |\n",
    "| Stay_length          | Duration of stay at the destination.                                                              |\n",
    "| Guests               | Number of guests traveling (including the primary traveler).                                             |\n",
    "| Travel_month         | Month in which the travel is scheduled.                                                           |\n",
    "| Months_before_travel | Number of months prior to travel that the booking was made.                                       |\n",
    "| Earlybird_discount   | Boolean flag indicating whether the traveler received an early bird discount.                     |\n",
    "| Package_Type         | Type of travel package chosen by the traveler.                                                    |\n",
    "| Cost                 | Calculated cost of the travel package.                                                            |\n",
    "| Margin | The cost (for the traveler) - what the travel agency pays. |\n",
    " | Additional_Services_Cost| The amount of additional services (towels, car rentals, room service, ...) that was bought during the trip. |\n"
   ]
  },
  {
   "cell_type": "markdown",
   "metadata": {},
   "source": [
    "### Helping Ada explore the dataset"
   ]
  },
  {
   "cell_type": "markdown",
   "metadata": {},
   "source": [
    "The main goal for the remainder of this lab is to explore the data. We will specifically take five columns:\n",
    "\n",
    "* Cost\n",
    "* age\n",
    "* stay length\n",
    "* Destination\n",
    "* Country\n",
    "\n",
    "Our goal is to find interesting relationships between them.\n",
    "\n",
    "As was covered in the book and lecture there are to main data types in analytics: categorical and continuous data. This is a crucial first step in your analysis because it determines what methods make sense on your data.\n"
   ]
  },
  {
   "cell_type": "markdown",
   "metadata": {},
   "source": [
    "**The goal is primarily to find out what influences the cost of the stay.**"
   ]
  },
  {
   "cell_type": "markdown",
   "metadata": {},
   "source": [
    "### Introduction to plotting with Matplotlib, Seaborn and Plotly"
   ]
  },
  {
   "cell_type": "markdown",
   "metadata": {},
   "source": [
    "#### From Exploration to Presentation\n",
    "\n",
    "When dealing with data, there's a journey we often embark on:\n",
    "\n",
    "1. **Exploratory Phase (Exploratory Data Analysis)**: \n",
    "   - **What it is**: At this stage, we're diving into the data, much like a researcher in a lab. We're experimenting, testing hypotheses, and analyzing patterns. It's a phase of discovery, and sometimes it gets technical and intricate.\n",
    "   - **Who it's for**: Primarily for those who are closely working with the data, like data scientists and analysts. It's about understanding, not necessarily communicating.\n",
    "   - **Visuals**: Charts and graphs here can be detailed and complex because they serve as tools for understanding.\n",
    "\n",
    "2. **Presentation Phase (Explanatory Data Visualization)**: \n",
    "   - **What it is**: Once we've gained insights from our exploration, it's time to share them. Think of this as distilling our findings into a clear message or story.\n",
    "   - **Who it's for**: A wider audience, which could include stakeholders, team members, or anyone who needs to understand the main takeaways.\n",
    "   - **Visuals**: Here, simplicity and clarity take the front seat. The visuals are designed to be understood quickly and should align with the principles of clarity, simplicity, accuracy, and relevance.\n",
    "\n",
    "In short, the process starts with a deep dive into the data for insights and ends with a clear, concise presentation of those insights for everyone to grasp."
   ]
  },
  {
   "cell_type": "markdown",
   "metadata": {},
   "source": [
    "In the case of explanatory data analysis the following four principles hold:\n",
    "\n",
    "1. **Clarity**: The main goal is to convey insights in a way that's immediately understandable. If you have to spend too much time figuring out what a chart is saying, then it's not doing its job.\n",
    "\n",
    "2. **Simplicity**: The most effective visuals are often the simplest. It's about getting the message across, not showing off fancy graphics.\n",
    "\n",
    "3. **Accuracy**: It's vital to represent data truthfully. Misleading visuals not only harm credibility but can also lead to wrong conclusions.\n",
    "\n",
    "4. **Relevance**: Every piece of information on your visual should serve a purpose. If it doesn't help convey the main insight, consider removing it.\n",
    "\n",
    "With these principles in mind, our aim in this lab is to create visuals that stand on their own and communicate effectively. We want every chart or graph to be so intuitive that it needs little to no explanation."
   ]
  },
  {
   "cell_type": "markdown",
   "metadata": {},
   "source": [
    "#### Reading and exploring data"
   ]
  },
  {
   "cell_type": "code",
   "execution_count": null,
   "metadata": {},
   "outputs": [],
   "source": [
    "import pandas as pd # by convention\n",
    "pd.options.display.float_format = '{:.2f}'.format"
   ]
  },
  {
   "cell_type": "code",
   "execution_count": null,
   "metadata": {},
   "outputs": [],
   "source": [
    "travel_dataset = pd.read_csv(\"data/lab_4_dataset.csv\")"
   ]
  },
  {
   "cell_type": "markdown",
   "metadata": {},
   "source": [
    "### Introduction to plotting with Matplotlib, Seaborn and Plotly"
   ]
  },
  {
   "cell_type": "markdown",
   "metadata": {},
   "source": [
    "We have helped Ada so far to gain insights into her data by wrangling it into shape and making tables to summarize data. Now, to further enhance our understanding and visualize the patterns, trends, and potential anomalies, we will be plotting the data. \n",
    "\n",
    "Making data visual simplifies complex datasets and also makes it more intuitive for stakeholders to grasp key takeaways. By transitioning from tabular summaries to graphical plots, we can also communicate more effectively."
   ]
  },
  {
   "cell_type": "markdown",
   "metadata": {},
   "source": [
    "#### Matplotlib\n",
    "\n",
    "<center>\n",
    "<img src=\"https://matplotlib.org/stable/_images/sphx_glr_logos2_003.png\" style=\"background-color:white\">\n",
    "</center>"
   ]
  },
  {
   "cell_type": "markdown",
   "metadata": {},
   "source": [
    "The name matplotlib comes from matrix plotting library. It's a descendant from the MATLAB programming language. It's by now an older library (2003) that has some quirks, but it is still important to know the basics of Matplotlib since other Python plotting libraries build on top of it. "
   ]
  },
  {
   "cell_type": "code",
   "execution_count": null,
   "metadata": {},
   "outputs": [],
   "source": [
    "# uncomment to install\n",
    "# %pip install seaborn \n",
    "# %pip install plotly "
   ]
  },
  {
   "cell_type": "code",
   "execution_count": null,
   "metadata": {},
   "outputs": [],
   "source": [
    "import matplotlib.pyplot as plt # convention\n",
    "import numpy as np"
   ]
  },
  {
   "cell_type": "markdown",
   "metadata": {},
   "source": [
    "##### Plotting univariate data"
   ]
  },
  {
   "cell_type": "markdown",
   "metadata": {},
   "source": [
    "\n",
    "The table below is a summary of the different types of plots for **numeric data**.\n",
    "\n",
    "| Plot Type          | Description                                           | When to Use                                                      |\n",
    "|--------------------|-------------------------------------------------------|------------------------------------------------------------------|\n",
    "| **Histogram**      | Displays the distribution of a single continuous variable by dividing the data into bins and showing the frequency of observations in each bin. | To visualize the distribution of a variable, especially to identify its central tendency (mean), spread (standard deviation), and skewness (are low or high values more common).  |\n",
    "| **Box Plot (or Whisker Plot)** | Shows the distribution of a variable using quartiles and displays potential outliers. | To get a summary of a variable's distribution in terms of its median, quartiles, and possible outliers. Useful when comparing the distribution across categories. |\n",
    "| **Density Plot (or Kernel Density Plot)** | Provides a smoothed version of a histogram. | To visualize the distribution of a variable in a continuous manner. Particularly useful when comparing the distributions of multiple variables on the same plot. |\n",
    "| **Violin Plot**    | Combines aspects of box plots and density plots.       | To visualize both the distribution and summary statistics of a variable. Especially useful when comparing across different categories. |\n"
   ]
  },
  {
   "cell_type": "markdown",
   "metadata": {},
   "source": [
    "The syntax for plotting is generally `plt.<plotType>(x, y)`. "
   ]
  },
  {
   "cell_type": "code",
   "execution_count": null,
   "metadata": {},
   "outputs": [],
   "source": [
    "plt.boxplot(travel_dataset[\"cost\"]); # Matplotlib prints things while plotting, the semicolon an suppress it."
   ]
  },
  {
   "cell_type": "markdown",
   "metadata": {},
   "source": [
    "A boxplot provides a comprehensive view of a dataset's distribution, offering more detailed insights than typical tables. The central line within the box represents the median, splitting the data into its lower and upper halves. The box itself is framed by two lines: the lower boundary represents the 25th percentile (or Q1), meaning 25% of the data lies below this value, and the upper boundary denotes the 75th percentile (or Q3), indicating that 75% of the data is below this point.\n",
    "\n",
    "The range between Q3 and Q1 is known as the Interquartile Range (IQR). Beyond the box, the plot extends 'whiskers'. Their \"distance\" is calculated as `1.5 * IQR` both above and below the box, providing a range for typical data points. Any data outside these whiskers can be considered outliers."
   ]
  },
  {
   "cell_type": "code",
   "execution_count": null,
   "metadata": {},
   "outputs": [],
   "source": [
    "plt.hist(travel_dataset[\"age\"], bins=50);"
   ]
  },
  {
   "cell_type": "code",
   "execution_count": null,
   "metadata": {},
   "outputs": [],
   "source": []
  },
  {
   "cell_type": "markdown",
   "metadata": {},
   "source": [
    "For categorical data, categories can often serve as a basis for comparison in other plots, like boxplots. This means you can use a single category to differentiate data within such plots. You can also produce the same type of plot multiple times, once for each category, to analyze patterns within individual categories.\n",
    "\n",
    "\n",
    "| Plot Type     | Description                                          | When to Use                                         |\n",
    "|---------------|------------------------------------------------------|-----------------------------------------------------|\n",
    "| **Count Plot**| Represents the frequency or count of each category.  | To see how often each category appears in the data. |"
   ]
  },
  {
   "cell_type": "code",
   "execution_count": null,
   "metadata": {},
   "outputs": [],
   "source": [
    "country_counts = travel_dataset[\"country\"].value_counts()\n",
    "plt.bar(x=country_counts.index, height=country_counts);"
   ]
  },
  {
   "cell_type": "markdown",
   "metadata": {},
   "source": [
    "##### ❓ How do the plots so far score on our 4 criteria:\n",
    "\n",
    "1. **Clarity**: The main goal is to convey insights in a way that's immediately understandable. If you have to spend too much time figuring out what a chart is saying, then it's not doing its job.\n",
    "\n",
    "2. **Simplicity**: The most effective visuals are often the simplest. It's about getting the message across, not showing off fancy graphics.\n",
    "\n",
    "3. **Accuracy**: It's vital to represent data truthfully. Misleading visuals not only harm credibility but can also lead to wrong conclusions.\n",
    "\n",
    "4. **Relevance**: Every piece of information on your visual should serve a purpose. If it doesn't help convey the main insight, consider removing it.\n"
   ]
  },
  {
   "cell_type": "markdown",
   "metadata": {},
   "source": [
    "##### Customizing our graphs "
   ]
  },
  {
   "cell_type": "markdown",
   "metadata": {},
   "source": [
    "In order to use matplotlib properly it's important to understand how the library expects you to use it. Many of the qualms people have of matplotlib are due to fighting against it's API. To understand how the library wants to be used it is always a good idea to consult <a href=\"https://matplotlib.org/stable/users/explain/quick_start.html\">the documentation</a>."
   ]
  },
  {
   "cell_type": "markdown",
   "metadata": {},
   "source": [
    "<center>\n",
    "<img src=\"https://matplotlib.org/stable/_images/anatomy.png\" style=\"background-color:white;width:50%\">\n",
    "</center>\n",
    "\n",
    "\n",
    "The image below explains the key idea of Matplotlib. Plots are made on a `Figure` object. A `Figure` object can contain multiple `Axes`. `Axes` are the things you are plotting on. THere are more elements than this, but for the scope of this course this is enough to get started. \n",
    "\n",
    "Instead of using `plt.<plotType>` as we have done in the past, we will explicitly make a `Figure` and plot on the axis. This allows us to configure the `Figure`.\n",
    "\n",
    "The figure above shows many of the customization options you have."
   ]
  },
  {
   "cell_type": "code",
   "execution_count": null,
   "metadata": {},
   "outputs": [],
   "source": [
    "fig, ax = plt.subplots() # Notice the S, subplots not subplot.\n",
    "ax.boxplot(travel_dataset[\"cost\"])\n",
    "ax.set_title(\"Distribution of the cost of travel\")\n",
    "ax.set_ylabel(\"Cost (in €)\")\n",
    "ax.set_xlabel(\"\")\n",
    "ax.set_xticklabels(\"\");"
   ]
  },
  {
   "cell_type": "markdown",
   "metadata": {},
   "source": [
    "We can also have multiple axes in a figure. We can do that by specifying the rows and columns in `plt.subplots()`."
   ]
  },
  {
   "cell_type": "code",
   "execution_count": null,
   "metadata": {},
   "outputs": [],
   "source": [
    "fig, ax = plt.subplots(nrows=1, ncols=2)\n",
    "fig.suptitle(\"Before and after of our plot\")\n",
    "ax[0].boxplot(travel_dataset[\"cost\"])\n",
    "ax[0].set_title(\"Distribution of the cost of travel\")\n",
    "ax[0].set_ylabel(\"Cost (in €)\")\n",
    "ax[0].set_xlabel(\"\")\n",
    "ax[0].set_xticklabels(\"\");\n",
    "ax[1].boxplot(travel_dataset[\"cost\"]);"
   ]
  },
  {
   "cell_type": "markdown",
   "metadata": {},
   "source": [
    "Notice how adding `nrows` and `ncols` turns our `Axes` into a (Numpy) array. To plot we simply index the right one and plot. The next step we need to do is make our plot larger. That is done by using the `figsize` argument in `plt.subplots`. "
   ]
  },
  {
   "cell_type": "code",
   "execution_count": null,
   "metadata": {},
   "outputs": [],
   "source": [
    "fig, ax = plt.subplots(1,2, figsize=(12, 6))\n",
    "fig.suptitle(\"Before and after of our plot\")\n",
    "ax[0].boxplot(travel_dataset[\"cost\"])\n",
    "ax[0].set_title(\"Distribution of the cost of travel\")\n",
    "ax[0].set_ylabel(\"Cost (in €)\")\n",
    "ax[0].set_xlabel(\"\")\n",
    "ax[0].set_xticklabels(\"\");\n",
    "ax[1].boxplot(travel_dataset[\"cost\"]);"
   ]
  },
  {
   "cell_type": "markdown",
   "metadata": {},
   "source": [
    "##### ❓ Make a figure that consists of two axes with a histogram and a boxplot for our numeric variables. Ensure the plot takes into account clarity. Play around with the bins argument of `plt.hist`"
   ]
  },
  {
   "cell_type": "markdown",
   "metadata": {},
   "source": [
    "There is an additional way to make that you can use if you do not want to interact directly with Matplotlib. Selecting data with Pandas and using `.plot()` will make a similar plot with less effort. It's still important to know the fundamentals of Matplotlib because it still uses it under the hood and customization may still require using the subplots API. We will show you two styles of interacting with it."
   ]
  },
  {
   "cell_type": "code",
   "execution_count": null,
   "metadata": {},
   "outputs": [],
   "source": [
    "travel_dataset[\"country\"].value_counts().plot(kind=\"bar\")"
   ]
  },
  {
   "cell_type": "code",
   "execution_count": null,
   "metadata": {},
   "outputs": [],
   "source": [
    "fig, ax = plt.subplots(1, 2, figsize=(12, 6))\n",
    "fig.suptitle(\"Departure locations and destinations\")\n",
    "ax[0].set_title(\"Country of origin\")\n",
    "ax[0].set_ylabel(\"Frequency\")\n",
    "travel_dataset[\"country\"].value_counts().plot(kind=\"bar\", ax=ax[0])\n",
    "travel_dataset[\"destination\"].value_counts().plot(kind=\"bar\", title=\"destination\", ax=ax[1], ylabel=\"Frequency\");"
   ]
  },
  {
   "cell_type": "markdown",
   "metadata": {},
   "source": [
    "#### Bivariate and multivariate plotting with Seaborn\n",
    "\n",
    "<center>\n",
    "<img src=\"https://seaborn.pydata.org/_images/logo-wide-lightbg.svg\" style=\"background-color:white;width:50%\">\n",
    "</center>\n",
    "\n",
    "\n"
   ]
  },
  {
   "cell_type": "markdown",
   "metadata": {},
   "source": [
    "Seaborn is the next plotting library we will use. It should be your go-to in the Python, especially if you're using Pandas. It was specifically built with the Pandas library and data analysis in mind. It makes doing certain plots a lot easier and has a number of sensible defaults (e.g., colors) that are better than Matplotlib. At the end of the day, it is fully built on top of Matplotlib so everything we have learn about customization still holds. We will continue our analysis using Seaborn and see how it can aid us in specifically bivariate and multivariate analysis."
   ]
  },
  {
   "cell_type": "code",
   "execution_count": null,
   "metadata": {},
   "outputs": [],
   "source": [
    "import seaborn as sns"
   ]
  },
  {
   "cell_type": "markdown",
   "metadata": {},
   "source": [
    "Last lecture we looked at a number of relationships we found interesting:\n",
    "\n",
    "* Cost and destination\n",
    "* Cost and Country\n",
    "* Cost and Destination\n",
    "* Age and Destination\n",
    "* Country and destination"
   ]
  },
  {
   "cell_type": "markdown",
   "metadata": {},
   "source": [
    "##### Numeric - Numeric Data\n",
    "\n",
    "| Plot Type          | Description                                           | When to Use                                                      |\n",
    "|--------------------|-------------------------------------------------------|------------------------------------------------------------------|\n",
    "| **Scatter Plot**   | Displays values for two variables for a set of data using dots. | To identify relationships or correlations between two numeric variables. |\n",
    "| **Hexbin Plot**    | Groups points into hexagonal bins and colors them based on the count of points in each bin. | When there's a large amount of data that may overlap in a scatter plot. Useful for visualizing density and relationships between two numeric variables. |\n",
    "| **Line Plot**      | Connects data points with lines. Typically used for **time series data**. | To visualize trends over time or the relationship between two numeric variables when there's an ordering to the data points. Do not use this if there's no possible observations between the lines. |\n",
    "| **Joint Plot**     | Combines scatter plots with histograms for each variable. | To view the relationship between two numeric variables and their individual distributions simultaneously. |\n",
    "\n"
   ]
  },
  {
   "cell_type": "code",
   "execution_count": null,
   "metadata": {},
   "outputs": [],
   "source": [
    "fig, ax = plt.subplots(figsize=(12, 6))\n",
    "ax.set_title(\"Age versus cost of travel\")\n",
    "sns.scatterplot(travel_dataset, x=\"age\", y=\"cost\", ax=ax);"
   ]
  },
  {
   "cell_type": "markdown",
   "metadata": {},
   "source": [
    "A a glance we can see that Seaborn comes with a number of sensible defaults:\n",
    "\n",
    "1. The x and y-axis are labeled\n",
    "2. Generally the colors look a bit easier on the eyes than matplotlib.\n",
    "\n",
    "It also has plot types that do not exist natively in Matplotlib such as `sns.countplot` and `sns.jointplot`."
   ]
  },
  {
   "cell_type": "code",
   "execution_count": null,
   "metadata": {},
   "outputs": [],
   "source": [
    "import matplotlib.ticker as ticker"
   ]
  },
  {
   "cell_type": "code",
   "execution_count": null,
   "metadata": {},
   "outputs": [],
   "source": [
    "fig, ax = plt.subplots(figsize=(12, 6))\n",
    "ax.set_title(\"Age versus cost of travel\")\n",
    "sns.scatterplot(travel_dataset, x=\"age\", y=\"cost\", ax=ax);"
   ]
  },
  {
   "cell_type": "code",
   "execution_count": null,
   "metadata": {},
   "outputs": [],
   "source": [
    "g = sns.jointplot(travel_dataset, x=\"age\", y=\"cost\", kind=\"hex\");\n",
    "g.fig.subplots_adjust(top=0.9) # Add some spacing \n",
    "g.fig.suptitle(\"Relationship between age and cost\")\n",
    "g.ax_joint.yaxis.set_major_locator(ticker.MultipleLocator(5000)) # This is how to increase the tick frequency "
   ]
  },
  {
   "cell_type": "markdown",
   "metadata": {},
   "source": [
    "Notice how Seaborn sometimes returns objects that wrap Matplotlib `Figure`s and `Axes`. It's a higher level interface to Matplotlib so we still need to dip into the lower level interface to do certain things."
   ]
  },
  {
   "cell_type": "markdown",
   "metadata": {},
   "source": [
    "##### ❓ The last plot is a combination of a hexgrid and a histogram. How well does it score in terms of our 4 criteria:\n",
    "\n",
    "\n",
    "1. **Clarity**: The main goal is to convey insights in a way that's immediately understandable. If you have to spend too much time figuring out what a chart is saying, then it's not doing its job.\n",
    "\n",
    "2. **Simplicity**: The most effective visuals are often the simplest. It's about getting the message across, not showing off fancy graphics.\n",
    "\n",
    "3. **Accuracy**: It's vital to represent data truthfully. Misleading visuals not only harm credibility but can also lead to wrong conclusions.\n",
    "\n",
    "4. **Relevance**: Every piece of information on your visual should serve a purpose. If it doesn't help convey the main insight, consider removing it."
   ]
  },
  {
   "cell_type": "markdown",
   "metadata": {},
   "source": [
    "##### Categorical - Numeric Data: small multiples and colour coding\n"
   ]
  },
  {
   "cell_type": "markdown",
   "metadata": {},
   "source": [
    "**Small multiples**\n",
    "\n",
    "Imagine you have a lot of similar data points from different categories, and you want to compare them side by side. This is where the magic of small multiples comes into play.\n",
    "\n",
    "**What Are Small Multiples?**\n",
    "Small multiples are a series of similar graphs or charts using the same scale and axes, allowing them to be easily compared. They divide data by categories and present each category in its own panel within a larger visualization.\n",
    "\n",
    "**Why Use Them?**\n",
    "\n",
    "1. **Consistency**: Because each graph uses the same scale and axes, it's easy to compare data across categories directly.\n",
    "2. **Clarity**: By separating data into individual panels, the viewer can clearly see patterns or trends within each category without them being obscured by other data.\n",
    "3. **Efficiency**: Instead of toggling between different views or using interactive tools to sift through data, viewers get a simultaneous snapshot of all categories at once.\n",
    "\n",
    "**Remember**: \n",
    "The general idea behind small multiples is consistency in presentation but separation in data. By creating one graph per category, you're allowing your audience to quickly and efficiently draw insights from a collective set of data points, making your presentation both comprehensive and comprehensible."
   ]
  },
  {
   "cell_type": "code",
   "execution_count": null,
   "metadata": {},
   "outputs": [],
   "source": [
    "g = sns.displot(travel_dataset, x=\"cost\", col=\"package_Type\")\n",
    "g.fig.suptitle(\"Distribution of the cost per package type\")\n",
    "g.fig.subplots_adjust(top=0.85)"
   ]
  },
  {
   "cell_type": "code",
   "execution_count": null,
   "metadata": {},
   "outputs": [],
   "source": [
    "fig, ax = plt.subplots(figsize=(12,6))\n",
    "ax.set_title(\"Distribution of cost per country\")\n",
    "sns.boxplot(travel_dataset, x=\"country\", y=\"cost\",ax=ax)"
   ]
  },
  {
   "cell_type": "markdown",
   "metadata": {},
   "source": [
    "**Color-Coding**\n",
    "\n",
    "Sometimes, when we have multiple categories of data, it can be effective to display them all on one graph, using color as a key differentiator. \n",
    "\n",
    "**Why Use Color-Coding?**\n",
    "\n",
    "1. **Unified View**: One of the main advantages of using color is that it presents all the categories in a single, unified plot. This can provide a holistic view and show interactions or overlaps between categories.\n",
    " \n",
    "2. **Space Efficiency**: Instead of dividing your canvas into multiple sections, color-coding allows you to utilize the entire space for a singular, impactful visualization.\n",
    "\n",
    "3. **Quick Comparisons**: With the right color choices, the eye can quickly discern between categories and compare their relative positions or values.\n",
    "\n",
    "**When is Color-Coding Useful?**\n",
    "\n",
    "1. **Limited Categories**: Color-coding works best when the number of categories is limited. If there are too many categories, the plot can become cluttered and colors hard to distinguish.\n",
    "\n",
    "2. **Overlapping Data Points**: If you're interested in seeing where data points from different categories intersect or overlap, using color on a single plot can be very effective.\n",
    "\n",
    "3. **Emphasis on Relationships**: When the relationship or interaction between categories is more important than individual category trends, a color-coded unified plot can be invaluable.\n",
    "\n",
    "\n",
    "**Comparison with Small Multiples**: \n",
    "While small multiples separate data by categories into individual panels for clarity, color-coded plots display all data on one graph for a unified perspective. The choice between them often depends on the specific goals of the visualization and the nature of the data."
   ]
  },
  {
   "cell_type": "code",
   "execution_count": null,
   "metadata": {},
   "outputs": [],
   "source": [
    "fig, ax = plt.subplots(figsize=(12,6))\n",
    "ax.set_title(\"Distribution of cost per package type\")\n",
    "sns.histplot(travel_dataset, x=\"cost\", hue=\"package_Type\",ax=ax)"
   ]
  },
  {
   "cell_type": "markdown",
   "metadata": {},
   "source": [
    "\n",
    "\n",
    "##### Categorical - Categorical Data\n",
    "\n",
    "| Plot Type          | Description                                           | When to Use                                                      |\n",
    "|--------------------|-------------------------------------------------------|------------------------------------------------------------------|\n",
    "| **Contingency Table (or Cross Tabulation)** | Shows the frequency of combinations of categories. | To summarize the relationship between two categorical variables in tabular form. |\n"
   ]
  },
  {
   "cell_type": "code",
   "execution_count": null,
   "metadata": {},
   "outputs": [],
   "source": [
    "fig, ax = plt.subplots(figsize=(8,8))\n",
    "ax.set_title(\"The number of visitors per destination\")\n",
    "sns.countplot(data=travel_dataset, x=\"country\",ax=ax)"
   ]
  },
  {
   "cell_type": "markdown",
   "metadata": {},
   "source": [
    "Now create the same kind of plot for Countrie and Destinations."
   ]
  },
  {
   "cell_type": "code",
   "execution_count": null,
   "metadata": {},
   "outputs": [],
   "source": []
  },
  {
   "cell_type": "markdown",
   "metadata": {},
   "source": [
    "##### Multivariate analysis "
   ]
  },
  {
   "cell_type": "markdown",
   "metadata": {},
   "source": [
    "**Multivariate Plots: Merging Small Multiples with Color-Coding**\n",
    "\n",
    "**The combination's Strength**:\n",
    "- **Depth & Breadth**: By pairing small multiples with color-coding, you can showcase multiple data dimensions at once.\n",
    "- **Rich Insights**: Great for spotting intricate patterns and trends.\n",
    "  \n",
    "**Challenges**:\n",
    "- **Information Overload**: Can be overwhelming due to the sheer amount of data presented.\n",
    "- **Clarity & Legibility**: Risk of visual clutter. Keep designs clean and distinct.\n",
    "\n",
    "**Best Use Cases**:\n",
    "- **In-depth Exploration**: Ideal for deep data dives.\n",
    "- **Specialized Audiences**: Suited for experts familiar with the data or domain.\n",
    "  \n",
    "**Conclusion**: \n",
    "Combining small multiples with color-coding offers a detailed data view, but it's essential to consider the audience. While powerful for **exploration**, it may be too dense for general presentations (explanation).\n"
   ]
  },
  {
   "cell_type": "markdown",
   "metadata": {},
   "source": [
    "The true power of seaborn lies within the `hue` and `color` arguments. We can use that to make powerful graphs as follows:"
   ]
  },
  {
   "cell_type": "code",
   "execution_count": null,
   "metadata": {},
   "outputs": [],
   "source": [
    "fig, ax = plt.subplots(figsize=(8,8))\n",
    "ax.set_title(\"Additional services vs cost, separated by package type\")\n",
    "sns.scatterplot(travel_dataset, x=\"additional_services_cost\", y=\"cost\", hue=\"package_Type\",ax=ax)"
   ]
  },
  {
   "cell_type": "code",
   "execution_count": null,
   "metadata": {},
   "outputs": [],
   "source": [
    "plot = sns.relplot(travel_dataset, x=\"age\", y=\"cost\", col=\"country\", col_wrap=4, hue=\"package_Type\");\n",
    "plot.fig.suptitle(\"Relationship between cost and age by country and package type\");\n",
    "plot.fig.subplots_adjust(top=0.9) # Ensure 10 % of the space is left for the title"
   ]
  }
 ],
 "metadata": {
  "kernelspec": {
   "display_name": ".venv",
   "language": "python",
   "name": "python3"
  },
  "language_info": {
   "codemirror_mode": {
    "name": "ipython",
    "version": 3
   },
   "file_extension": ".py",
   "mimetype": "text/x-python",
   "name": "python",
   "nbconvert_exporter": "python",
   "pygments_lexer": "ipython3",
   "version": "3.11.0"
  },
  "orig_nbformat": 4
 },
 "nbformat": 4,
 "nbformat_minor": 2
}
