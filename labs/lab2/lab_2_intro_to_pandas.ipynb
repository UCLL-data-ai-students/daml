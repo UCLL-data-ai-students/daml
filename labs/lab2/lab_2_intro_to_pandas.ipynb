{
 "cells": [
  {
   "cell_type": "markdown",
   "metadata": {},
   "source": [
    "<img src=\"images\\Logo_UCLL_ENG_RGB.png\" style=\"background-color:white;\" />\n",
    "\n",
    "# Data Analytics & Machine learning\n",
    "\n",
    "Lecturers: Aimée Lynn Backiel, Chidi Nweke, Daan Nijs\n",
    "\n",
    "Academic year 2023-2024\n",
    "\n",
    "## Lab 2: Introduction to the case and Pandas"
   ]
  },
  {
   "cell_type": "markdown",
   "metadata": {},
   "source": [
    "### Lecture outline\n",
    "\n",
    "1. Recap last week\n",
    "2. Introduction to the case\n",
    "3. Data exploration using Pandas\n",
    "   1. Univariate analysis\n",
    "   2. Bivariate analysis"
   ]
  },
  {
   "cell_type": "markdown",
   "metadata": {},
   "source": [
    "### Recap of last lecture(s)\n",
    "\n",
    "#### Week 1\n",
    "\n",
    "1. We ensured we had a valid Python installation.\n",
    "2. We learnt what a virtual environment is:\n",
    "   * Isolated Python executable and packages.\n",
    "   * We created a virtual environment.\n",
    "3. Absolute path vs relative path recap.\n",
    "4. Recap of data structures in Python"
   ]
  },
  {
   "cell_type": "markdown",
   "metadata": {},
   "source": [
    "### The case"
   ]
  },
  {
   "cell_type": "markdown",
   "metadata": {},
   "source": [
    "Ada Turing Travelogue, or as everyone calls her, Ada just started working part time at her parents travel agency. She has a keen understanding and interest of everything related to applied computer science ranging from server & system management to full stack software development. Through database foundations she already understands how to query data and programming 1 and 2 covered the essentials about the Python programming language. Recently she has just decided to start learning about data analytics & machine learning as well.\n",
    "\n",
    "She uses her skills to connect to the travel agency's database where she finds many, normalized, tables. Ada recalls what she learnt in database foundations and performs all the correct joins. Afterwards she saves the data in the `data/` folder.\n",
    "\n",
    "\n",
    "She finds the following dataset:\n",
    "\n",
    "| Column Name          | Description                                                                                       |\n",
    "| -------------------- | ------------------------------------------------------------------------------------------------- |\n",
    "| SalesID              | Unique identifier for each sale.                                                                  |\n",
    "| Age                  | Age of the traveler.                                                                              |\n",
    "| Country              | Country of origin of the traveler.                                                                |\n",
    "| Membership_Status    | Membership level of the traveler in the booking system; could be 'standard', 'silver', or 'gold'. |\n",
    "| Previous_Purchases   | Number of previous bookings made by the traveler.                                                 |\n",
    "| Destination          | Travel destination chosen by the traveler.                                                        |\n",
    "| Stay_length          | Duration of stay at the destination.                                                              |\n",
    "| Guests               | Number of guests traveling (including the primary traveler).                                             |\n",
    "| Travel_month         | Month in which the travel is scheduled.                                                           |\n",
    "| Months_before_travel | Number of months prior to travel that the booking was made.                                       |\n",
    "| Earlybird_discount   | Boolean flag indicating whether the traveler received an early bird discount.                     |\n",
    "| Package_Type         | Type of travel package chosen by the traveler.                                                    |\n",
    "| Cost                 | Calculated cost of the travel package.                                                            |\n",
    "| Margin | The cost (for the traveler) - what the travel agency pays. |\n",
    " | Additional_Services_Cost| The amount of additional services (towels, car rentals, room service, ...) that was bought during the trip. |\n"
   ]
  },
  {
   "cell_type": "markdown",
   "metadata": {},
   "source": [
    "### Helping Ada explore the dataset"
   ]
  },
  {
   "cell_type": "markdown",
   "metadata": {},
   "source": [
    "The main goal for the remainder of this lab is to explore the data. We will specifically take four columns:\n",
    "\n",
    "* Cost\n",
    "* age\n",
    "* stay length\n",
    "* Destination\n",
    "\n",
    "Our goal is to find interesting relationships between them.\n",
    "\n",
    "As was covered in the book and lecture there are to main data types in analytics: categorical and continuous data. This is a crucial first step in your analysis because it determines what methods make sense on your data.\n"
   ]
  },
  {
   "cell_type": "markdown",
   "metadata": {},
   "source": [
    "**The goal is primarily to find out what influences the cost of the stay.**"
   ]
  },
  {
   "cell_type": "markdown",
   "metadata": {},
   "source": [
    "### Introduction to Pandas\n",
    "\n",
    "<center><img src=\"images\\pandas_logo.png\"  style=\"background-color:white;\"></center>"
   ]
  },
  {
   "cell_type": "markdown",
   "metadata": {},
   "source": [
    "Pandas stands for panel data, a type of dataset used in economics. Although this was the reason Pandas was invented, it is widely used in across analytics and one of Python's many \"killer apps\". Essentially, it's a package that makes Python unique compared to some of its competitors."
   ]
  },
  {
   "cell_type": "markdown",
   "metadata": {},
   "source": [
    "#### Installing Pandas"
   ]
  },
  {
   "cell_type": "markdown",
   "metadata": {},
   "source": [
    "\n",
    "Before we start it is a good idea to check if you have pandas installed yet. You can do that with the following command in a notebook cell `!pip list`. Notice the exclamation mark (!), it allows you to run things in a code cell as it were a terminal. You can also open the terminal itself and write `pip list`.\n"
   ]
  },
  {
   "cell_type": "code",
   "execution_count": 1,
   "metadata": {},
   "outputs": [
    {
     "name": "stdout",
     "output_type": "stream",
     "text": [
      "Package                       Version\n",
      "----------------------------- --------\n",
      "accessible-pygments           0.0.4\n",
      "alabaster                     0.7.13\n",
      "asttokens                     2.2.1\n",
      "attrs                         23.1.0\n",
      "Babel                         2.12.1\n",
      "backcall                      0.2.0\n",
      "beautifulsoup4                4.12.2\n",
      "black                         23.9.1\n",
      "certifi                       2023.5.7\n",
      "charset-normalizer            3.1.0\n",
      "click                         8.1.3\n",
      "colorama                      0.4.6\n",
      "comm                          0.1.3\n",
      "debugpy                       1.6.7\n",
      "decorator                     5.1.1\n",
      "docutils                      0.18.1\n",
      "executing                     1.2.0\n",
      "fastjsonschema                2.17.1\n",
      "flake8                        6.1.0\n",
      "greenlet                      2.0.2\n",
      "idna                          3.4\n",
      "imagesize                     1.4.1\n",
      "importlib-metadata            6.6.0\n",
      "ipykernel                     6.23.1\n",
      "ipython                       8.14.0\n",
      "jedi                          0.18.2\n",
      "Jinja2                        3.1.2\n",
      "joblib                        1.3.2\n",
      "jsonschema                    4.17.3\n",
      "jupyter-book                  0.15.1\n",
      "jupyter-cache                 0.6.1\n",
      "jupyter_client                8.2.0\n",
      "jupyter_core                  5.3.0\n",
      "jupytercards                  2.5.5\n",
      "JupyterQuiz                   2.6.2\n",
      "latexcodec                    2.0.1\n",
      "linkify-it-py                 2.0.2\n",
      "markdown-it-py                2.2.0\n",
      "MarkupSafe                    2.1.3\n",
      "matplotlib-inline             0.1.6\n",
      "mccabe                        0.7.0\n",
      "mdit-py-plugins               0.3.5\n",
      "mdurl                         0.1.2\n",
      "mypy-extensions               1.0.0\n",
      "myst-nb                       0.17.2\n",
      "myst-parser                   0.18.1\n",
      "nbclient                      0.7.4\n",
      "nbformat                      5.9.0\n",
      "nest-asyncio                  1.5.6\n",
      "numpy                         1.24.3\n",
      "packaging                     23.1\n",
      "pandas                        2.0.2\n",
      "parso                         0.8.3\n",
      "pathspec                      0.11.2\n",
      "pickleshare                   0.7.5\n",
      "pip                           23.1.2\n",
      "platformdirs                  3.5.1\n",
      "prompt-toolkit                3.0.38\n",
      "psutil                        5.9.5\n",
      "pure-eval                     0.2.2\n",
      "pybtex                        0.24.0\n",
      "pybtex-docutils               1.0.2\n",
      "pycodestyle                   2.11.0\n",
      "pydata-sphinx-theme           0.13.3\n",
      "pyflakes                      3.1.0\n",
      "Pygments                      2.15.1\n",
      "pyrsistent                    0.19.3\n",
      "python-dateutil               2.8.2\n",
      "pytz                          2023.3\n",
      "pywin32                       306\n",
      "PyYAML                        6.0\n",
      "pyzmq                         25.1.0\n",
      "requests                      2.31.0\n",
      "scikit-learn                  1.3.0\n",
      "scipy                         1.9.3\n",
      "setuptools                    67.8.0\n",
      "six                           1.16.0\n",
      "snowballstemmer               2.2.0\n",
      "soupsieve                     2.4.1\n",
      "Sphinx                        5.0.2\n",
      "sphinx-book-theme             1.0.1\n",
      "sphinx-comments               0.0.3\n",
      "sphinx-copybutton             0.5.2\n",
      "sphinx_design                 0.3.0\n",
      "sphinx_external_toc           0.3.1\n",
      "sphinx-jupyterbook-latex      0.5.2\n",
      "sphinx-multitoc-numbering     0.1.3\n",
      "sphinx-thebe                  0.2.1\n",
      "sphinx-togglebutton           0.3.2\n",
      "sphinxcontrib-applehelp       1.0.4\n",
      "sphinxcontrib-bibtex          2.5.0\n",
      "sphinxcontrib-devhelp         1.0.2\n",
      "sphinxcontrib-htmlhelp        2.0.1\n",
      "sphinxcontrib-jsmath          1.0.1\n",
      "sphinxcontrib-qthelp          1.0.3\n",
      "sphinxcontrib-serializinghtml 1.1.5\n",
      "SQLAlchemy                    2.0.15\n",
      "stack-data                    0.6.2\n",
      "tabulate                      0.9.0\n",
      "threadpoolctl                 3.2.0\n",
      "tornado                       6.3.2\n",
      "traitlets                     5.9.0\n",
      "typing_extensions             4.6.3\n",
      "tzdata                        2023.3\n",
      "uc-micro-py                   1.0.2\n",
      "urllib3                       2.0.2\n",
      "wcwidth                       0.2.6\n",
      "wheel                         0.40.0\n",
      "zipp                          3.15.0\n"
     ]
    },
    {
     "name": "stderr",
     "output_type": "stream",
     "text": [
      "\n",
      "[notice] A new release of pip is available: 23.1.2 -> 23.2.1\n",
      "[notice] To update, run: python.exe -m pip install --upgrade pip\n"
     ]
    }
   ],
   "source": [
    "!pip list"
   ]
  },
  {
   "cell_type": "markdown",
   "metadata": {},
   "source": [
    "\n",
    "`pip list` shows you the full set of packages you have installed. If you are making this lab from Google colab Pandas will already be installed. You can double check this with `!pip list | grep pandas`. `|` is the pipe operator which gives the result of the preceding statement to `grep` which searches the text for Pandas. You can run this on unix-based operating systems as well. If you are on Windows you can run the command: `!pip list | findstr pandas`.\n"
   ]
  },
  {
   "cell_type": "code",
   "execution_count": 2,
   "metadata": {},
   "outputs": [
    {
     "name": "stdout",
     "output_type": "stream",
     "text": [
      "pandas                        2.0.2"
     ]
    },
    {
     "name": "stderr",
     "output_type": "stream",
     "text": [
      "\n",
      "[notice] A new release of pip is available: 23.1.2 -> 23.2.1\n",
      "[notice] To update, run: python.exe -m pip install --upgrade pip\n"
     ]
    },
    {
     "name": "stdout",
     "output_type": "stream",
     "text": [
      "\n"
     ]
    }
   ],
   "source": [
    "!pip list | findstr pandas"
   ]
  },
  {
   "cell_type": "markdown",
   "metadata": {},
   "source": [
    "\n",
    "**❗ If you have a long list of packages and you are not working from google Colab that is likely an indication you're not working from a virtual environment. Follow the instructions that were listed in the beginning of the class, ask us or send us an e-mail.**"
   ]
  },
  {
   "cell_type": "markdown",
   "metadata": {},
   "source": [
    "If you're working locally and have followed the instructions Pandas will not be installed yet. You can do so by running `pip install pandas` in the terminal or in a code cell (including the exclamation mark)."
   ]
  },
  {
   "cell_type": "code",
   "execution_count": 3,
   "metadata": {},
   "outputs": [],
   "source": [
    "# Uncomment to install Pandas\n",
    "\n",
    "#!pip install pandas"
   ]
  },
  {
   "cell_type": "markdown",
   "metadata": {},
   "source": [
    "#### Reading and exploring data"
   ]
  },
  {
   "cell_type": "markdown",
   "metadata": {},
   "source": [
    "It's important to know that Pandas is a massive library with a lot of features. For the scope of this course you won't need a lot of it. We recommend you to look at the <a href=./Pandas_Cheat_Sheet.pdf>the cheat sheet</a> to discover what functionality Pandas has. We also recommend you to read the documentation of some of the functions we are using."
   ]
  },
  {
   "cell_type": "markdown",
   "metadata": {},
   "source": [
    "Pandas is typically imported as pd by convention. The package makes it incredibly easy to read and write data from different file formats. On top of that it comes with many operations that make working with data easy."
   ]
  },
  {
   "cell_type": "code",
   "execution_count": 4,
   "metadata": {},
   "outputs": [],
   "source": [
    "import pandas as pd # by convention"
   ]
  },
  {
   "cell_type": "markdown",
   "metadata": {},
   "source": [
    "###### 💻📊💡<a href=\"https://pandas.pydata.org/docs/reference/api/pandas.read_csv.html\"> `pd.read_csv` is used to read data from a filepath.</a>\n"
   ]
  },
  {
   "cell_type": "code",
   "execution_count": 5,
   "metadata": {},
   "outputs": [],
   "source": [
    "travel_dataset = pd.read_csv(\"data/lab_2_dataset.csv\")"
   ]
  },
  {
   "cell_type": "markdown",
   "metadata": {},
   "source": [
    "##### ❓ To be sure: did we use a relative or an absolute path?"
   ]
  },
  {
   "cell_type": "markdown",
   "metadata": {},
   "source": [
    "We used an relative path. It is not prefixed by a `/`. If you can't find the file make sure you're in the right directory by using `os.getcwd()` and `os.listdir()`."
   ]
  },
  {
   "cell_type": "markdown",
   "metadata": {},
   "source": [
    "One of the first things you typically do with a dataset is print out the first few rows. "
   ]
  },
  {
   "cell_type": "markdown",
   "metadata": {},
   "source": [
    "##### 💻📊💡 <a href=https://pandas.pydata.org/docs/reference/api/pandas.DataFrame.head.html>dataframe.head() prints out the first few lines of the dataframe.</a>\n"
   ]
  },
  {
   "cell_type": "code",
   "execution_count": 6,
   "metadata": {},
   "outputs": [
    {
     "data": {
      "text/html": [
       "<div>\n",
       "<style scoped>\n",
       "    .dataframe tbody tr th:only-of-type {\n",
       "        vertical-align: middle;\n",
       "    }\n",
       "\n",
       "    .dataframe tbody tr th {\n",
       "        vertical-align: top;\n",
       "    }\n",
       "\n",
       "    .dataframe thead th {\n",
       "        text-align: right;\n",
       "    }\n",
       "</style>\n",
       "<table border=\"1\" class=\"dataframe\">\n",
       "  <thead>\n",
       "    <tr style=\"text-align: right;\">\n",
       "      <th></th>\n",
       "      <th>sales_id</th>\n",
       "      <th>age</th>\n",
       "      <th>country</th>\n",
       "      <th>membership_status</th>\n",
       "      <th>previous_purchases</th>\n",
       "      <th>destination</th>\n",
       "      <th>stay_length</th>\n",
       "      <th>guests</th>\n",
       "      <th>travel_month</th>\n",
       "      <th>months_before_travel</th>\n",
       "      <th>earlybird_discount</th>\n",
       "      <th>package_Type</th>\n",
       "      <th>cost</th>\n",
       "      <th>rating</th>\n",
       "      <th>margin</th>\n",
       "      <th>additional_services_cost</th>\n",
       "    </tr>\n",
       "  </thead>\n",
       "  <tbody>\n",
       "    <tr>\n",
       "      <th>0</th>\n",
       "      <td>1</td>\n",
       "      <td>47</td>\n",
       "      <td>UK</td>\n",
       "      <td>silver</td>\n",
       "      <td>1</td>\n",
       "      <td>Sydney</td>\n",
       "      <td>4</td>\n",
       "      <td>2</td>\n",
       "      <td>7</td>\n",
       "      <td>1</td>\n",
       "      <td>False</td>\n",
       "      <td>Adventure</td>\n",
       "      <td>1706.093478</td>\n",
       "      <td>6</td>\n",
       "      <td>1219.740722</td>\n",
       "      <td>291.061043</td>\n",
       "    </tr>\n",
       "    <tr>\n",
       "      <th>1</th>\n",
       "      <td>2</td>\n",
       "      <td>37</td>\n",
       "      <td>Italy</td>\n",
       "      <td>silver</td>\n",
       "      <td>5</td>\n",
       "      <td>Tokyo</td>\n",
       "      <td>4</td>\n",
       "      <td>2</td>\n",
       "      <td>8</td>\n",
       "      <td>4</td>\n",
       "      <td>False</td>\n",
       "      <td>Adventure</td>\n",
       "      <td>1779.956899</td>\n",
       "      <td>7</td>\n",
       "      <td>1570.387236</td>\n",
       "      <td>405.516446</td>\n",
       "    </tr>\n",
       "    <tr>\n",
       "      <th>2</th>\n",
       "      <td>3</td>\n",
       "      <td>49</td>\n",
       "      <td>USA</td>\n",
       "      <td>standard</td>\n",
       "      <td>2</td>\n",
       "      <td>Sydney</td>\n",
       "      <td>3</td>\n",
       "      <td>4</td>\n",
       "      <td>7</td>\n",
       "      <td>1</td>\n",
       "      <td>False</td>\n",
       "      <td>Cultural</td>\n",
       "      <td>2829.920469</td>\n",
       "      <td>6</td>\n",
       "      <td>2360.488698</td>\n",
       "      <td>285.364191</td>\n",
       "    </tr>\n",
       "    <tr>\n",
       "      <th>3</th>\n",
       "      <td>4</td>\n",
       "      <td>62</td>\n",
       "      <td>Spain</td>\n",
       "      <td>silver</td>\n",
       "      <td>2</td>\n",
       "      <td>Cape Town</td>\n",
       "      <td>7</td>\n",
       "      <td>2</td>\n",
       "      <td>1</td>\n",
       "      <td>3</td>\n",
       "      <td>True</td>\n",
       "      <td>Adventure</td>\n",
       "      <td>2789.528342</td>\n",
       "      <td>7</td>\n",
       "      <td>2315.659102</td>\n",
       "      <td>747.533464</td>\n",
       "    </tr>\n",
       "    <tr>\n",
       "      <th>4</th>\n",
       "      <td>5</td>\n",
       "      <td>36</td>\n",
       "      <td>Germany</td>\n",
       "      <td>silver</td>\n",
       "      <td>3</td>\n",
       "      <td>Paris</td>\n",
       "      <td>9</td>\n",
       "      <td>3</td>\n",
       "      <td>2</td>\n",
       "      <td>7</td>\n",
       "      <td>False</td>\n",
       "      <td>Adventure</td>\n",
       "      <td>5357.997309</td>\n",
       "      <td>5</td>\n",
       "      <td>5042.139271</td>\n",
       "      <td>1117.092552</td>\n",
       "    </tr>\n",
       "  </tbody>\n",
       "</table>\n",
       "</div>"
      ],
      "text/plain": [
       "   sales_id  age  country membership_status  previous_purchases destination  \\\n",
       "0         1   47       UK            silver                   1      Sydney   \n",
       "1         2   37    Italy            silver                   5       Tokyo   \n",
       "2         3   49      USA          standard                   2      Sydney   \n",
       "3         4   62    Spain            silver                   2   Cape Town   \n",
       "4         5   36  Germany            silver                   3       Paris   \n",
       "\n",
       "   stay_length  guests  travel_month  months_before_travel  \\\n",
       "0            4       2             7                     1   \n",
       "1            4       2             8                     4   \n",
       "2            3       4             7                     1   \n",
       "3            7       2             1                     3   \n",
       "4            9       3             2                     7   \n",
       "\n",
       "   earlybird_discount package_Type         cost  rating       margin  \\\n",
       "0               False    Adventure  1706.093478       6  1219.740722   \n",
       "1               False    Adventure  1779.956899       7  1570.387236   \n",
       "2               False     Cultural  2829.920469       6  2360.488698   \n",
       "3                True    Adventure  2789.528342       7  2315.659102   \n",
       "4               False    Adventure  5357.997309       5  5042.139271   \n",
       "\n",
       "   additional_services_cost  \n",
       "0                291.061043  \n",
       "1                405.516446  \n",
       "2                285.364191  \n",
       "3                747.533464  \n",
       "4               1117.092552  "
      ]
     },
     "execution_count": 6,
     "metadata": {},
     "output_type": "execute_result"
    }
   ],
   "source": [
    "travel_dataset.head()"
   ]
  },
  {
   "cell_type": "markdown",
   "metadata": {},
   "source": [
    "Accessing the columns is equally trivial."
   ]
  },
  {
   "cell_type": "code",
   "execution_count": 7,
   "metadata": {},
   "outputs": [
    {
     "data": {
      "text/plain": [
       "Index(['sales_id', 'age', 'country', 'membership_status', 'previous_purchases',\n",
       "       'destination', 'stay_length', 'guests', 'travel_month',\n",
       "       'months_before_travel', 'earlybird_discount', 'package_Type', 'cost',\n",
       "       'rating', 'margin', 'additional_services_cost'],\n",
       "      dtype='object')"
      ]
     },
     "execution_count": 7,
     "metadata": {},
     "output_type": "execute_result"
    }
   ],
   "source": [
    "travel_dataset.columns"
   ]
  },
  {
   "cell_type": "markdown",
   "metadata": {},
   "source": [
    "Before we proceed we will take a subset of our dataset cost, age, stay length and destination. Doing so is similar to working with dictionaries."
   ]
  },
  {
   "cell_type": "code",
   "execution_count": 8,
   "metadata": {},
   "outputs": [
    {
     "data": {
      "text/plain": [
       "0              UK\n",
       "1           Italy\n",
       "2             USA\n",
       "3           Spain\n",
       "4         Germany\n",
       "          ...    \n",
       "9995      Germany\n",
       "9996    Australia\n",
       "9997          USA\n",
       "9998          USA\n",
       "9999       Canada\n",
       "Name: country, Length: 10000, dtype: object"
      ]
     },
     "execution_count": 8,
     "metadata": {},
     "output_type": "execute_result"
    }
   ],
   "source": [
    "travel_dataset[\"country\"]"
   ]
  },
  {
   "cell_type": "code",
   "execution_count": 9,
   "metadata": {},
   "outputs": [
    {
     "data": {
      "text/plain": [
       "0       47\n",
       "1       37\n",
       "2       49\n",
       "3       62\n",
       "4       36\n",
       "        ..\n",
       "9995    59\n",
       "9996    18\n",
       "9997    29\n",
       "9998    47\n",
       "9999    49\n",
       "Name: age, Length: 10000, dtype: int64"
      ]
     },
     "execution_count": 9,
     "metadata": {},
     "output_type": "execute_result"
    }
   ],
   "source": [
    "travel_dataset[\"age\"]"
   ]
  },
  {
   "cell_type": "code",
   "execution_count": 10,
   "metadata": {},
   "outputs": [
    {
     "data": {
      "text/plain": [
       "0        4\n",
       "1        4\n",
       "2        3\n",
       "3        7\n",
       "4        9\n",
       "        ..\n",
       "9995    11\n",
       "9996     6\n",
       "9997     5\n",
       "9998    16\n",
       "9999    15\n",
       "Name: stay_length, Length: 10000, dtype: int64"
      ]
     },
     "execution_count": 10,
     "metadata": {},
     "output_type": "execute_result"
    }
   ],
   "source": [
    "travel_dataset[\"stay_length\"]"
   ]
  },
  {
   "cell_type": "markdown",
   "metadata": {},
   "source": [
    "To get multiple columns at once we need to pass in a list of columns"
   ]
  },
  {
   "cell_type": "code",
   "execution_count": 11,
   "metadata": {},
   "outputs": [
    {
     "data": {
      "text/html": [
       "<div>\n",
       "<style scoped>\n",
       "    .dataframe tbody tr th:only-of-type {\n",
       "        vertical-align: middle;\n",
       "    }\n",
       "\n",
       "    .dataframe tbody tr th {\n",
       "        vertical-align: top;\n",
       "    }\n",
       "\n",
       "    .dataframe thead th {\n",
       "        text-align: right;\n",
       "    }\n",
       "</style>\n",
       "<table border=\"1\" class=\"dataframe\">\n",
       "  <thead>\n",
       "    <tr style=\"text-align: right;\">\n",
       "      <th></th>\n",
       "      <th>country</th>\n",
       "      <th>stay_length</th>\n",
       "      <th>age</th>\n",
       "      <th>cost</th>\n",
       "    </tr>\n",
       "  </thead>\n",
       "  <tbody>\n",
       "    <tr>\n",
       "      <th>0</th>\n",
       "      <td>UK</td>\n",
       "      <td>4</td>\n",
       "      <td>47</td>\n",
       "      <td>1706.093478</td>\n",
       "    </tr>\n",
       "    <tr>\n",
       "      <th>1</th>\n",
       "      <td>Italy</td>\n",
       "      <td>4</td>\n",
       "      <td>37</td>\n",
       "      <td>1779.956899</td>\n",
       "    </tr>\n",
       "    <tr>\n",
       "      <th>2</th>\n",
       "      <td>USA</td>\n",
       "      <td>3</td>\n",
       "      <td>49</td>\n",
       "      <td>2829.920469</td>\n",
       "    </tr>\n",
       "    <tr>\n",
       "      <th>3</th>\n",
       "      <td>Spain</td>\n",
       "      <td>7</td>\n",
       "      <td>62</td>\n",
       "      <td>2789.528342</td>\n",
       "    </tr>\n",
       "    <tr>\n",
       "      <th>4</th>\n",
       "      <td>Germany</td>\n",
       "      <td>9</td>\n",
       "      <td>36</td>\n",
       "      <td>5357.997309</td>\n",
       "    </tr>\n",
       "    <tr>\n",
       "      <th>...</th>\n",
       "      <td>...</td>\n",
       "      <td>...</td>\n",
       "      <td>...</td>\n",
       "      <td>...</td>\n",
       "    </tr>\n",
       "    <tr>\n",
       "      <th>9995</th>\n",
       "      <td>Germany</td>\n",
       "      <td>11</td>\n",
       "      <td>59</td>\n",
       "      <td>7504.776391</td>\n",
       "    </tr>\n",
       "    <tr>\n",
       "      <th>9996</th>\n",
       "      <td>Australia</td>\n",
       "      <td>6</td>\n",
       "      <td>18</td>\n",
       "      <td>1427.122722</td>\n",
       "    </tr>\n",
       "    <tr>\n",
       "      <th>9997</th>\n",
       "      <td>USA</td>\n",
       "      <td>5</td>\n",
       "      <td>29</td>\n",
       "      <td>3458.860603</td>\n",
       "    </tr>\n",
       "    <tr>\n",
       "      <th>9998</th>\n",
       "      <td>USA</td>\n",
       "      <td>16</td>\n",
       "      <td>47</td>\n",
       "      <td>18392.267180</td>\n",
       "    </tr>\n",
       "    <tr>\n",
       "      <th>9999</th>\n",
       "      <td>Canada</td>\n",
       "      <td>15</td>\n",
       "      <td>49</td>\n",
       "      <td>3041.913051</td>\n",
       "    </tr>\n",
       "  </tbody>\n",
       "</table>\n",
       "<p>10000 rows × 4 columns</p>\n",
       "</div>"
      ],
      "text/plain": [
       "        country  stay_length  age          cost\n",
       "0            UK            4   47   1706.093478\n",
       "1         Italy            4   37   1779.956899\n",
       "2           USA            3   49   2829.920469\n",
       "3         Spain            7   62   2789.528342\n",
       "4       Germany            9   36   5357.997309\n",
       "...         ...          ...  ...           ...\n",
       "9995    Germany           11   59   7504.776391\n",
       "9996  Australia            6   18   1427.122722\n",
       "9997        USA            5   29   3458.860603\n",
       "9998        USA           16   47  18392.267180\n",
       "9999     Canada           15   49   3041.913051\n",
       "\n",
       "[10000 rows x 4 columns]"
      ]
     },
     "execution_count": 11,
     "metadata": {},
     "output_type": "execute_result"
    }
   ],
   "source": [
    "columns = [\"country\", \"stay_length\", \"age\", \"cost\"]\n",
    "travel_dataset_subset = travel_dataset[columns]\n",
    "travel_dataset_subset"
   ]
  },
  {
   "cell_type": "markdown",
   "metadata": {},
   "source": [
    "#### Intermezzo: Series and Dataframes are mutable"
   ]
  },
  {
   "cell_type": "markdown",
   "metadata": {},
   "source": [
    "The first important thing to notice about Pandas dataframe is that they are a combination of Pandas Series (columns).\n",
    "\n",
    "<center><img src=\"images\\df_vs_series.png\"  style=\"background-color:white;\"></center>\n",
    "\n",
    "**❗ Pandas Series and Dataframes are mutable. This can be a big source of frustration and unexpected behavior.**\n"
   ]
  },
  {
   "cell_type": "code",
   "execution_count": 12,
   "metadata": {},
   "outputs": [
    {
     "data": {
      "text/html": [
       "<div>\n",
       "<style scoped>\n",
       "    .dataframe tbody tr th:only-of-type {\n",
       "        vertical-align: middle;\n",
       "    }\n",
       "\n",
       "    .dataframe tbody tr th {\n",
       "        vertical-align: top;\n",
       "    }\n",
       "\n",
       "    .dataframe thead th {\n",
       "        text-align: right;\n",
       "    }\n",
       "</style>\n",
       "<table border=\"1\" class=\"dataframe\">\n",
       "  <thead>\n",
       "    <tr style=\"text-align: right;\">\n",
       "      <th></th>\n",
       "      <th>name</th>\n",
       "      <th>age</th>\n",
       "    </tr>\n",
       "  </thead>\n",
       "  <tbody>\n",
       "    <tr>\n",
       "      <th>0</th>\n",
       "      <td>Omar</td>\n",
       "      <td>21</td>\n",
       "    </tr>\n",
       "    <tr>\n",
       "      <th>1</th>\n",
       "      <td>Alisha</td>\n",
       "      <td>19</td>\n",
       "    </tr>\n",
       "    <tr>\n",
       "      <th>2</th>\n",
       "      <td>Joost</td>\n",
       "      <td>18</td>\n",
       "    </tr>\n",
       "  </tbody>\n",
       "</table>\n",
       "</div>"
      ],
      "text/plain": [
       "     name  age\n",
       "0    Omar   21\n",
       "1  Alisha   19\n",
       "2   Joost   18"
      ]
     },
     "execution_count": 12,
     "metadata": {},
     "output_type": "execute_result"
    }
   ],
   "source": [
    "# The easiest way to make a dataframe is start from a list of dictionaries\n",
    "\n",
    "students = [{\"name\": \"Omar\", \"age\": 21}, {\"name\": \"Alisha\", \"age\":19}, {\"name\": \"Joost\", \"age\":18}]\n",
    "students_df = pd.DataFrame(students)\n",
    "students_df"
   ]
  },
  {
   "cell_type": "code",
   "execution_count": 13,
   "metadata": {},
   "outputs": [
    {
     "data": {
      "text/plain": [
       "pandas.core.frame.DataFrame"
      ]
     },
     "execution_count": 13,
     "metadata": {},
     "output_type": "execute_result"
    }
   ],
   "source": [
    "type(students_df)"
   ]
  },
  {
   "cell_type": "code",
   "execution_count": 14,
   "metadata": {},
   "outputs": [
    {
     "data": {
      "text/plain": [
       "0      Omar\n",
       "1    Alisha\n",
       "2     Joost\n",
       "Name: name, dtype: object"
      ]
     },
     "execution_count": 14,
     "metadata": {},
     "output_type": "execute_result"
    }
   ],
   "source": [
    "students_df[\"name\"]"
   ]
  },
  {
   "cell_type": "code",
   "execution_count": 15,
   "metadata": {},
   "outputs": [
    {
     "data": {
      "text/plain": [
       "pandas.core.series.Series"
      ]
     },
     "execution_count": 15,
     "metadata": {},
     "output_type": "execute_result"
    }
   ],
   "source": [
    "type(students_df[\"name\"])"
   ]
  },
  {
   "cell_type": "code",
   "execution_count": 16,
   "metadata": {},
   "outputs": [
    {
     "data": {
      "text/plain": [
       "0      Omar\n",
       "1    Alisha\n",
       "2     Joost\n",
       "Name: name, dtype: object"
      ]
     },
     "execution_count": 16,
     "metadata": {},
     "output_type": "execute_result"
    }
   ],
   "source": [
    "student_names = students_df[\"name\"]\n",
    "student_names"
   ]
  },
  {
   "cell_type": "code",
   "execution_count": 17,
   "metadata": {},
   "outputs": [
    {
     "name": "stderr",
     "output_type": "stream",
     "text": [
      "C:\\Users\\u0140497\\AppData\\Local\\Temp\\ipykernel_22612\\3863970960.py:2: SettingWithCopyWarning: \n",
      "A value is trying to be set on a copy of a slice from a DataFrame\n",
      "\n",
      "See the caveats in the documentation: https://pandas.pydata.org/pandas-docs/stable/user_guide/indexing.html#returning-a-view-versus-a-copy\n",
      "  student_names[1] = \"Katrien\"\n"
     ]
    },
    {
     "data": {
      "text/plain": [
       "0       Omar\n",
       "1    Katrien\n",
       "2      Joost\n",
       "Name: name, dtype: object"
      ]
     },
     "execution_count": 17,
     "metadata": {},
     "output_type": "execute_result"
    }
   ],
   "source": [
    "# Pandas complains about you doing this.\n",
    "student_names[1] = \"Katrien\"\n",
    "student_names"
   ]
  },
  {
   "cell_type": "code",
   "execution_count": 18,
   "metadata": {},
   "outputs": [
    {
     "data": {
      "text/html": [
       "<div>\n",
       "<style scoped>\n",
       "    .dataframe tbody tr th:only-of-type {\n",
       "        vertical-align: middle;\n",
       "    }\n",
       "\n",
       "    .dataframe tbody tr th {\n",
       "        vertical-align: top;\n",
       "    }\n",
       "\n",
       "    .dataframe thead th {\n",
       "        text-align: right;\n",
       "    }\n",
       "</style>\n",
       "<table border=\"1\" class=\"dataframe\">\n",
       "  <thead>\n",
       "    <tr style=\"text-align: right;\">\n",
       "      <th></th>\n",
       "      <th>name</th>\n",
       "      <th>age</th>\n",
       "    </tr>\n",
       "  </thead>\n",
       "  <tbody>\n",
       "    <tr>\n",
       "      <th>0</th>\n",
       "      <td>Omar</td>\n",
       "      <td>21</td>\n",
       "    </tr>\n",
       "    <tr>\n",
       "      <th>1</th>\n",
       "      <td>Katrien</td>\n",
       "      <td>19</td>\n",
       "    </tr>\n",
       "    <tr>\n",
       "      <th>2</th>\n",
       "      <td>Joost</td>\n",
       "      <td>18</td>\n",
       "    </tr>\n",
       "  </tbody>\n",
       "</table>\n",
       "</div>"
      ],
      "text/plain": [
       "      name  age\n",
       "0     Omar   21\n",
       "1  Katrien   19\n",
       "2    Joost   18"
      ]
     },
     "execution_count": 18,
     "metadata": {},
     "output_type": "execute_result"
    }
   ],
   "source": [
    "students_df"
   ]
  },
  {
   "cell_type": "code",
   "execution_count": 19,
   "metadata": {},
   "outputs": [
    {
     "name": "stderr",
     "output_type": "stream",
     "text": [
      "C:\\Users\\u0140497\\AppData\\Local\\Temp\\ipykernel_22612\\3019043404.py:4: SettingWithCopyWarning: \n",
      "A value is trying to be set on a copy of a slice from a DataFrame\n",
      "\n",
      "See the caveats in the documentation: https://pandas.pydata.org/pandas-docs/stable/user_guide/indexing.html#returning-a-view-versus-a-copy\n",
      "  student_names[1] = \"Alisha\"\n"
     ]
    },
    {
     "data": {
      "text/html": [
       "<div>\n",
       "<style scoped>\n",
       "    .dataframe tbody tr th:only-of-type {\n",
       "        vertical-align: middle;\n",
       "    }\n",
       "\n",
       "    .dataframe tbody tr th {\n",
       "        vertical-align: top;\n",
       "    }\n",
       "\n",
       "    .dataframe thead th {\n",
       "        text-align: right;\n",
       "    }\n",
       "</style>\n",
       "<table border=\"1\" class=\"dataframe\">\n",
       "  <thead>\n",
       "    <tr style=\"text-align: right;\">\n",
       "      <th></th>\n",
       "      <th>name</th>\n",
       "      <th>age</th>\n",
       "    </tr>\n",
       "  </thead>\n",
       "  <tbody>\n",
       "    <tr>\n",
       "      <th>0</th>\n",
       "      <td>Omar</td>\n",
       "      <td>21</td>\n",
       "    </tr>\n",
       "    <tr>\n",
       "      <th>1</th>\n",
       "      <td>Alisha</td>\n",
       "      <td>19</td>\n",
       "    </tr>\n",
       "    <tr>\n",
       "      <th>2</th>\n",
       "      <td>Joost</td>\n",
       "      <td>18</td>\n",
       "    </tr>\n",
       "  </tbody>\n",
       "</table>\n",
       "</div>"
      ],
      "text/plain": [
       "     name  age\n",
       "0    Omar   21\n",
       "1  Alisha   19\n",
       "2   Joost   18"
      ]
     },
     "execution_count": 19,
     "metadata": {},
     "output_type": "execute_result"
    }
   ],
   "source": [
    "# If you want to try something out an want to \"keep\" your original data\n",
    "students_copy = students_df.copy()\n",
    "student_names = students_copy[\"name\"]\n",
    "student_names[1] = \"Alisha\"\n",
    "students_copy"
   ]
  },
  {
   "cell_type": "code",
   "execution_count": 20,
   "metadata": {},
   "outputs": [
    {
     "data": {
      "text/html": [
       "<div>\n",
       "<style scoped>\n",
       "    .dataframe tbody tr th:only-of-type {\n",
       "        vertical-align: middle;\n",
       "    }\n",
       "\n",
       "    .dataframe tbody tr th {\n",
       "        vertical-align: top;\n",
       "    }\n",
       "\n",
       "    .dataframe thead th {\n",
       "        text-align: right;\n",
       "    }\n",
       "</style>\n",
       "<table border=\"1\" class=\"dataframe\">\n",
       "  <thead>\n",
       "    <tr style=\"text-align: right;\">\n",
       "      <th></th>\n",
       "      <th>name</th>\n",
       "      <th>age</th>\n",
       "    </tr>\n",
       "  </thead>\n",
       "  <tbody>\n",
       "    <tr>\n",
       "      <th>0</th>\n",
       "      <td>Omar</td>\n",
       "      <td>21</td>\n",
       "    </tr>\n",
       "    <tr>\n",
       "      <th>1</th>\n",
       "      <td>Katrien</td>\n",
       "      <td>19</td>\n",
       "    </tr>\n",
       "    <tr>\n",
       "      <th>2</th>\n",
       "      <td>Joost</td>\n",
       "      <td>18</td>\n",
       "    </tr>\n",
       "  </tbody>\n",
       "</table>\n",
       "</div>"
      ],
      "text/plain": [
       "      name  age\n",
       "0     Omar   21\n",
       "1  Katrien   19\n",
       "2    Joost   18"
      ]
     },
     "execution_count": 20,
     "metadata": {},
     "output_type": "execute_result"
    }
   ],
   "source": [
    "students_df"
   ]
  },
  {
   "cell_type": "markdown",
   "metadata": {},
   "source": [
    "As you can see Pandas is warning us of this behavior with *\"A value is trying to be set on a copy of a slice from a DataFrame\"*. The documentation and error message aren't particularly helpful for beginners but the small example above demonstrates what they mean and why it's a problem."
   ]
  },
  {
   "cell_type": "markdown",
   "metadata": {},
   "source": [
    "#### Data exploration: univariate"
   ]
  },
  {
   "cell_type": "markdown",
   "metadata": {},
   "source": [
    "After that short detour we now know that changing our subset `travel_dataset_subset` means we also change our original dataset. We will continue the exploration of our country, stay_length, age and cost variables.\n",
    "\n",
    "1. We will start with a univariate analysis, which means we will explore one (uni) variable (variate) at a time. \n",
    "2. Later on we will move to two (bi) variables (variate) analyses \n",
    "3. We round it up with methods that are able to do multivariate analysis. "
   ]
  },
  {
   "cell_type": "markdown",
   "metadata": {},
   "source": [
    "Recall that \n",
    "\n",
    "1. **Categorical variables** represent categories or labels (e.g., colors, genders). \n",
    "2. **Numeric variables** represent quantities and can be ordered or measured (e.g., age, height). \n",
    "3. There is a special case called **Ordinal variables**, these are categories where there is a meaningful order (e.g., clothes sizes: small, medium and large)."
   ]
  },
  {
   "cell_type": "markdown",
   "metadata": {},
   "source": [
    "##### ❓ Which variables are categorical and which are numeric?"
   ]
  },
  {
   "cell_type": "markdown",
   "metadata": {},
   "source": [
    "* Country is categorical.\n",
    "* Stay length is numeric.\n",
    "* age is numeric.\n",
    "* Cost is numeric.\n"
   ]
  },
  {
   "cell_type": "markdown",
   "metadata": {},
   "source": [
    "##### ❓ Do you recall how we can \"summarize\" or describe numeric variables?"
   ]
  },
  {
   "cell_type": "markdown",
   "metadata": {},
   "source": [
    "* We can look at the mean, median and standard deviation\n",
    "* min and max\n",
    "* Quintiles\n",
    "* ...."
   ]
  },
  {
   "cell_type": "markdown",
   "metadata": {},
   "source": [
    "##### ❓ Carry this analysis out on the numeric variable(s).\n",
    "\n",
    "💻📊💡 TIP: the names of the functions are intuitive. For instance `dataframe[column].min()` gets the minimum of that column. It is equivalent to `select min(column) from dataframe` in SQL. Knowing SQL makes it easy to translate back and forth.\n",
    "\n",
    "💻📊💡 TIP: become good friends with the <a href=./Pandas_Cheat_Sheet.pdf>the cheat sheet</a> and the documentation"
   ]
  },
  {
   "cell_type": "markdown",
   "metadata": {},
   "source": [
    "###### Age"
   ]
  },
  {
   "cell_type": "code",
   "execution_count": 21,
   "metadata": {},
   "outputs": [
    {
     "data": {
      "text/plain": [
       "39.9759"
      ]
     },
     "execution_count": 21,
     "metadata": {},
     "output_type": "execute_result"
    }
   ],
   "source": [
    "travel_dataset[\"age\"].mean()"
   ]
  },
  {
   "cell_type": "code",
   "execution_count": 22,
   "metadata": {},
   "outputs": [
    {
     "data": {
      "text/plain": [
       "18"
      ]
     },
     "execution_count": 22,
     "metadata": {},
     "output_type": "execute_result"
    }
   ],
   "source": [
    "travel_dataset[\"age\"].min()"
   ]
  },
  {
   "cell_type": "code",
   "execution_count": 23,
   "metadata": {},
   "outputs": [
    {
     "data": {
      "text/plain": [
       "80"
      ]
     },
     "execution_count": 23,
     "metadata": {},
     "output_type": "execute_result"
    }
   ],
   "source": [
    "travel_dataset[\"age\"].max()"
   ]
  },
  {
   "cell_type": "code",
   "execution_count": 24,
   "metadata": {},
   "outputs": [
    {
     "data": {
      "text/plain": [
       "39.0"
      ]
     },
     "execution_count": 24,
     "metadata": {},
     "output_type": "execute_result"
    }
   ],
   "source": [
    "travel_dataset[\"age\"].median()"
   ]
  },
  {
   "cell_type": "code",
   "execution_count": 25,
   "metadata": {},
   "outputs": [
    {
     "data": {
      "text/plain": [
       "14.001640039023222"
      ]
     },
     "execution_count": 25,
     "metadata": {},
     "output_type": "execute_result"
    }
   ],
   "source": [
    "travel_dataset[\"age\"].std()"
   ]
  },
  {
   "cell_type": "markdown",
   "metadata": {},
   "source": [
    "###### Cost"
   ]
  },
  {
   "cell_type": "code",
   "execution_count": 26,
   "metadata": {},
   "outputs": [
    {
     "data": {
      "text/plain": [
       "5750.918555719313"
      ]
     },
     "execution_count": 26,
     "metadata": {},
     "output_type": "execute_result"
    }
   ],
   "source": [
    "travel_dataset[\"cost\"].mean()"
   ]
  },
  {
   "cell_type": "code",
   "execution_count": 27,
   "metadata": {},
   "outputs": [
    {
     "data": {
      "text/plain": [
       "94.28546256451816"
      ]
     },
     "execution_count": 27,
     "metadata": {},
     "output_type": "execute_result"
    }
   ],
   "source": [
    "travel_dataset[\"cost\"].min()"
   ]
  },
  {
   "cell_type": "code",
   "execution_count": 28,
   "metadata": {},
   "outputs": [
    {
     "data": {
      "text/plain": [
       "56969.4981382295"
      ]
     },
     "execution_count": 28,
     "metadata": {},
     "output_type": "execute_result"
    }
   ],
   "source": [
    "travel_dataset[\"cost\"].max()"
   ]
  },
  {
   "cell_type": "code",
   "execution_count": 29,
   "metadata": {},
   "outputs": [
    {
     "data": {
      "text/plain": [
       "4227.457434626165"
      ]
     },
     "execution_count": 29,
     "metadata": {},
     "output_type": "execute_result"
    }
   ],
   "source": [
    "travel_dataset[\"cost\"].median()"
   ]
  },
  {
   "cell_type": "code",
   "execution_count": 30,
   "metadata": {},
   "outputs": [
    {
     "data": {
      "text/plain": [
       "5035.339341135813"
      ]
     },
     "execution_count": 30,
     "metadata": {},
     "output_type": "execute_result"
    }
   ],
   "source": [
    "travel_dataset[\"cost\"].std()"
   ]
  },
  {
   "cell_type": "markdown",
   "metadata": {},
   "source": [
    "###### stay length"
   ]
  },
  {
   "cell_type": "code",
   "execution_count": 31,
   "metadata": {},
   "outputs": [
    {
     "data": {
      "text/plain": [
       "10.4914"
      ]
     },
     "execution_count": 31,
     "metadata": {},
     "output_type": "execute_result"
    }
   ],
   "source": [
    "travel_dataset[\"stay_length\"].mean()"
   ]
  },
  {
   "cell_type": "code",
   "execution_count": 32,
   "metadata": {},
   "outputs": [
    {
     "data": {
      "text/plain": [
       "1"
      ]
     },
     "execution_count": 32,
     "metadata": {},
     "output_type": "execute_result"
    }
   ],
   "source": [
    "travel_dataset[\"stay_length\"].min()"
   ]
  },
  {
   "cell_type": "code",
   "execution_count": 33,
   "metadata": {},
   "outputs": [
    {
     "data": {
      "text/plain": [
       "68"
      ]
     },
     "execution_count": 33,
     "metadata": {},
     "output_type": "execute_result"
    }
   ],
   "source": [
    "travel_dataset[\"stay_length\"].max()"
   ]
  },
  {
   "cell_type": "code",
   "execution_count": 34,
   "metadata": {},
   "outputs": [
    {
     "data": {
      "text/plain": [
       "9.0"
      ]
     },
     "execution_count": 34,
     "metadata": {},
     "output_type": "execute_result"
    }
   ],
   "source": [
    "travel_dataset[\"stay_length\"].median()"
   ]
  },
  {
   "cell_type": "code",
   "execution_count": 35,
   "metadata": {},
   "outputs": [
    {
     "data": {
      "text/plain": [
       "7.053516941932231"
      ]
     },
     "execution_count": 35,
     "metadata": {},
     "output_type": "execute_result"
    }
   ],
   "source": [
    "travel_dataset[\"stay_length\"].std()"
   ]
  },
  {
   "cell_type": "markdown",
   "metadata": {},
   "source": [
    "##### ❓ Doing this one by one gets quite tedious. Is there any other way listed on the cheat sheet to do this for all variables at once?\n"
   ]
  },
  {
   "cell_type": "code",
   "execution_count": 36,
   "metadata": {},
   "outputs": [
    {
     "data": {
      "text/plain": [
       "age            18.000000\n",
       "stay_length     1.000000\n",
       "cost           94.285463\n",
       "dtype: float64"
      ]
     },
     "execution_count": 36,
     "metadata": {},
     "output_type": "execute_result"
    }
   ],
   "source": [
    "# Good\n",
    "travel_dataset[[\"age\",\"stay_length\", \"cost\"]].min()"
   ]
  },
  {
   "cell_type": "code",
   "execution_count": 37,
   "metadata": {},
   "outputs": [],
   "source": [
    "import numpy as np"
   ]
  },
  {
   "cell_type": "code",
   "execution_count": 38,
   "metadata": {},
   "outputs": [
    {
     "data": {
      "text/html": [
       "<div>\n",
       "<style scoped>\n",
       "    .dataframe tbody tr th:only-of-type {\n",
       "        vertical-align: middle;\n",
       "    }\n",
       "\n",
       "    .dataframe tbody tr th {\n",
       "        vertical-align: top;\n",
       "    }\n",
       "\n",
       "    .dataframe thead th {\n",
       "        text-align: right;\n",
       "    }\n",
       "</style>\n",
       "<table border=\"1\" class=\"dataframe\">\n",
       "  <thead>\n",
       "    <tr style=\"text-align: right;\">\n",
       "      <th></th>\n",
       "      <th>age</th>\n",
       "      <th>stay_length</th>\n",
       "      <th>cost</th>\n",
       "    </tr>\n",
       "  </thead>\n",
       "  <tbody>\n",
       "    <tr>\n",
       "      <th>mean</th>\n",
       "      <td>39.9759</td>\n",
       "      <td>10.4914</td>\n",
       "      <td>5750.918556</td>\n",
       "    </tr>\n",
       "    <tr>\n",
       "      <th>amax</th>\n",
       "      <td>80.0000</td>\n",
       "      <td>68.0000</td>\n",
       "      <td>56969.498138</td>\n",
       "    </tr>\n",
       "    <tr>\n",
       "      <th>median</th>\n",
       "      <td>39.0000</td>\n",
       "      <td>9.0000</td>\n",
       "      <td>4227.457435</td>\n",
       "    </tr>\n",
       "    <tr>\n",
       "      <th>amin</th>\n",
       "      <td>18.0000</td>\n",
       "      <td>1.0000</td>\n",
       "      <td>94.285463</td>\n",
       "    </tr>\n",
       "  </tbody>\n",
       "</table>\n",
       "</div>"
      ],
      "text/plain": [
       "            age  stay_length          cost\n",
       "mean    39.9759      10.4914   5750.918556\n",
       "amax    80.0000      68.0000  56969.498138\n",
       "median  39.0000       9.0000   4227.457435\n",
       "amin    18.0000       1.0000     94.285463"
      ]
     },
     "execution_count": 38,
     "metadata": {},
     "output_type": "execute_result"
    }
   ],
   "source": [
    "# Better\n",
    "# Notice how we are passing a list of functions in aggregate\n",
    "travel_dataset[[\"age\",\"stay_length\", \"cost\"]].aggregate([np.mean, np.max, np.median, np.min])"
   ]
  },
  {
   "cell_type": "code",
   "execution_count": 39,
   "metadata": {},
   "outputs": [
    {
     "data": {
      "text/html": [
       "<div>\n",
       "<style scoped>\n",
       "    .dataframe tbody tr th:only-of-type {\n",
       "        vertical-align: middle;\n",
       "    }\n",
       "\n",
       "    .dataframe tbody tr th {\n",
       "        vertical-align: top;\n",
       "    }\n",
       "\n",
       "    .dataframe thead th {\n",
       "        text-align: right;\n",
       "    }\n",
       "</style>\n",
       "<table border=\"1\" class=\"dataframe\">\n",
       "  <thead>\n",
       "    <tr style=\"text-align: right;\">\n",
       "      <th></th>\n",
       "      <th>age</th>\n",
       "      <th>stay_length</th>\n",
       "      <th>cost</th>\n",
       "    </tr>\n",
       "  </thead>\n",
       "  <tbody>\n",
       "    <tr>\n",
       "      <th>count</th>\n",
       "      <td>10000.00000</td>\n",
       "      <td>10000.000000</td>\n",
       "      <td>10000.000000</td>\n",
       "    </tr>\n",
       "    <tr>\n",
       "      <th>mean</th>\n",
       "      <td>39.97590</td>\n",
       "      <td>10.491400</td>\n",
       "      <td>5750.918556</td>\n",
       "    </tr>\n",
       "    <tr>\n",
       "      <th>std</th>\n",
       "      <td>14.00164</td>\n",
       "      <td>7.053517</td>\n",
       "      <td>5035.339341</td>\n",
       "    </tr>\n",
       "    <tr>\n",
       "      <th>min</th>\n",
       "      <td>18.00000</td>\n",
       "      <td>1.000000</td>\n",
       "      <td>94.285463</td>\n",
       "    </tr>\n",
       "    <tr>\n",
       "      <th>25%</th>\n",
       "      <td>29.00000</td>\n",
       "      <td>5.000000</td>\n",
       "      <td>2293.912845</td>\n",
       "    </tr>\n",
       "    <tr>\n",
       "      <th>50%</th>\n",
       "      <td>39.00000</td>\n",
       "      <td>9.000000</td>\n",
       "      <td>4227.457435</td>\n",
       "    </tr>\n",
       "    <tr>\n",
       "      <th>75%</th>\n",
       "      <td>50.00000</td>\n",
       "      <td>14.000000</td>\n",
       "      <td>7561.063091</td>\n",
       "    </tr>\n",
       "    <tr>\n",
       "      <th>max</th>\n",
       "      <td>80.00000</td>\n",
       "      <td>68.000000</td>\n",
       "      <td>56969.498138</td>\n",
       "    </tr>\n",
       "  </tbody>\n",
       "</table>\n",
       "</div>"
      ],
      "text/plain": [
       "               age   stay_length          cost\n",
       "count  10000.00000  10000.000000  10000.000000\n",
       "mean      39.97590     10.491400   5750.918556\n",
       "std       14.00164      7.053517   5035.339341\n",
       "min       18.00000      1.000000     94.285463\n",
       "25%       29.00000      5.000000   2293.912845\n",
       "50%       39.00000      9.000000   4227.457435\n",
       "75%       50.00000     14.000000   7561.063091\n",
       "max       80.00000     68.000000  56969.498138"
      ]
     },
     "execution_count": 39,
     "metadata": {},
     "output_type": "execute_result"
    }
   ],
   "source": [
    "# Best\n",
    "\n",
    "travel_dataset[[\"age\",\"stay_length\", \"cost\"]].describe()"
   ]
  },
  {
   "cell_type": "markdown",
   "metadata": {},
   "source": [
    "##### ❓ Carry this analysis out on the categorical variable(s).\n",
    "\n",
    "💻📊💡 TIP: `dataframe[column].value_counts()` is a very powerful method. It is equivalent to `select column, count(column) from dataframe group by column`. If you forget `value_counts()` exists you can get there using your SQL knowledge. `dataframe.groupby(\"column\").count()` also gets you very close."
   ]
  },
  {
   "cell_type": "code",
   "execution_count": 40,
   "metadata": {},
   "outputs": [
    {
     "data": {
      "text/plain": [
       "destination\n",
       "Rio          1293\n",
       "Sydney       1275\n",
       "Cairo        1271\n",
       "Paris        1259\n",
       "Tokyo        1252\n",
       "New York     1229\n",
       "Cape Town    1224\n",
       "Rome         1197\n",
       "Name: count, dtype: int64"
      ]
     },
     "execution_count": 40,
     "metadata": {},
     "output_type": "execute_result"
    }
   ],
   "source": [
    "travel_dataset[\"destination\"].value_counts()"
   ]
  },
  {
   "cell_type": "code",
   "execution_count": 41,
   "metadata": {},
   "outputs": [
    {
     "data": {
      "text/plain": [
       "0    Rio\n",
       "Name: destination, dtype: object"
      ]
     },
     "execution_count": 41,
     "metadata": {},
     "output_type": "execute_result"
    }
   ],
   "source": [
    "travel_dataset[\"destination\"].mode()"
   ]
  },
  {
   "cell_type": "markdown",
   "metadata": {},
   "source": [
    "#### Data exploration: bivariate"
   ]
  },
  {
   "cell_type": "markdown",
   "metadata": {},
   "source": [
    "We will always also look at the combinations of variables and see if those have interesting insights.\n",
    "\n"
   ]
  },
  {
   "cell_type": "markdown",
   "metadata": {},
   "source": [
    "##### ❓ What pairs of variables do you think are interesting to look at?\n"
   ]
  },
  {
   "cell_type": "markdown",
   "metadata": {},
   "source": [
    "Destination and Age\n",
    "\n",
    "stay length and destination\n",
    "\n",
    "Age and cost\n",
    "\n",
    "cost and stay length"
   ]
  },
  {
   "cell_type": "markdown",
   "metadata": {},
   "source": [
    "##### ❓ What methods can you use to do this?"
   ]
  },
  {
   "cell_type": "markdown",
   "metadata": {},
   "source": [
    "Categorical + continuous\n",
    "\n",
    "* Group by aggregation function\n",
    "\n",
    "Categorical + Categorical\n",
    "\n",
    "* Frequency table\n",
    "\n",
    "Continuous + continuous \n",
    "\n",
    "* Correlation"
   ]
  },
  {
   "cell_type": "markdown",
   "metadata": {},
   "source": [
    "##### ❓ Carry out these analyses\n",
    "\n",
    "💻📊💡 TIP: Things like  `dataframe[[\"column1\", \"column2\"]].groupby(\"column1\").mean()` are valid Pandas. In SQL this would be `select column1, mean(column2) from dataframe group by column 1` "
   ]
  },
  {
   "cell_type": "code",
   "execution_count": 42,
   "metadata": {},
   "outputs": [
    {
     "data": {
      "text/html": [
       "<div>\n",
       "<style scoped>\n",
       "    .dataframe tbody tr th:only-of-type {\n",
       "        vertical-align: middle;\n",
       "    }\n",
       "\n",
       "    .dataframe tbody tr th {\n",
       "        vertical-align: top;\n",
       "    }\n",
       "\n",
       "    .dataframe thead th {\n",
       "        text-align: right;\n",
       "    }\n",
       "</style>\n",
       "<table border=\"1\" class=\"dataframe\">\n",
       "  <thead>\n",
       "    <tr style=\"text-align: right;\">\n",
       "      <th></th>\n",
       "      <th>age</th>\n",
       "      <th>cost</th>\n",
       "      <th>stay_length</th>\n",
       "    </tr>\n",
       "  </thead>\n",
       "  <tbody>\n",
       "    <tr>\n",
       "      <th>age</th>\n",
       "      <td>1.000000</td>\n",
       "      <td>0.016005</td>\n",
       "      <td>0.001364</td>\n",
       "    </tr>\n",
       "    <tr>\n",
       "      <th>cost</th>\n",
       "      <td>0.016005</td>\n",
       "      <td>1.000000</td>\n",
       "      <td>0.752304</td>\n",
       "    </tr>\n",
       "    <tr>\n",
       "      <th>stay_length</th>\n",
       "      <td>0.001364</td>\n",
       "      <td>0.752304</td>\n",
       "      <td>1.000000</td>\n",
       "    </tr>\n",
       "  </tbody>\n",
       "</table>\n",
       "</div>"
      ],
      "text/plain": [
       "                  age      cost  stay_length\n",
       "age          1.000000  0.016005     0.001364\n",
       "cost         0.016005  1.000000     0.752304\n",
       "stay_length  0.001364  0.752304     1.000000"
      ]
     },
     "execution_count": 42,
     "metadata": {},
     "output_type": "execute_result"
    }
   ],
   "source": [
    "travel_dataset[[\"age\", \"cost\", \"stay_length\"]].corr()"
   ]
  },
  {
   "cell_type": "code",
   "execution_count": 43,
   "metadata": {},
   "outputs": [
    {
     "data": {
      "text/html": [
       "<div>\n",
       "<style scoped>\n",
       "    .dataframe tbody tr th:only-of-type {\n",
       "        vertical-align: middle;\n",
       "    }\n",
       "\n",
       "    .dataframe tbody tr th {\n",
       "        vertical-align: top;\n",
       "    }\n",
       "\n",
       "    .dataframe thead th {\n",
       "        text-align: right;\n",
       "    }\n",
       "</style>\n",
       "<table border=\"1\" class=\"dataframe\">\n",
       "  <thead>\n",
       "    <tr style=\"text-align: right;\">\n",
       "      <th></th>\n",
       "      <th>cost</th>\n",
       "      <th>age</th>\n",
       "      <th>stay_length</th>\n",
       "    </tr>\n",
       "    <tr>\n",
       "      <th>destination</th>\n",
       "      <th></th>\n",
       "      <th></th>\n",
       "      <th></th>\n",
       "    </tr>\n",
       "  </thead>\n",
       "  <tbody>\n",
       "    <tr>\n",
       "      <th>Cairo</th>\n",
       "      <td>5895.009655</td>\n",
       "      <td>39.873328</td>\n",
       "      <td>10.619197</td>\n",
       "    </tr>\n",
       "    <tr>\n",
       "      <th>Cape Town</th>\n",
       "      <td>5563.443851</td>\n",
       "      <td>40.129902</td>\n",
       "      <td>10.519608</td>\n",
       "    </tr>\n",
       "    <tr>\n",
       "      <th>New York</th>\n",
       "      <td>6025.465088</td>\n",
       "      <td>39.782750</td>\n",
       "      <td>10.732303</td>\n",
       "    </tr>\n",
       "    <tr>\n",
       "      <th>Paris</th>\n",
       "      <td>6043.698690</td>\n",
       "      <td>39.824464</td>\n",
       "      <td>10.852264</td>\n",
       "    </tr>\n",
       "    <tr>\n",
       "      <th>Rio</th>\n",
       "      <td>5334.818420</td>\n",
       "      <td>39.658159</td>\n",
       "      <td>9.936582</td>\n",
       "    </tr>\n",
       "    <tr>\n",
       "      <th>Rome</th>\n",
       "      <td>5787.009506</td>\n",
       "      <td>39.567251</td>\n",
       "      <td>10.370092</td>\n",
       "    </tr>\n",
       "    <tr>\n",
       "      <th>Sydney</th>\n",
       "      <td>5269.222825</td>\n",
       "      <td>40.051765</td>\n",
       "      <td>9.951373</td>\n",
       "    </tr>\n",
       "    <tr>\n",
       "      <th>Tokyo</th>\n",
       "      <td>6109.768426</td>\n",
       "      <td>40.912939</td>\n",
       "      <td>10.973642</td>\n",
       "    </tr>\n",
       "  </tbody>\n",
       "</table>\n",
       "</div>"
      ],
      "text/plain": [
       "                    cost        age  stay_length\n",
       "destination                                     \n",
       "Cairo        5895.009655  39.873328    10.619197\n",
       "Cape Town    5563.443851  40.129902    10.519608\n",
       "New York     6025.465088  39.782750    10.732303\n",
       "Paris        6043.698690  39.824464    10.852264\n",
       "Rio          5334.818420  39.658159     9.936582\n",
       "Rome         5787.009506  39.567251    10.370092\n",
       "Sydney       5269.222825  40.051765     9.951373\n",
       "Tokyo        6109.768426  40.912939    10.973642"
      ]
     },
     "execution_count": 43,
     "metadata": {},
     "output_type": "execute_result"
    }
   ],
   "source": [
    "travel_dataset[[\"cost\", \"destination\", \"age\", \"stay_length\"]].groupby(\"destination\").mean()"
   ]
  },
  {
   "cell_type": "markdown",
   "metadata": {},
   "source": [
    "That rounds up today's session. In the next session we will cover plotting in Python using Matplotlib and Seaborn. Right now all of your data analysis has been tables but plots are a lot more ergonomic to present your results in."
   ]
  }
 ],
 "metadata": {
  "kernelspec": {
   "display_name": ".venv",
   "language": "python",
   "name": "python3"
  },
  "language_info": {
   "codemirror_mode": {
    "name": "ipython",
    "version": 3
   },
   "file_extension": ".py",
   "mimetype": "text/x-python",
   "name": "python",
   "nbconvert_exporter": "python",
   "pygments_lexer": "ipython3",
   "version": "3.11.3"
  },
  "orig_nbformat": 4
 },
 "nbformat": 4,
 "nbformat_minor": 2
}
