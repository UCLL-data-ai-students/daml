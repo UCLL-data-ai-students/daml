{
 "cells": [
  {
   "cell_type": "markdown",
   "metadata": {},
   "source": [
    "<img src=\"images\\Logo_UCLL_ENG_RGB.png\" style=\"background-color:white;\" />\n",
    "\n",
    "# Data Analytics & Machine learning\n",
    "\n",
    "Lecturers: Aimée Lynn Backiel, Chidi Nweke, Daan Nijs\n",
    "\n",
    "Academic year 2023-2024\n",
    "\n",
    "## Lab 3: Data analytics with Pandas"
   ]
  },
  {
   "cell_type": "markdown",
   "metadata": {},
   "source": [
    "### Lecture outline\n",
    "\n",
    "1. Recap last week\n",
    "2. Introduction to the case\n",
    "3. Data exploration using Pandas\n",
    "   1. Univariate analysis\n",
    "   2. Bivariate analysis"
   ]
  },
  {
   "cell_type": "markdown",
   "metadata": {},
   "source": [
    "### Recap of last lecture(s)\n",
    "\n",
    "#### Lab 1\n",
    "\n",
    "1. We ensured we had a valid Python installation.\n",
    "2. We learnt what a virtual environment is:\n",
    "   * Isolated Python executable and packages.\n",
    "   * We created a virtual environment.\n",
    "3. Absolute path vs relative path recap.\n",
    "4. Recap of data structures in Python\n",
    "\n",
    "#### Lab 2\n",
    "1. Installed Pandas\n",
    "2. Learnt how to read data\n",
    "3. Learnt how to calculate mean, mode, median etc.\n",
    "4. Basic exploration of the 4 variables"
   ]
  },
  {
   "cell_type": "markdown",
   "metadata": {},
   "source": [
    "### The case"
   ]
  },
  {
   "cell_type": "markdown",
   "metadata": {},
   "source": [
    "Ada Turing Travelogue, or as everyone calls her, Ada just started working part time at her parents travel agency. She has a keen understanding and interest of everything related to applied computer science ranging from server & system management to full stack software development. Through database foundations she already understands how to query data and programming 1 and 2 covered the essentials about the Python programming language. Recently she has just decided to start learning about data analytics & machine learning as well.\n",
    "\n",
    "She uses her skills to connect to the travel agency's database where she finds many, normalized, tables. Ada recalls what she learnt in database foundations and performs all the correct joins. Afterwards she saves the data in the `data/` folder.\n",
    "\n",
    "\n",
    "She finds the following dataset:\n",
    "\n",
    "| Column Name          | Description                                                                                       |\n",
    "| -------------------- | ------------------------------------------------------------------------------------------------- |\n",
    "| SalesID              | Unique identifier for each sale.                                                                  |\n",
    "| Age                  | Age of the traveler.                                                                              |\n",
    "| Country              | Country of origin of the traveler.                                                                |\n",
    "| Membership_Status    | Membership level of the traveler in the booking system; could be 'standard', 'silver', or 'gold'. |\n",
    "| Previous_Purchases   | Number of previous bookings made by the traveler.                                                 |\n",
    "| Destination          | Travel destination chosen by the traveler.                                                        |\n",
    "| Stay_length          | Duration of stay at the destination.                                                              |\n",
    "| Guests               | Number of guests traveling (including the primary traveler).                                             |\n",
    "| Travel_month         | Month in which the travel is scheduled.                                                           |\n",
    "| Months_before_travel | Number of months prior to travel that the booking was made.                                       |\n",
    "| Earlybird_discount   | Boolean flag indicating whether the traveler received an early bird discount.                     |\n",
    "| Package_Type         | Type of travel package chosen by the traveler.                                                    |\n",
    "| Cost                 | Calculated cost of the travel package.                                                            |\n",
    "| Margin | The cost (for the traveler) - what the travel agency pays. |\n",
    " | Additional_Services_Cost| The amount of additional services (towels, car rentals, room service, ...) that was bought during the trip. |\n"
   ]
  },
  {
   "cell_type": "markdown",
   "metadata": {},
   "source": [
    "### Helping Ada explore the dataset"
   ]
  },
  {
   "cell_type": "markdown",
   "metadata": {},
   "source": [
    "The main goal for the remainder of this lab is to explore the data. We will specifically take four columns:\n",
    "\n",
    "* Cost\n",
    "* age\n",
    "* stay length\n",
    "* Destination\n",
    "\n",
    "Our goal is to find interesting relationships between them.\n",
    "\n",
    "As was covered in the book and lecture there are to main data types in analytics: categorical and continuous data. This is a crucial first step in your analysis because it determines what methods make sense on your data.\n"
   ]
  },
  {
   "cell_type": "markdown",
   "metadata": {},
   "source": [
    "**The goal is primarily to find out what influences the cost of the stay.**"
   ]
  },
  {
   "cell_type": "markdown",
   "metadata": {},
   "source": [
    "### Introduction to Pandas"
   ]
  },
  {
   "cell_type": "markdown",
   "metadata": {},
   "source": [
    "#### Reading and exploring data"
   ]
  },
  {
   "cell_type": "code",
   "execution_count": 1,
   "metadata": {},
   "outputs": [],
   "source": [
    "import pandas as pd # by convention\n",
    "pd.options.display.float_format = '{:.2f}'.format"
   ]
  },
  {
   "cell_type": "code",
   "execution_count": 2,
   "metadata": {},
   "outputs": [],
   "source": [
    "travel_dataset = pd.read_csv(\"data/lab_3_dataset.csv\")"
   ]
  },
  {
   "cell_type": "markdown",
   "metadata": {},
   "source": [
    "One of the first things you typically do with a dataset is print out the first few rows. "
   ]
  },
  {
   "cell_type": "code",
   "execution_count": 3,
   "metadata": {},
   "outputs": [
    {
     "data": {
      "text/html": [
       "<div>\n",
       "<style scoped>\n",
       "    .dataframe tbody tr th:only-of-type {\n",
       "        vertical-align: middle;\n",
       "    }\n",
       "\n",
       "    .dataframe tbody tr th {\n",
       "        vertical-align: top;\n",
       "    }\n",
       "\n",
       "    .dataframe thead th {\n",
       "        text-align: right;\n",
       "    }\n",
       "</style>\n",
       "<table border=\"1\" class=\"dataframe\">\n",
       "  <thead>\n",
       "    <tr style=\"text-align: right;\">\n",
       "      <th></th>\n",
       "      <th>Unnamed: 0</th>\n",
       "      <th>sales_id</th>\n",
       "      <th>age</th>\n",
       "      <th>country</th>\n",
       "      <th>membership_status</th>\n",
       "      <th>previous_purchases</th>\n",
       "      <th>destination</th>\n",
       "      <th>stay_length</th>\n",
       "      <th>guests</th>\n",
       "      <th>travel_month</th>\n",
       "      <th>months_before_travel</th>\n",
       "      <th>earlybird_discount</th>\n",
       "      <th>package_Type</th>\n",
       "      <th>cost</th>\n",
       "      <th>rating</th>\n",
       "      <th>margin</th>\n",
       "      <th>additional_services_cost</th>\n",
       "    </tr>\n",
       "  </thead>\n",
       "  <tbody>\n",
       "    <tr>\n",
       "      <th>0</th>\n",
       "      <td>0</td>\n",
       "      <td>1</td>\n",
       "      <td>47</td>\n",
       "      <td>UK</td>\n",
       "      <td>silver</td>\n",
       "      <td>1</td>\n",
       "      <td>Sydney</td>\n",
       "      <td>4</td>\n",
       "      <td>2</td>\n",
       "      <td>7</td>\n",
       "      <td>1</td>\n",
       "      <td>False</td>\n",
       "      <td>Adventure</td>\n",
       "      <td>1706.09</td>\n",
       "      <td>6</td>\n",
       "      <td>1219.74</td>\n",
       "      <td>291.06</td>\n",
       "    </tr>\n",
       "    <tr>\n",
       "      <th>1</th>\n",
       "      <td>1</td>\n",
       "      <td>2</td>\n",
       "      <td>37</td>\n",
       "      <td>Italy</td>\n",
       "      <td>silver</td>\n",
       "      <td>5</td>\n",
       "      <td>Tokyo</td>\n",
       "      <td>4</td>\n",
       "      <td>2</td>\n",
       "      <td>8</td>\n",
       "      <td>4</td>\n",
       "      <td>False</td>\n",
       "      <td>Adventure</td>\n",
       "      <td>281233.19</td>\n",
       "      <td>7</td>\n",
       "      <td>1570.39</td>\n",
       "      <td>405.52</td>\n",
       "    </tr>\n",
       "    <tr>\n",
       "      <th>2</th>\n",
       "      <td>2</td>\n",
       "      <td>3</td>\n",
       "      <td>49</td>\n",
       "      <td>USA</td>\n",
       "      <td>standard</td>\n",
       "      <td>2</td>\n",
       "      <td>Sydney</td>\n",
       "      <td>3</td>\n",
       "      <td>4</td>\n",
       "      <td>7</td>\n",
       "      <td>1</td>\n",
       "      <td>False</td>\n",
       "      <td>Cultural</td>\n",
       "      <td>2829.92</td>\n",
       "      <td>6</td>\n",
       "      <td>2360.49</td>\n",
       "      <td>285.36</td>\n",
       "    </tr>\n",
       "    <tr>\n",
       "      <th>3</th>\n",
       "      <td>3</td>\n",
       "      <td>4</td>\n",
       "      <td>62</td>\n",
       "      <td>Spain</td>\n",
       "      <td>silver</td>\n",
       "      <td>2</td>\n",
       "      <td>Cape Town</td>\n",
       "      <td>7</td>\n",
       "      <td>2</td>\n",
       "      <td>1</td>\n",
       "      <td>3</td>\n",
       "      <td>True</td>\n",
       "      <td>Adventure</td>\n",
       "      <td>2789.53</td>\n",
       "      <td>7</td>\n",
       "      <td>2315.66</td>\n",
       "      <td>747.53</td>\n",
       "    </tr>\n",
       "    <tr>\n",
       "      <th>4</th>\n",
       "      <td>4</td>\n",
       "      <td>5</td>\n",
       "      <td>36</td>\n",
       "      <td>Germany</td>\n",
       "      <td>silver</td>\n",
       "      <td>3</td>\n",
       "      <td>Paris</td>\n",
       "      <td>9</td>\n",
       "      <td>3</td>\n",
       "      <td>2</td>\n",
       "      <td>7</td>\n",
       "      <td>False</td>\n",
       "      <td>Adventure</td>\n",
       "      <td>5358.00</td>\n",
       "      <td>5</td>\n",
       "      <td>5042.14</td>\n",
       "      <td>1117.09</td>\n",
       "    </tr>\n",
       "  </tbody>\n",
       "</table>\n",
       "</div>"
      ],
      "text/plain": [
       "   Unnamed: 0  sales_id  age  country membership_status  previous_purchases  \\\n",
       "0           0         1   47       UK            silver                   1   \n",
       "1           1         2   37    Italy            silver                   5   \n",
       "2           2         3   49      USA          standard                   2   \n",
       "3           3         4   62    Spain            silver                   2   \n",
       "4           4         5   36  Germany            silver                   3   \n",
       "\n",
       "  destination  stay_length  guests  travel_month  months_before_travel  \\\n",
       "0      Sydney            4       2             7                     1   \n",
       "1       Tokyo            4       2             8                     4   \n",
       "2      Sydney            3       4             7                     1   \n",
       "3   Cape Town            7       2             1                     3   \n",
       "4       Paris            9       3             2                     7   \n",
       "\n",
       "   earlybird_discount package_Type      cost  rating  margin  \\\n",
       "0               False    Adventure   1706.09       6 1219.74   \n",
       "1               False    Adventure 281233.19       7 1570.39   \n",
       "2               False     Cultural   2829.92       6 2360.49   \n",
       "3                True    Adventure   2789.53       7 2315.66   \n",
       "4               False    Adventure   5358.00       5 5042.14   \n",
       "\n",
       "   additional_services_cost  \n",
       "0                    291.06  \n",
       "1                    405.52  \n",
       "2                    285.36  \n",
       "3                    747.53  \n",
       "4                   1117.09  "
      ]
     },
     "execution_count": 3,
     "metadata": {},
     "output_type": "execute_result"
    }
   ],
   "source": [
    "travel_dataset.head()"
   ]
  },
  {
   "cell_type": "markdown",
   "metadata": {},
   "source": [
    "Accessing the columns is equally trivial."
   ]
  },
  {
   "cell_type": "code",
   "execution_count": 4,
   "metadata": {},
   "outputs": [
    {
     "data": {
      "text/plain": [
       "Index(['Unnamed: 0', 'sales_id', 'age', 'country', 'membership_status',\n",
       "       'previous_purchases', 'destination', 'stay_length', 'guests',\n",
       "       'travel_month', 'months_before_travel', 'earlybird_discount',\n",
       "       'package_Type', 'cost', 'rating', 'margin', 'additional_services_cost'],\n",
       "      dtype='object')"
      ]
     },
     "execution_count": 4,
     "metadata": {},
     "output_type": "execute_result"
    }
   ],
   "source": [
    "travel_dataset.columns"
   ]
  },
  {
   "cell_type": "code",
   "execution_count": 5,
   "metadata": {},
   "outputs": [
    {
     "data": {
      "text/html": [
       "<div>\n",
       "<style scoped>\n",
       "    .dataframe tbody tr th:only-of-type {\n",
       "        vertical-align: middle;\n",
       "    }\n",
       "\n",
       "    .dataframe tbody tr th {\n",
       "        vertical-align: top;\n",
       "    }\n",
       "\n",
       "    .dataframe thead th {\n",
       "        text-align: right;\n",
       "    }\n",
       "</style>\n",
       "<table border=\"1\" class=\"dataframe\">\n",
       "  <thead>\n",
       "    <tr style=\"text-align: right;\">\n",
       "      <th></th>\n",
       "      <th>country</th>\n",
       "      <th>stay_length</th>\n",
       "      <th>age</th>\n",
       "      <th>cost</th>\n",
       "    </tr>\n",
       "  </thead>\n",
       "  <tbody>\n",
       "    <tr>\n",
       "      <th>0</th>\n",
       "      <td>UK</td>\n",
       "      <td>4</td>\n",
       "      <td>47</td>\n",
       "      <td>1706.09</td>\n",
       "    </tr>\n",
       "    <tr>\n",
       "      <th>1</th>\n",
       "      <td>Italy</td>\n",
       "      <td>4</td>\n",
       "      <td>37</td>\n",
       "      <td>281233.19</td>\n",
       "    </tr>\n",
       "    <tr>\n",
       "      <th>2</th>\n",
       "      <td>USA</td>\n",
       "      <td>3</td>\n",
       "      <td>49</td>\n",
       "      <td>2829.92</td>\n",
       "    </tr>\n",
       "    <tr>\n",
       "      <th>3</th>\n",
       "      <td>Spain</td>\n",
       "      <td>7</td>\n",
       "      <td>62</td>\n",
       "      <td>2789.53</td>\n",
       "    </tr>\n",
       "    <tr>\n",
       "      <th>4</th>\n",
       "      <td>Germany</td>\n",
       "      <td>9</td>\n",
       "      <td>36</td>\n",
       "      <td>5358.00</td>\n",
       "    </tr>\n",
       "    <tr>\n",
       "      <th>...</th>\n",
       "      <td>...</td>\n",
       "      <td>...</td>\n",
       "      <td>...</td>\n",
       "      <td>...</td>\n",
       "    </tr>\n",
       "    <tr>\n",
       "      <th>9995</th>\n",
       "      <td>Germany</td>\n",
       "      <td>11</td>\n",
       "      <td>59</td>\n",
       "      <td>7504.78</td>\n",
       "    </tr>\n",
       "    <tr>\n",
       "      <th>9996</th>\n",
       "      <td>Australia</td>\n",
       "      <td>6</td>\n",
       "      <td>18</td>\n",
       "      <td>1427.12</td>\n",
       "    </tr>\n",
       "    <tr>\n",
       "      <th>9997</th>\n",
       "      <td>USA</td>\n",
       "      <td>5</td>\n",
       "      <td>29</td>\n",
       "      <td>3458.86</td>\n",
       "    </tr>\n",
       "    <tr>\n",
       "      <th>9998</th>\n",
       "      <td>USA</td>\n",
       "      <td>16</td>\n",
       "      <td>47</td>\n",
       "      <td>18392.27</td>\n",
       "    </tr>\n",
       "    <tr>\n",
       "      <th>9999</th>\n",
       "      <td>Canada</td>\n",
       "      <td>15</td>\n",
       "      <td>49</td>\n",
       "      <td>3041.91</td>\n",
       "    </tr>\n",
       "  </tbody>\n",
       "</table>\n",
       "<p>10000 rows × 4 columns</p>\n",
       "</div>"
      ],
      "text/plain": [
       "        country  stay_length  age      cost\n",
       "0            UK            4   47   1706.09\n",
       "1         Italy            4   37 281233.19\n",
       "2           USA            3   49   2829.92\n",
       "3         Spain            7   62   2789.53\n",
       "4       Germany            9   36   5358.00\n",
       "...         ...          ...  ...       ...\n",
       "9995    Germany           11   59   7504.78\n",
       "9996  Australia            6   18   1427.12\n",
       "9997        USA            5   29   3458.86\n",
       "9998        USA           16   47  18392.27\n",
       "9999     Canada           15   49   3041.91\n",
       "\n",
       "[10000 rows x 4 columns]"
      ]
     },
     "execution_count": 5,
     "metadata": {},
     "output_type": "execute_result"
    }
   ],
   "source": [
    "travel_dataset[[\"country\", \"stay_length\", \"age\", \"cost\"]]\n"
   ]
  },
  {
   "cell_type": "markdown",
   "metadata": {},
   "source": [
    "To get multiple columns at once we need to pass in a list of columns"
   ]
  },
  {
   "cell_type": "code",
   "execution_count": 6,
   "metadata": {},
   "outputs": [
    {
     "data": {
      "text/html": [
       "<div>\n",
       "<style scoped>\n",
       "    .dataframe tbody tr th:only-of-type {\n",
       "        vertical-align: middle;\n",
       "    }\n",
       "\n",
       "    .dataframe tbody tr th {\n",
       "        vertical-align: top;\n",
       "    }\n",
       "\n",
       "    .dataframe thead th {\n",
       "        text-align: right;\n",
       "    }\n",
       "</style>\n",
       "<table border=\"1\" class=\"dataframe\">\n",
       "  <thead>\n",
       "    <tr style=\"text-align: right;\">\n",
       "      <th></th>\n",
       "      <th>country</th>\n",
       "      <th>stay_length</th>\n",
       "      <th>age</th>\n",
       "      <th>cost</th>\n",
       "    </tr>\n",
       "  </thead>\n",
       "  <tbody>\n",
       "    <tr>\n",
       "      <th>0</th>\n",
       "      <td>UK</td>\n",
       "      <td>4</td>\n",
       "      <td>47</td>\n",
       "      <td>1706.09</td>\n",
       "    </tr>\n",
       "    <tr>\n",
       "      <th>1</th>\n",
       "      <td>Italy</td>\n",
       "      <td>4</td>\n",
       "      <td>37</td>\n",
       "      <td>281233.19</td>\n",
       "    </tr>\n",
       "    <tr>\n",
       "      <th>2</th>\n",
       "      <td>USA</td>\n",
       "      <td>3</td>\n",
       "      <td>49</td>\n",
       "      <td>2829.92</td>\n",
       "    </tr>\n",
       "    <tr>\n",
       "      <th>3</th>\n",
       "      <td>Spain</td>\n",
       "      <td>7</td>\n",
       "      <td>62</td>\n",
       "      <td>2789.53</td>\n",
       "    </tr>\n",
       "    <tr>\n",
       "      <th>4</th>\n",
       "      <td>Germany</td>\n",
       "      <td>9</td>\n",
       "      <td>36</td>\n",
       "      <td>5358.00</td>\n",
       "    </tr>\n",
       "    <tr>\n",
       "      <th>...</th>\n",
       "      <td>...</td>\n",
       "      <td>...</td>\n",
       "      <td>...</td>\n",
       "      <td>...</td>\n",
       "    </tr>\n",
       "    <tr>\n",
       "      <th>9995</th>\n",
       "      <td>Germany</td>\n",
       "      <td>11</td>\n",
       "      <td>59</td>\n",
       "      <td>7504.78</td>\n",
       "    </tr>\n",
       "    <tr>\n",
       "      <th>9996</th>\n",
       "      <td>Australia</td>\n",
       "      <td>6</td>\n",
       "      <td>18</td>\n",
       "      <td>1427.12</td>\n",
       "    </tr>\n",
       "    <tr>\n",
       "      <th>9997</th>\n",
       "      <td>USA</td>\n",
       "      <td>5</td>\n",
       "      <td>29</td>\n",
       "      <td>3458.86</td>\n",
       "    </tr>\n",
       "    <tr>\n",
       "      <th>9998</th>\n",
       "      <td>USA</td>\n",
       "      <td>16</td>\n",
       "      <td>47</td>\n",
       "      <td>18392.27</td>\n",
       "    </tr>\n",
       "    <tr>\n",
       "      <th>9999</th>\n",
       "      <td>Canada</td>\n",
       "      <td>15</td>\n",
       "      <td>49</td>\n",
       "      <td>3041.91</td>\n",
       "    </tr>\n",
       "  </tbody>\n",
       "</table>\n",
       "<p>10000 rows × 4 columns</p>\n",
       "</div>"
      ],
      "text/plain": [
       "        country  stay_length  age      cost\n",
       "0            UK            4   47   1706.09\n",
       "1         Italy            4   37 281233.19\n",
       "2           USA            3   49   2829.92\n",
       "3         Spain            7   62   2789.53\n",
       "4       Germany            9   36   5358.00\n",
       "...         ...          ...  ...       ...\n",
       "9995    Germany           11   59   7504.78\n",
       "9996  Australia            6   18   1427.12\n",
       "9997        USA            5   29   3458.86\n",
       "9998        USA           16   47  18392.27\n",
       "9999     Canada           15   49   3041.91\n",
       "\n",
       "[10000 rows x 4 columns]"
      ]
     },
     "execution_count": 6,
     "metadata": {},
     "output_type": "execute_result"
    }
   ],
   "source": [
    "columns = [\"country\", \"stay_length\", \"age\", \"cost\"]\n",
    "travel_dataset_subset = travel_dataset[columns]\n",
    "travel_dataset_subset"
   ]
  },
  {
   "cell_type": "markdown",
   "metadata": {},
   "source": [
    "#### Data exploration: univariate"
   ]
  },
  {
   "cell_type": "markdown",
   "metadata": {},
   "source": [
    "We will continue the exploration of our country, destination, stay_length, age and cost variables.\n",
    "\n",
    "1. We will start with a univariate analysis, which means we will explore one (uni) variable (variate) at a time. \n",
    "2. Later on we will move to two (bi) variables (variate) analyses \n",
    "3. We round it up with methods that are able to do multivariate analysis. "
   ]
  },
  {
   "cell_type": "markdown",
   "metadata": {},
   "source": [
    "Recall that \n",
    "\n",
    "1. **Categorical variables** represent categories or labels (e.g., colors, genders). \n",
    "2. **Numeric variables** represent quantities and can be ordered or measured (e.g., age, height). \n",
    "3. There is a special case called **Ordinal variables**, these are categories where there is a meaningful order (e.g., clothes sizes: small, medium and large)."
   ]
  },
  {
   "cell_type": "markdown",
   "metadata": {},
   "source": [
    "#### summarizing numeric data\n",
    "\n",
    "💻📊💡 TIP: the names of the functions are intuitive. For instance `dataframe[column].min()` gets the minimum of that column. It is equivalent to `select min(column) from dataframe` in SQL. Knowing SQL makes it easy to translate back and forth.\n",
    "\n",
    "💻📊💡 TIP: become good friends with the <a href=./Pandas_Cheat_Sheet.pdf>the cheat sheet</a> and the documentation"
   ]
  },
  {
   "cell_type": "code",
   "execution_count": 7,
   "metadata": {},
   "outputs": [
    {
     "data": {
      "text/plain": [
       "39.9759"
      ]
     },
     "execution_count": 7,
     "metadata": {},
     "output_type": "execute_result"
    }
   ],
   "source": [
    "travel_dataset[\"age\"].mean()"
   ]
  },
  {
   "cell_type": "code",
   "execution_count": 8,
   "metadata": {},
   "outputs": [
    {
     "data": {
      "text/plain": [
       "39.0"
      ]
     },
     "execution_count": 8,
     "metadata": {},
     "output_type": "execute_result"
    }
   ],
   "source": [
    "travel_dataset[\"age\"].median()"
   ]
  },
  {
   "cell_type": "code",
   "execution_count": 9,
   "metadata": {},
   "outputs": [
    {
     "data": {
      "text/plain": [
       "18"
      ]
     },
     "execution_count": 9,
     "metadata": {},
     "output_type": "execute_result"
    }
   ],
   "source": [
    "travel_dataset[\"age\"].min()"
   ]
  },
  {
   "cell_type": "code",
   "execution_count": 10,
   "metadata": {},
   "outputs": [
    {
     "data": {
      "text/plain": [
       "80"
      ]
     },
     "execution_count": 10,
     "metadata": {},
     "output_type": "execute_result"
    }
   ],
   "source": [
    "travel_dataset[\"age\"].max()"
   ]
  },
  {
   "cell_type": "code",
   "execution_count": 11,
   "metadata": {},
   "outputs": [
    {
     "data": {
      "text/plain": [
       "14.001640039023222"
      ]
     },
     "execution_count": 11,
     "metadata": {},
     "output_type": "execute_result"
    }
   ],
   "source": [
    "travel_dataset[\"age\"].std()"
   ]
  },
  {
   "cell_type": "markdown",
   "metadata": {},
   "source": [
    "###### Cost"
   ]
  },
  {
   "cell_type": "code",
   "execution_count": 12,
   "metadata": {},
   "outputs": [
    {
     "data": {
      "text/plain": [
       "114814.73843388166"
      ]
     },
     "execution_count": 12,
     "metadata": {},
     "output_type": "execute_result"
    }
   ],
   "source": [
    "travel_dataset[\"cost\"].mean()"
   ]
  },
  {
   "cell_type": "code",
   "execution_count": 13,
   "metadata": {},
   "outputs": [
    {
     "data": {
      "text/plain": [
       "-1000000.0"
      ]
     },
     "execution_count": 13,
     "metadata": {},
     "output_type": "execute_result"
    }
   ],
   "source": [
    "travel_dataset[\"cost\"].min()"
   ]
  },
  {
   "cell_type": "code",
   "execution_count": 14,
   "metadata": {},
   "outputs": [
    {
     "data": {
      "text/plain": [
       "6724039.169066888"
      ]
     },
     "execution_count": 14,
     "metadata": {},
     "output_type": "execute_result"
    }
   ],
   "source": [
    "travel_dataset[\"cost\"].max()"
   ]
  },
  {
   "cell_type": "code",
   "execution_count": 15,
   "metadata": {},
   "outputs": [
    {
     "data": {
      "text/plain": [
       "4845.140257645777"
      ]
     },
     "execution_count": 15,
     "metadata": {},
     "output_type": "execute_result"
    }
   ],
   "source": [
    "travel_dataset[\"cost\"].median()"
   ]
  },
  {
   "cell_type": "code",
   "execution_count": 16,
   "metadata": {},
   "outputs": [
    {
     "data": {
      "text/plain": [
       "457712.60775489296"
      ]
     },
     "execution_count": 16,
     "metadata": {},
     "output_type": "execute_result"
    }
   ],
   "source": [
    "travel_dataset[\"cost\"].std()"
   ]
  },
  {
   "cell_type": "markdown",
   "metadata": {},
   "source": [
    "###### stay length"
   ]
  },
  {
   "cell_type": "code",
   "execution_count": 17,
   "metadata": {},
   "outputs": [
    {
     "data": {
      "text/plain": [
       "10.4914"
      ]
     },
     "execution_count": 17,
     "metadata": {},
     "output_type": "execute_result"
    }
   ],
   "source": [
    "travel_dataset[\"stay_length\"].mean()"
   ]
  },
  {
   "cell_type": "code",
   "execution_count": 18,
   "metadata": {},
   "outputs": [
    {
     "data": {
      "text/plain": [
       "1"
      ]
     },
     "execution_count": 18,
     "metadata": {},
     "output_type": "execute_result"
    }
   ],
   "source": [
    "travel_dataset[\"stay_length\"].min()"
   ]
  },
  {
   "cell_type": "code",
   "execution_count": 19,
   "metadata": {},
   "outputs": [
    {
     "data": {
      "text/plain": [
       "68"
      ]
     },
     "execution_count": 19,
     "metadata": {},
     "output_type": "execute_result"
    }
   ],
   "source": [
    "travel_dataset[\"stay_length\"].max()"
   ]
  },
  {
   "cell_type": "code",
   "execution_count": 20,
   "metadata": {},
   "outputs": [
    {
     "data": {
      "text/plain": [
       "9.0"
      ]
     },
     "execution_count": 20,
     "metadata": {},
     "output_type": "execute_result"
    }
   ],
   "source": [
    "travel_dataset[\"stay_length\"].median()"
   ]
  },
  {
   "cell_type": "code",
   "execution_count": 21,
   "metadata": {},
   "outputs": [
    {
     "data": {
      "text/plain": [
       "7.053516941932231"
      ]
     },
     "execution_count": 21,
     "metadata": {},
     "output_type": "execute_result"
    }
   ],
   "source": [
    "travel_dataset[\"stay_length\"].std()"
   ]
  },
  {
   "cell_type": "markdown",
   "metadata": {},
   "source": [
    "##### 💻📊💡 TIP: there are better ways to do this"
   ]
  },
  {
   "cell_type": "code",
   "execution_count": 22,
   "metadata": {},
   "outputs": [
    {
     "data": {
      "text/plain": [
       "age                 18.00\n",
       "stay_length          1.00\n",
       "cost          -1000000.00\n",
       "dtype: float64"
      ]
     },
     "execution_count": 22,
     "metadata": {},
     "output_type": "execute_result"
    }
   ],
   "source": [
    "# Good\n",
    "travel_dataset[[\"age\",\"stay_length\", \"cost\"]].min()"
   ]
  },
  {
   "cell_type": "code",
   "execution_count": 23,
   "metadata": {},
   "outputs": [],
   "source": [
    "import numpy as np"
   ]
  },
  {
   "cell_type": "code",
   "execution_count": 24,
   "metadata": {},
   "outputs": [
    {
     "data": {
      "text/html": [
       "<div>\n",
       "<style scoped>\n",
       "    .dataframe tbody tr th:only-of-type {\n",
       "        vertical-align: middle;\n",
       "    }\n",
       "\n",
       "    .dataframe tbody tr th {\n",
       "        vertical-align: top;\n",
       "    }\n",
       "\n",
       "    .dataframe thead th {\n",
       "        text-align: right;\n",
       "    }\n",
       "</style>\n",
       "<table border=\"1\" class=\"dataframe\">\n",
       "  <thead>\n",
       "    <tr style=\"text-align: right;\">\n",
       "      <th></th>\n",
       "      <th>age</th>\n",
       "      <th>stay_length</th>\n",
       "      <th>cost</th>\n",
       "    </tr>\n",
       "  </thead>\n",
       "  <tbody>\n",
       "    <tr>\n",
       "      <th>mean</th>\n",
       "      <td>39.98</td>\n",
       "      <td>10.49</td>\n",
       "      <td>114814.74</td>\n",
       "    </tr>\n",
       "    <tr>\n",
       "      <th>amax</th>\n",
       "      <td>80.00</td>\n",
       "      <td>68.00</td>\n",
       "      <td>6724039.17</td>\n",
       "    </tr>\n",
       "    <tr>\n",
       "      <th>median</th>\n",
       "      <td>39.00</td>\n",
       "      <td>9.00</td>\n",
       "      <td>4845.14</td>\n",
       "    </tr>\n",
       "    <tr>\n",
       "      <th>amin</th>\n",
       "      <td>18.00</td>\n",
       "      <td>1.00</td>\n",
       "      <td>-1000000.00</td>\n",
       "    </tr>\n",
       "  </tbody>\n",
       "</table>\n",
       "</div>"
      ],
      "text/plain": [
       "         age  stay_length        cost\n",
       "mean   39.98        10.49   114814.74\n",
       "amax   80.00        68.00  6724039.17\n",
       "median 39.00         9.00     4845.14\n",
       "amin   18.00         1.00 -1000000.00"
      ]
     },
     "execution_count": 24,
     "metadata": {},
     "output_type": "execute_result"
    }
   ],
   "source": [
    "# Better\n",
    "# Notice how we are passing a list of functions in aggregate\n",
    "travel_dataset[[\"age\",\"stay_length\", \"cost\"]].aggregate([np.mean, np.max, np.median, np.min])"
   ]
  },
  {
   "cell_type": "code",
   "execution_count": 25,
   "metadata": {},
   "outputs": [
    {
     "data": {
      "text/html": [
       "<div>\n",
       "<style scoped>\n",
       "    .dataframe tbody tr th:only-of-type {\n",
       "        vertical-align: middle;\n",
       "    }\n",
       "\n",
       "    .dataframe tbody tr th {\n",
       "        vertical-align: top;\n",
       "    }\n",
       "\n",
       "    .dataframe thead th {\n",
       "        text-align: right;\n",
       "    }\n",
       "</style>\n",
       "<table border=\"1\" class=\"dataframe\">\n",
       "  <thead>\n",
       "    <tr style=\"text-align: right;\">\n",
       "      <th></th>\n",
       "      <th>age</th>\n",
       "      <th>stay_length</th>\n",
       "      <th>cost</th>\n",
       "    </tr>\n",
       "  </thead>\n",
       "  <tbody>\n",
       "    <tr>\n",
       "      <th>count</th>\n",
       "      <td>10000.00</td>\n",
       "      <td>10000.00</td>\n",
       "      <td>10000.00</td>\n",
       "    </tr>\n",
       "    <tr>\n",
       "      <th>mean</th>\n",
       "      <td>39.98</td>\n",
       "      <td>10.49</td>\n",
       "      <td>114814.74</td>\n",
       "    </tr>\n",
       "    <tr>\n",
       "      <th>std</th>\n",
       "      <td>14.00</td>\n",
       "      <td>7.05</td>\n",
       "      <td>457712.61</td>\n",
       "    </tr>\n",
       "    <tr>\n",
       "      <th>min</th>\n",
       "      <td>18.00</td>\n",
       "      <td>1.00</td>\n",
       "      <td>-1000000.00</td>\n",
       "    </tr>\n",
       "    <tr>\n",
       "      <th>25%</th>\n",
       "      <td>29.00</td>\n",
       "      <td>5.00</td>\n",
       "      <td>2414.47</td>\n",
       "    </tr>\n",
       "    <tr>\n",
       "      <th>50%</th>\n",
       "      <td>39.00</td>\n",
       "      <td>9.00</td>\n",
       "      <td>4845.14</td>\n",
       "    </tr>\n",
       "    <tr>\n",
       "      <th>75%</th>\n",
       "      <td>50.00</td>\n",
       "      <td>14.00</td>\n",
       "      <td>10222.98</td>\n",
       "    </tr>\n",
       "    <tr>\n",
       "      <th>max</th>\n",
       "      <td>80.00</td>\n",
       "      <td>68.00</td>\n",
       "      <td>6724039.17</td>\n",
       "    </tr>\n",
       "  </tbody>\n",
       "</table>\n",
       "</div>"
      ],
      "text/plain": [
       "           age  stay_length        cost\n",
       "count 10000.00     10000.00    10000.00\n",
       "mean     39.98        10.49   114814.74\n",
       "std      14.00         7.05   457712.61\n",
       "min      18.00         1.00 -1000000.00\n",
       "25%      29.00         5.00     2414.47\n",
       "50%      39.00         9.00     4845.14\n",
       "75%      50.00        14.00    10222.98\n",
       "max      80.00        68.00  6724039.17"
      ]
     },
     "execution_count": 25,
     "metadata": {},
     "output_type": "execute_result"
    }
   ],
   "source": [
    "# Best\n",
    "travel_dataset[[\"age\",\"stay_length\", \"cost\"]].describe()"
   ]
  },
  {
   "cell_type": "markdown",
   "metadata": {},
   "source": [
    "##### ❓ Does anything strike you as odd? "
   ]
  },
  {
   "cell_type": "markdown",
   "metadata": {},
   "source": [
    "There is a large difference between the mean and median cost. This is likely an indication of outliers. We will have to investigate this further."
   ]
  },
  {
   "cell_type": "markdown",
   "metadata": {},
   "source": [
    "##### summarizing categorical data\n",
    "\n",
    "💻📊💡 TIP: `dataframe[column].value_counts()` is a very powerful method. It is equivalent to `select column, count(column) from dataframe group by column`. If you forget `value_counts()` exists you can get there using your SQL knowledge. `dataframe.groupby(\"column\").count()` also gets you very close."
   ]
  },
  {
   "cell_type": "code",
   "execution_count": 26,
   "metadata": {},
   "outputs": [
    {
     "data": {
      "text/plain": [
       "country\n",
       "UK           1320\n",
       "Italy        1274\n",
       "USA          1267\n",
       "France       1266\n",
       "Spain        1265\n",
       "Australia    1222\n",
       "Canada       1214\n",
       "Germany      1172\n",
       "Name: count, dtype: int64"
      ]
     },
     "execution_count": 26,
     "metadata": {},
     "output_type": "execute_result"
    }
   ],
   "source": [
    "travel_dataset[\"country\"].value_counts()"
   ]
  },
  {
   "cell_type": "code",
   "execution_count": 27,
   "metadata": {},
   "outputs": [
    {
     "data": {
      "text/plain": [
       "destination\n",
       "Rio          1293\n",
       "Sydney       1275\n",
       "Cairo        1271\n",
       "Paris        1259\n",
       "Tokyo        1252\n",
       "New York     1229\n",
       "Cape Town    1224\n",
       "Rome         1197\n",
       "Name: count, dtype: int64"
      ]
     },
     "execution_count": 27,
     "metadata": {},
     "output_type": "execute_result"
    }
   ],
   "source": [
    "travel_dataset[\"destination\"].value_counts()"
   ]
  },
  {
   "cell_type": "markdown",
   "metadata": {},
   "source": [
    "#### Data exploration: bivariate"
   ]
  },
  {
   "cell_type": "markdown",
   "metadata": {},
   "source": [
    "##### ❓ What pairs of variables do you think are interesting to look at?\n"
   ]
  },
  {
   "cell_type": "markdown",
   "metadata": {},
   "source": [
    "Age and Cost\n",
    "\n",
    "Cost and Country\n",
    "\n",
    "Stay length and Cost"
   ]
  },
  {
   "cell_type": "markdown",
   "metadata": {},
   "source": [
    "##### ❓ What methods can you use to do this?"
   ]
  },
  {
   "cell_type": "markdown",
   "metadata": {},
   "source": [
    "Categorical + continuous\n",
    "\n",
    "* Group by aggregation function\n",
    "\n",
    "Categorical + Categorical\n",
    "\n",
    "* Frequency table\n",
    "\n",
    "Continuous + continuous \n",
    "\n",
    "* Correlation"
   ]
  },
  {
   "cell_type": "markdown",
   "metadata": {},
   "source": [
    "##### ❓ Carry out these analyses\n",
    "\n",
    "💻📊💡 TIP: Things like  `dataframe[[\"column1\", \"column2\"]].groupby(\"column1\").agg([\"min\", \"max\"])` are valid Pandas.\n",
    "\n",
    " In SQL this would be `select column1, min(column2), max(column2) from dataframe group by column1`.\n",
    "\n",
    "💻📊💡 TIP: `dataframe[columns].groupby(col1).describe()` is possible\n",
    "\n",
    "💻📊💡 TIP: <a href=https://pandas.pydata.org/docs/reference/api/pandas.crosstab.html>Look at</a> `pd.crosstab()`"
   ]
  },
  {
   "cell_type": "code",
   "execution_count": 28,
   "metadata": {},
   "outputs": [
    {
     "data": {
      "text/html": [
       "<div>\n",
       "<style scoped>\n",
       "    .dataframe tbody tr th:only-of-type {\n",
       "        vertical-align: middle;\n",
       "    }\n",
       "\n",
       "    .dataframe tbody tr th {\n",
       "        vertical-align: top;\n",
       "    }\n",
       "\n",
       "    .dataframe thead tr th {\n",
       "        text-align: left;\n",
       "    }\n",
       "\n",
       "    .dataframe thead tr:last-of-type th {\n",
       "        text-align: right;\n",
       "    }\n",
       "</style>\n",
       "<table border=\"1\" class=\"dataframe\">\n",
       "  <thead>\n",
       "    <tr>\n",
       "      <th></th>\n",
       "      <th colspan=\"4\" halign=\"left\">cost</th>\n",
       "    </tr>\n",
       "    <tr>\n",
       "      <th></th>\n",
       "      <th>min</th>\n",
       "      <th>max</th>\n",
       "      <th>median</th>\n",
       "      <th>mean</th>\n",
       "    </tr>\n",
       "    <tr>\n",
       "      <th>country</th>\n",
       "      <th></th>\n",
       "      <th></th>\n",
       "      <th></th>\n",
       "      <th></th>\n",
       "    </tr>\n",
       "  </thead>\n",
       "  <tbody>\n",
       "    <tr>\n",
       "      <th>Australia</th>\n",
       "      <td>-1000000.00</td>\n",
       "      <td>6057070.02</td>\n",
       "      <td>4694.58</td>\n",
       "      <td>101492.50</td>\n",
       "    </tr>\n",
       "    <tr>\n",
       "      <th>Canada</th>\n",
       "      <td>-1000000.00</td>\n",
       "      <td>3449114.18</td>\n",
       "      <td>4773.98</td>\n",
       "      <td>113657.72</td>\n",
       "    </tr>\n",
       "    <tr>\n",
       "      <th>France</th>\n",
       "      <td>-1000000.00</td>\n",
       "      <td>5190741.80</td>\n",
       "      <td>5439.27</td>\n",
       "      <td>111611.85</td>\n",
       "    </tr>\n",
       "    <tr>\n",
       "      <th>Germany</th>\n",
       "      <td>-1000000.00</td>\n",
       "      <td>5997567.85</td>\n",
       "      <td>5158.53</td>\n",
       "      <td>118083.26</td>\n",
       "    </tr>\n",
       "    <tr>\n",
       "      <th>Italy</th>\n",
       "      <td>-1000000.00</td>\n",
       "      <td>6724039.17</td>\n",
       "      <td>4771.74</td>\n",
       "      <td>109234.36</td>\n",
       "    </tr>\n",
       "    <tr>\n",
       "      <th>Spain</th>\n",
       "      <td>-1000000.00</td>\n",
       "      <td>3933809.07</td>\n",
       "      <td>4708.53</td>\n",
       "      <td>114290.41</td>\n",
       "    </tr>\n",
       "    <tr>\n",
       "      <th>UK</th>\n",
       "      <td>-1000000.00</td>\n",
       "      <td>3891507.65</td>\n",
       "      <td>4796.86</td>\n",
       "      <td>122519.59</td>\n",
       "    </tr>\n",
       "    <tr>\n",
       "      <th>USA</th>\n",
       "      <td>-1000000.00</td>\n",
       "      <td>5945497.65</td>\n",
       "      <td>5181.35</td>\n",
       "      <td>127056.91</td>\n",
       "    </tr>\n",
       "  </tbody>\n",
       "</table>\n",
       "</div>"
      ],
      "text/plain": [
       "                 cost                             \n",
       "                  min        max  median      mean\n",
       "country                                           \n",
       "Australia -1000000.00 6057070.02 4694.58 101492.50\n",
       "Canada    -1000000.00 3449114.18 4773.98 113657.72\n",
       "France    -1000000.00 5190741.80 5439.27 111611.85\n",
       "Germany   -1000000.00 5997567.85 5158.53 118083.26\n",
       "Italy     -1000000.00 6724039.17 4771.74 109234.36\n",
       "Spain     -1000000.00 3933809.07 4708.53 114290.41\n",
       "UK        -1000000.00 3891507.65 4796.86 122519.59\n",
       "USA       -1000000.00 5945497.65 5181.35 127056.91"
      ]
     },
     "execution_count": 28,
     "metadata": {},
     "output_type": "execute_result"
    }
   ],
   "source": [
    "travel_dataset[[\"country\", \"cost\"]].groupby(\"country\").agg([\"min\", \"max\", \"median\", \"mean\"])"
   ]
  },
  {
   "cell_type": "code",
   "execution_count": 29,
   "metadata": {},
   "outputs": [
    {
     "data": {
      "text/html": [
       "<div>\n",
       "<style scoped>\n",
       "    .dataframe tbody tr th:only-of-type {\n",
       "        vertical-align: middle;\n",
       "    }\n",
       "\n",
       "    .dataframe tbody tr th {\n",
       "        vertical-align: top;\n",
       "    }\n",
       "\n",
       "    .dataframe thead tr th {\n",
       "        text-align: left;\n",
       "    }\n",
       "\n",
       "    .dataframe thead tr:last-of-type th {\n",
       "        text-align: right;\n",
       "    }\n",
       "</style>\n",
       "<table border=\"1\" class=\"dataframe\">\n",
       "  <thead>\n",
       "    <tr>\n",
       "      <th></th>\n",
       "      <th colspan=\"5\" halign=\"left\">cost</th>\n",
       "    </tr>\n",
       "    <tr>\n",
       "      <th></th>\n",
       "      <th>min</th>\n",
       "      <th>max</th>\n",
       "      <th>median</th>\n",
       "      <th>mean</th>\n",
       "      <th>std</th>\n",
       "    </tr>\n",
       "    <tr>\n",
       "      <th>destination</th>\n",
       "      <th></th>\n",
       "      <th></th>\n",
       "      <th></th>\n",
       "      <th></th>\n",
       "      <th></th>\n",
       "    </tr>\n",
       "  </thead>\n",
       "  <tbody>\n",
       "    <tr>\n",
       "      <th>Cairo</th>\n",
       "      <td>-1000000.00</td>\n",
       "      <td>43707.46</td>\n",
       "      <td>4216.37</td>\n",
       "      <td>-3599.38</td>\n",
       "      <td>97458.54</td>\n",
       "    </tr>\n",
       "    <tr>\n",
       "      <th>Cape Town</th>\n",
       "      <td>-1000000.00</td>\n",
       "      <td>30977.86</td>\n",
       "      <td>4102.03</td>\n",
       "      <td>-7622.93</td>\n",
       "      <td>114350.91</td>\n",
       "    </tr>\n",
       "    <tr>\n",
       "      <th>New York</th>\n",
       "      <td>-1000000.00</td>\n",
       "      <td>50263.48</td>\n",
       "      <td>4534.42</td>\n",
       "      <td>-2176.54</td>\n",
       "      <td>90572.01</td>\n",
       "    </tr>\n",
       "    <tr>\n",
       "      <th>Paris</th>\n",
       "      <td>-1000000.00</td>\n",
       "      <td>48416.78</td>\n",
       "      <td>4656.95</td>\n",
       "      <td>-3527.71</td>\n",
       "      <td>97920.70</td>\n",
       "    </tr>\n",
       "    <tr>\n",
       "      <th>Rio</th>\n",
       "      <td>-1000000.00</td>\n",
       "      <td>41355.67</td>\n",
       "      <td>3961.99</td>\n",
       "      <td>-4781.88</td>\n",
       "      <td>100440.10</td>\n",
       "    </tr>\n",
       "    <tr>\n",
       "      <th>Rome</th>\n",
       "      <td>-1000000.00</td>\n",
       "      <td>56969.50</td>\n",
       "      <td>4209.89</td>\n",
       "      <td>-3456.09</td>\n",
       "      <td>96146.58</td>\n",
       "    </tr>\n",
       "    <tr>\n",
       "      <th>Sydney</th>\n",
       "      <td>-1000000.00</td>\n",
       "      <td>36791.09</td>\n",
       "      <td>3989.17</td>\n",
       "      <td>-4994.68</td>\n",
       "      <td>101119.97</td>\n",
       "    </tr>\n",
       "    <tr>\n",
       "      <th>Tokyo</th>\n",
       "      <td>-1000000.00</td>\n",
       "      <td>6724039.17</td>\n",
       "      <td>706551.82</td>\n",
       "      <td>947170.23</td>\n",
       "      <td>901159.24</td>\n",
       "    </tr>\n",
       "  </tbody>\n",
       "</table>\n",
       "</div>"
      ],
      "text/plain": [
       "                   cost                                         \n",
       "                    min        max    median      mean       std\n",
       "destination                                                     \n",
       "Cairo       -1000000.00   43707.46   4216.37  -3599.38  97458.54\n",
       "Cape Town   -1000000.00   30977.86   4102.03  -7622.93 114350.91\n",
       "New York    -1000000.00   50263.48   4534.42  -2176.54  90572.01\n",
       "Paris       -1000000.00   48416.78   4656.95  -3527.71  97920.70\n",
       "Rio         -1000000.00   41355.67   3961.99  -4781.88 100440.10\n",
       "Rome        -1000000.00   56969.50   4209.89  -3456.09  96146.58\n",
       "Sydney      -1000000.00   36791.09   3989.17  -4994.68 101119.97\n",
       "Tokyo       -1000000.00 6724039.17 706551.82 947170.23 901159.24"
      ]
     },
     "execution_count": 29,
     "metadata": {},
     "output_type": "execute_result"
    }
   ],
   "source": [
    "travel_dataset[[\"destination\", \"cost\"]].groupby(\"destination\").agg([\"min\", \"max\", \"median\", \"mean\", \"std\"])"
   ]
  },
  {
   "cell_type": "code",
   "execution_count": 30,
   "metadata": {},
   "outputs": [
    {
     "data": {
      "text/html": [
       "<div>\n",
       "<style scoped>\n",
       "    .dataframe tbody tr th:only-of-type {\n",
       "        vertical-align: middle;\n",
       "    }\n",
       "\n",
       "    .dataframe tbody tr th {\n",
       "        vertical-align: top;\n",
       "    }\n",
       "\n",
       "    .dataframe thead th {\n",
       "        text-align: right;\n",
       "    }\n",
       "</style>\n",
       "<table border=\"1\" class=\"dataframe\">\n",
       "  <thead>\n",
       "    <tr style=\"text-align: right;\">\n",
       "      <th>destination</th>\n",
       "      <th>Cairo</th>\n",
       "      <th>Cape Town</th>\n",
       "      <th>New York</th>\n",
       "      <th>Paris</th>\n",
       "      <th>Rio</th>\n",
       "      <th>Rome</th>\n",
       "      <th>Sydney</th>\n",
       "      <th>Tokyo</th>\n",
       "      <th>All</th>\n",
       "    </tr>\n",
       "    <tr>\n",
       "      <th>country</th>\n",
       "      <th></th>\n",
       "      <th></th>\n",
       "      <th></th>\n",
       "      <th></th>\n",
       "      <th></th>\n",
       "      <th></th>\n",
       "      <th></th>\n",
       "      <th></th>\n",
       "      <th></th>\n",
       "    </tr>\n",
       "  </thead>\n",
       "  <tbody>\n",
       "    <tr>\n",
       "      <th>Australia</th>\n",
       "      <td>151</td>\n",
       "      <td>158</td>\n",
       "      <td>169</td>\n",
       "      <td>135</td>\n",
       "      <td>158</td>\n",
       "      <td>162</td>\n",
       "      <td>149</td>\n",
       "      <td>140</td>\n",
       "      <td>1222</td>\n",
       "    </tr>\n",
       "    <tr>\n",
       "      <th>Canada</th>\n",
       "      <td>154</td>\n",
       "      <td>149</td>\n",
       "      <td>142</td>\n",
       "      <td>153</td>\n",
       "      <td>184</td>\n",
       "      <td>138</td>\n",
       "      <td>141</td>\n",
       "      <td>153</td>\n",
       "      <td>1214</td>\n",
       "    </tr>\n",
       "    <tr>\n",
       "      <th>France</th>\n",
       "      <td>159</td>\n",
       "      <td>152</td>\n",
       "      <td>134</td>\n",
       "      <td>171</td>\n",
       "      <td>159</td>\n",
       "      <td>155</td>\n",
       "      <td>159</td>\n",
       "      <td>177</td>\n",
       "      <td>1266</td>\n",
       "    </tr>\n",
       "    <tr>\n",
       "      <th>Germany</th>\n",
       "      <td>152</td>\n",
       "      <td>139</td>\n",
       "      <td>147</td>\n",
       "      <td>161</td>\n",
       "      <td>152</td>\n",
       "      <td>126</td>\n",
       "      <td>150</td>\n",
       "      <td>145</td>\n",
       "      <td>1172</td>\n",
       "    </tr>\n",
       "    <tr>\n",
       "      <th>Italy</th>\n",
       "      <td>182</td>\n",
       "      <td>165</td>\n",
       "      <td>157</td>\n",
       "      <td>149</td>\n",
       "      <td>146</td>\n",
       "      <td>158</td>\n",
       "      <td>176</td>\n",
       "      <td>141</td>\n",
       "      <td>1274</td>\n",
       "    </tr>\n",
       "    <tr>\n",
       "      <th>Spain</th>\n",
       "      <td>144</td>\n",
       "      <td>165</td>\n",
       "      <td>152</td>\n",
       "      <td>163</td>\n",
       "      <td>155</td>\n",
       "      <td>159</td>\n",
       "      <td>168</td>\n",
       "      <td>159</td>\n",
       "      <td>1265</td>\n",
       "    </tr>\n",
       "    <tr>\n",
       "      <th>UK</th>\n",
       "      <td>173</td>\n",
       "      <td>156</td>\n",
       "      <td>166</td>\n",
       "      <td>166</td>\n",
       "      <td>173</td>\n",
       "      <td>150</td>\n",
       "      <td>172</td>\n",
       "      <td>164</td>\n",
       "      <td>1320</td>\n",
       "    </tr>\n",
       "    <tr>\n",
       "      <th>USA</th>\n",
       "      <td>156</td>\n",
       "      <td>140</td>\n",
       "      <td>162</td>\n",
       "      <td>161</td>\n",
       "      <td>166</td>\n",
       "      <td>149</td>\n",
       "      <td>160</td>\n",
       "      <td>173</td>\n",
       "      <td>1267</td>\n",
       "    </tr>\n",
       "    <tr>\n",
       "      <th>All</th>\n",
       "      <td>1271</td>\n",
       "      <td>1224</td>\n",
       "      <td>1229</td>\n",
       "      <td>1259</td>\n",
       "      <td>1293</td>\n",
       "      <td>1197</td>\n",
       "      <td>1275</td>\n",
       "      <td>1252</td>\n",
       "      <td>10000</td>\n",
       "    </tr>\n",
       "  </tbody>\n",
       "</table>\n",
       "</div>"
      ],
      "text/plain": [
       "destination  Cairo  Cape Town  New York  Paris   Rio  Rome  Sydney  Tokyo  \\\n",
       "country                                                                     \n",
       "Australia      151        158       169    135   158   162     149    140   \n",
       "Canada         154        149       142    153   184   138     141    153   \n",
       "France         159        152       134    171   159   155     159    177   \n",
       "Germany        152        139       147    161   152   126     150    145   \n",
       "Italy          182        165       157    149   146   158     176    141   \n",
       "Spain          144        165       152    163   155   159     168    159   \n",
       "UK             173        156       166    166   173   150     172    164   \n",
       "USA            156        140       162    161   166   149     160    173   \n",
       "All           1271       1224      1229   1259  1293  1197    1275   1252   \n",
       "\n",
       "destination    All  \n",
       "country             \n",
       "Australia     1222  \n",
       "Canada        1214  \n",
       "France        1266  \n",
       "Germany       1172  \n",
       "Italy         1274  \n",
       "Spain         1265  \n",
       "UK            1320  \n",
       "USA           1267  \n",
       "All          10000  "
      ]
     },
     "execution_count": 30,
     "metadata": {},
     "output_type": "execute_result"
    }
   ],
   "source": [
    "pd.crosstab(travel_dataset['country'], travel_dataset['destination'], margins=True)\n"
   ]
  },
  {
   "cell_type": "code",
   "execution_count": 31,
   "metadata": {},
   "outputs": [
    {
     "data": {
      "text/html": [
       "<div>\n",
       "<style scoped>\n",
       "    .dataframe tbody tr th:only-of-type {\n",
       "        vertical-align: middle;\n",
       "    }\n",
       "\n",
       "    .dataframe tbody tr th {\n",
       "        vertical-align: top;\n",
       "    }\n",
       "\n",
       "    .dataframe thead th {\n",
       "        text-align: right;\n",
       "    }\n",
       "</style>\n",
       "<table border=\"1\" class=\"dataframe\">\n",
       "  <thead>\n",
       "    <tr style=\"text-align: right;\">\n",
       "      <th></th>\n",
       "      <th>age</th>\n",
       "      <th>cost</th>\n",
       "      <th>stay_length</th>\n",
       "    </tr>\n",
       "  </thead>\n",
       "  <tbody>\n",
       "    <tr>\n",
       "      <th>age</th>\n",
       "      <td>1.00</td>\n",
       "      <td>0.03</td>\n",
       "      <td>0.00</td>\n",
       "    </tr>\n",
       "    <tr>\n",
       "      <th>cost</th>\n",
       "      <td>0.03</td>\n",
       "      <td>1.00</td>\n",
       "      <td>0.22</td>\n",
       "    </tr>\n",
       "    <tr>\n",
       "      <th>stay_length</th>\n",
       "      <td>0.00</td>\n",
       "      <td>0.22</td>\n",
       "      <td>1.00</td>\n",
       "    </tr>\n",
       "  </tbody>\n",
       "</table>\n",
       "</div>"
      ],
      "text/plain": [
       "             age  cost  stay_length\n",
       "age         1.00  0.03         0.00\n",
       "cost        0.03  1.00         0.22\n",
       "stay_length 0.00  0.22         1.00"
      ]
     },
     "execution_count": 31,
     "metadata": {},
     "output_type": "execute_result"
    }
   ],
   "source": [
    "travel_dataset[[\"age\", \"cost\", \"stay_length\"]].corr()"
   ]
  },
  {
   "cell_type": "code",
   "execution_count": 32,
   "metadata": {},
   "outputs": [
    {
     "data": {
      "text/html": [
       "<div>\n",
       "<style scoped>\n",
       "    .dataframe tbody tr th:only-of-type {\n",
       "        vertical-align: middle;\n",
       "    }\n",
       "\n",
       "    .dataframe tbody tr th {\n",
       "        vertical-align: top;\n",
       "    }\n",
       "\n",
       "    .dataframe thead th {\n",
       "        text-align: right;\n",
       "    }\n",
       "</style>\n",
       "<table border=\"1\" class=\"dataframe\">\n",
       "  <thead>\n",
       "    <tr style=\"text-align: right;\">\n",
       "      <th></th>\n",
       "      <th>cost</th>\n",
       "      <th>age</th>\n",
       "      <th>stay_length</th>\n",
       "    </tr>\n",
       "    <tr>\n",
       "      <th>destination</th>\n",
       "      <th></th>\n",
       "      <th></th>\n",
       "      <th></th>\n",
       "    </tr>\n",
       "  </thead>\n",
       "  <tbody>\n",
       "    <tr>\n",
       "      <th>Cairo</th>\n",
       "      <td>-3599.38</td>\n",
       "      <td>39.87</td>\n",
       "      <td>10.62</td>\n",
       "    </tr>\n",
       "    <tr>\n",
       "      <th>Cape Town</th>\n",
       "      <td>-7622.93</td>\n",
       "      <td>40.13</td>\n",
       "      <td>10.52</td>\n",
       "    </tr>\n",
       "    <tr>\n",
       "      <th>New York</th>\n",
       "      <td>-2176.54</td>\n",
       "      <td>39.78</td>\n",
       "      <td>10.73</td>\n",
       "    </tr>\n",
       "    <tr>\n",
       "      <th>Paris</th>\n",
       "      <td>-3527.71</td>\n",
       "      <td>39.82</td>\n",
       "      <td>10.85</td>\n",
       "    </tr>\n",
       "    <tr>\n",
       "      <th>Rio</th>\n",
       "      <td>-4781.88</td>\n",
       "      <td>39.66</td>\n",
       "      <td>9.94</td>\n",
       "    </tr>\n",
       "    <tr>\n",
       "      <th>Rome</th>\n",
       "      <td>-3456.09</td>\n",
       "      <td>39.57</td>\n",
       "      <td>10.37</td>\n",
       "    </tr>\n",
       "    <tr>\n",
       "      <th>Sydney</th>\n",
       "      <td>-4994.68</td>\n",
       "      <td>40.05</td>\n",
       "      <td>9.95</td>\n",
       "    </tr>\n",
       "    <tr>\n",
       "      <th>Tokyo</th>\n",
       "      <td>947170.23</td>\n",
       "      <td>40.91</td>\n",
       "      <td>10.97</td>\n",
       "    </tr>\n",
       "  </tbody>\n",
       "</table>\n",
       "</div>"
      ],
      "text/plain": [
       "                 cost   age  stay_length\n",
       "destination                             \n",
       "Cairo        -3599.38 39.87        10.62\n",
       "Cape Town    -7622.93 40.13        10.52\n",
       "New York     -2176.54 39.78        10.73\n",
       "Paris        -3527.71 39.82        10.85\n",
       "Rio          -4781.88 39.66         9.94\n",
       "Rome         -3456.09 39.57        10.37\n",
       "Sydney       -4994.68 40.05         9.95\n",
       "Tokyo       947170.23 40.91        10.97"
      ]
     },
     "execution_count": 32,
     "metadata": {},
     "output_type": "execute_result"
    }
   ],
   "source": [
    "travel_dataset[[\"cost\", \"destination\", \"age\", \"stay_length\"]].groupby(\"destination\").mean()"
   ]
  },
  {
   "cell_type": "markdown",
   "metadata": {},
   "source": [
    "##### ❓ Are there combinations you find suspicious, if so which?"
   ]
  },
  {
   "cell_type": "markdown",
   "metadata": {},
   "source": [
    "* The values for Japan are a lot higher. \n",
    "\n",
    "* There seems to be a large negative number."
   ]
  },
  {
   "cell_type": "markdown",
   "metadata": {},
   "source": [
    "##### ❓ How would you deal with this?"
   ]
  },
  {
   "cell_type": "markdown",
   "metadata": {},
   "source": [
    "* The large negative number is likely some sort of incorrect data.\n",
    "  \n",
    "* The values from Japan seem to be a lot higher. For this kind of thing it's handy to ask people with business insight what's going on."
   ]
  },
  {
   "cell_type": "markdown",
   "metadata": {},
   "source": [
    "####  Subsetting and cleaning data"
   ]
  },
  {
   "cell_type": "markdown",
   "metadata": {},
   "source": [
    "Ada gets confirmation from her contacts that the data has some issues. The booking system broke down and produced large negative values Additionally, the currency converter for the latest destination broke down.\n",
    "\n",
    "We will help her rectify these mistakes."
   ]
  },
  {
   "cell_type": "markdown",
   "metadata": {},
   "source": [
    "#####  Removing data: boolean indexing"
   ]
  },
  {
   "cell_type": "markdown",
   "metadata": {},
   "source": [
    "Generally it's a good idea to not alter your original dataset but filter it in a copy. The way Pandas does this is by filtering with a boolean mask. We will demonstrate step by step how to do this."
   ]
  },
  {
   "cell_type": "markdown",
   "metadata": {},
   "source": [
    "The data we want gone are the rows where the cost equals `-1000000.00`. We can check for each row if that's the case. \n",
    "\n",
    "Pandas uses a technique called \"broadcasting\" where if you try to do operations between values of different shapes Pandas will try to expand one to make them match.\n",
    "\n",
    "This means you don't need to explicitly turn the value into an array of the same size."
   ]
  },
  {
   "cell_type": "markdown",
   "metadata": {},
   "source": [
    "<center>\n",
    "<img src=\"https://numpy.org/doc/stable/_images/broadcasting_1.png\" style=\"background-color:white;\">\n",
    "</center>"
   ]
  },
  {
   "cell_type": "code",
   "execution_count": 33,
   "metadata": {},
   "outputs": [
    {
     "data": {
      "text/plain": [
       "0       True\n",
       "1       True\n",
       "2       True\n",
       "3       True\n",
       "4       True\n",
       "        ... \n",
       "9995    True\n",
       "9996    True\n",
       "9997    True\n",
       "9998    True\n",
       "9999    True\n",
       "Name: cost, Length: 10000, dtype: bool"
      ]
     },
     "execution_count": 33,
     "metadata": {},
     "output_type": "execute_result"
    }
   ],
   "source": [
    "non_errors = travel_dataset[\"cost\"] != -1000000.00\n",
    "non_errors"
   ]
  },
  {
   "cell_type": "markdown",
   "metadata": {},
   "source": [
    "Pandas allows you to give a boolean array as an index to filter out rows. The rows where the boolean array (also known as a mask) is `True` are kept. "
   ]
  },
  {
   "cell_type": "code",
   "execution_count": 34,
   "metadata": {},
   "outputs": [
    {
     "data": {
      "text/html": [
       "<div>\n",
       "<style scoped>\n",
       "    .dataframe tbody tr th:only-of-type {\n",
       "        vertical-align: middle;\n",
       "    }\n",
       "\n",
       "    .dataframe tbody tr th {\n",
       "        vertical-align: top;\n",
       "    }\n",
       "\n",
       "    .dataframe thead th {\n",
       "        text-align: right;\n",
       "    }\n",
       "</style>\n",
       "<table border=\"1\" class=\"dataframe\">\n",
       "  <thead>\n",
       "    <tr style=\"text-align: right;\">\n",
       "      <th></th>\n",
       "      <th>Unnamed: 0</th>\n",
       "      <th>sales_id</th>\n",
       "      <th>age</th>\n",
       "      <th>country</th>\n",
       "      <th>membership_status</th>\n",
       "      <th>previous_purchases</th>\n",
       "      <th>destination</th>\n",
       "      <th>stay_length</th>\n",
       "      <th>guests</th>\n",
       "      <th>travel_month</th>\n",
       "      <th>months_before_travel</th>\n",
       "      <th>earlybird_discount</th>\n",
       "      <th>package_Type</th>\n",
       "      <th>cost</th>\n",
       "      <th>rating</th>\n",
       "      <th>margin</th>\n",
       "      <th>additional_services_cost</th>\n",
       "    </tr>\n",
       "  </thead>\n",
       "  <tbody>\n",
       "    <tr>\n",
       "      <th>0</th>\n",
       "      <td>0</td>\n",
       "      <td>1</td>\n",
       "      <td>47</td>\n",
       "      <td>UK</td>\n",
       "      <td>silver</td>\n",
       "      <td>1</td>\n",
       "      <td>Sydney</td>\n",
       "      <td>4</td>\n",
       "      <td>2</td>\n",
       "      <td>7</td>\n",
       "      <td>1</td>\n",
       "      <td>False</td>\n",
       "      <td>Adventure</td>\n",
       "      <td>1706.09</td>\n",
       "      <td>6</td>\n",
       "      <td>1219.74</td>\n",
       "      <td>291.06</td>\n",
       "    </tr>\n",
       "    <tr>\n",
       "      <th>1</th>\n",
       "      <td>1</td>\n",
       "      <td>2</td>\n",
       "      <td>37</td>\n",
       "      <td>Italy</td>\n",
       "      <td>silver</td>\n",
       "      <td>5</td>\n",
       "      <td>Tokyo</td>\n",
       "      <td>4</td>\n",
       "      <td>2</td>\n",
       "      <td>8</td>\n",
       "      <td>4</td>\n",
       "      <td>False</td>\n",
       "      <td>Adventure</td>\n",
       "      <td>281233.19</td>\n",
       "      <td>7</td>\n",
       "      <td>1570.39</td>\n",
       "      <td>405.52</td>\n",
       "    </tr>\n",
       "    <tr>\n",
       "      <th>2</th>\n",
       "      <td>2</td>\n",
       "      <td>3</td>\n",
       "      <td>49</td>\n",
       "      <td>USA</td>\n",
       "      <td>standard</td>\n",
       "      <td>2</td>\n",
       "      <td>Sydney</td>\n",
       "      <td>3</td>\n",
       "      <td>4</td>\n",
       "      <td>7</td>\n",
       "      <td>1</td>\n",
       "      <td>False</td>\n",
       "      <td>Cultural</td>\n",
       "      <td>2829.92</td>\n",
       "      <td>6</td>\n",
       "      <td>2360.49</td>\n",
       "      <td>285.36</td>\n",
       "    </tr>\n",
       "    <tr>\n",
       "      <th>3</th>\n",
       "      <td>3</td>\n",
       "      <td>4</td>\n",
       "      <td>62</td>\n",
       "      <td>Spain</td>\n",
       "      <td>silver</td>\n",
       "      <td>2</td>\n",
       "      <td>Cape Town</td>\n",
       "      <td>7</td>\n",
       "      <td>2</td>\n",
       "      <td>1</td>\n",
       "      <td>3</td>\n",
       "      <td>True</td>\n",
       "      <td>Adventure</td>\n",
       "      <td>2789.53</td>\n",
       "      <td>7</td>\n",
       "      <td>2315.66</td>\n",
       "      <td>747.53</td>\n",
       "    </tr>\n",
       "    <tr>\n",
       "      <th>4</th>\n",
       "      <td>4</td>\n",
       "      <td>5</td>\n",
       "      <td>36</td>\n",
       "      <td>Germany</td>\n",
       "      <td>silver</td>\n",
       "      <td>3</td>\n",
       "      <td>Paris</td>\n",
       "      <td>9</td>\n",
       "      <td>3</td>\n",
       "      <td>2</td>\n",
       "      <td>7</td>\n",
       "      <td>False</td>\n",
       "      <td>Adventure</td>\n",
       "      <td>5358.00</td>\n",
       "      <td>5</td>\n",
       "      <td>5042.14</td>\n",
       "      <td>1117.09</td>\n",
       "    </tr>\n",
       "    <tr>\n",
       "      <th>...</th>\n",
       "      <td>...</td>\n",
       "      <td>...</td>\n",
       "      <td>...</td>\n",
       "      <td>...</td>\n",
       "      <td>...</td>\n",
       "      <td>...</td>\n",
       "      <td>...</td>\n",
       "      <td>...</td>\n",
       "      <td>...</td>\n",
       "      <td>...</td>\n",
       "      <td>...</td>\n",
       "      <td>...</td>\n",
       "      <td>...</td>\n",
       "      <td>...</td>\n",
       "      <td>...</td>\n",
       "      <td>...</td>\n",
       "      <td>...</td>\n",
       "    </tr>\n",
       "    <tr>\n",
       "      <th>9995</th>\n",
       "      <td>9995</td>\n",
       "      <td>9996</td>\n",
       "      <td>59</td>\n",
       "      <td>Germany</td>\n",
       "      <td>standard</td>\n",
       "      <td>3</td>\n",
       "      <td>Cape Town</td>\n",
       "      <td>11</td>\n",
       "      <td>3</td>\n",
       "      <td>8</td>\n",
       "      <td>1</td>\n",
       "      <td>True</td>\n",
       "      <td>Adventure</td>\n",
       "      <td>7504.78</td>\n",
       "      <td>7</td>\n",
       "      <td>7045.05</td>\n",
       "      <td>1602.18</td>\n",
       "    </tr>\n",
       "    <tr>\n",
       "      <th>9996</th>\n",
       "      <td>9996</td>\n",
       "      <td>9997</td>\n",
       "      <td>18</td>\n",
       "      <td>Australia</td>\n",
       "      <td>standard</td>\n",
       "      <td>1</td>\n",
       "      <td>Sydney</td>\n",
       "      <td>6</td>\n",
       "      <td>1</td>\n",
       "      <td>7</td>\n",
       "      <td>1</td>\n",
       "      <td>True</td>\n",
       "      <td>Relaxation</td>\n",
       "      <td>1427.12</td>\n",
       "      <td>7</td>\n",
       "      <td>1051.24</td>\n",
       "      <td>395.36</td>\n",
       "    </tr>\n",
       "    <tr>\n",
       "      <th>9997</th>\n",
       "      <td>9997</td>\n",
       "      <td>9998</td>\n",
       "      <td>29</td>\n",
       "      <td>USA</td>\n",
       "      <td>silver</td>\n",
       "      <td>3</td>\n",
       "      <td>Paris</td>\n",
       "      <td>5</td>\n",
       "      <td>3</td>\n",
       "      <td>12</td>\n",
       "      <td>2</td>\n",
       "      <td>True</td>\n",
       "      <td>Adventure</td>\n",
       "      <td>3458.86</td>\n",
       "      <td>5</td>\n",
       "      <td>2945.36</td>\n",
       "      <td>539.41</td>\n",
       "    </tr>\n",
       "    <tr>\n",
       "      <th>9998</th>\n",
       "      <td>9998</td>\n",
       "      <td>9999</td>\n",
       "      <td>47</td>\n",
       "      <td>USA</td>\n",
       "      <td>standard</td>\n",
       "      <td>5</td>\n",
       "      <td>Paris</td>\n",
       "      <td>16</td>\n",
       "      <td>5</td>\n",
       "      <td>8</td>\n",
       "      <td>3</td>\n",
       "      <td>False</td>\n",
       "      <td>Relaxation</td>\n",
       "      <td>18392.27</td>\n",
       "      <td>5</td>\n",
       "      <td>17968.59</td>\n",
       "      <td>5247.25</td>\n",
       "    </tr>\n",
       "    <tr>\n",
       "      <th>9999</th>\n",
       "      <td>9999</td>\n",
       "      <td>10000</td>\n",
       "      <td>49</td>\n",
       "      <td>Canada</td>\n",
       "      <td>standard</td>\n",
       "      <td>2</td>\n",
       "      <td>Cape Town</td>\n",
       "      <td>15</td>\n",
       "      <td>1</td>\n",
       "      <td>1</td>\n",
       "      <td>2</td>\n",
       "      <td>False</td>\n",
       "      <td>Relaxation</td>\n",
       "      <td>3041.91</td>\n",
       "      <td>7</td>\n",
       "      <td>2738.33</td>\n",
       "      <td>820.83</td>\n",
       "    </tr>\n",
       "  </tbody>\n",
       "</table>\n",
       "<p>9900 rows × 17 columns</p>\n",
       "</div>"
      ],
      "text/plain": [
       "      Unnamed: 0  sales_id  age    country membership_status  \\\n",
       "0              0         1   47         UK            silver   \n",
       "1              1         2   37      Italy            silver   \n",
       "2              2         3   49        USA          standard   \n",
       "3              3         4   62      Spain            silver   \n",
       "4              4         5   36    Germany            silver   \n",
       "...          ...       ...  ...        ...               ...   \n",
       "9995        9995      9996   59    Germany          standard   \n",
       "9996        9996      9997   18  Australia          standard   \n",
       "9997        9997      9998   29        USA            silver   \n",
       "9998        9998      9999   47        USA          standard   \n",
       "9999        9999     10000   49     Canada          standard   \n",
       "\n",
       "      previous_purchases destination  stay_length  guests  travel_month  \\\n",
       "0                      1      Sydney            4       2             7   \n",
       "1                      5       Tokyo            4       2             8   \n",
       "2                      2      Sydney            3       4             7   \n",
       "3                      2   Cape Town            7       2             1   \n",
       "4                      3       Paris            9       3             2   \n",
       "...                  ...         ...          ...     ...           ...   \n",
       "9995                   3   Cape Town           11       3             8   \n",
       "9996                   1      Sydney            6       1             7   \n",
       "9997                   3       Paris            5       3            12   \n",
       "9998                   5       Paris           16       5             8   \n",
       "9999                   2   Cape Town           15       1             1   \n",
       "\n",
       "      months_before_travel  earlybird_discount package_Type      cost  rating  \\\n",
       "0                        1               False    Adventure   1706.09       6   \n",
       "1                        4               False    Adventure 281233.19       7   \n",
       "2                        1               False     Cultural   2829.92       6   \n",
       "3                        3                True    Adventure   2789.53       7   \n",
       "4                        7               False    Adventure   5358.00       5   \n",
       "...                    ...                 ...          ...       ...     ...   \n",
       "9995                     1                True    Adventure   7504.78       7   \n",
       "9996                     1                True   Relaxation   1427.12       7   \n",
       "9997                     2                True    Adventure   3458.86       5   \n",
       "9998                     3               False   Relaxation  18392.27       5   \n",
       "9999                     2               False   Relaxation   3041.91       7   \n",
       "\n",
       "       margin  additional_services_cost  \n",
       "0     1219.74                    291.06  \n",
       "1     1570.39                    405.52  \n",
       "2     2360.49                    285.36  \n",
       "3     2315.66                    747.53  \n",
       "4     5042.14                   1117.09  \n",
       "...       ...                       ...  \n",
       "9995  7045.05                   1602.18  \n",
       "9996  1051.24                    395.36  \n",
       "9997  2945.36                    539.41  \n",
       "9998 17968.59                   5247.25  \n",
       "9999  2738.33                    820.83  \n",
       "\n",
       "[9900 rows x 17 columns]"
      ]
     },
     "execution_count": 34,
     "metadata": {},
     "output_type": "execute_result"
    }
   ],
   "source": [
    "travel_dataset[non_errors] "
   ]
  },
  {
   "cell_type": "code",
   "execution_count": 35,
   "metadata": {},
   "outputs": [
    {
     "data": {
      "text/plain": [
       "100"
      ]
     },
     "execution_count": 35,
     "metadata": {},
     "output_type": "execute_result"
    }
   ],
   "source": [
    "len(travel_dataset) - len(travel_dataset[non_errors])"
   ]
  },
  {
   "cell_type": "code",
   "execution_count": 36,
   "metadata": {},
   "outputs": [],
   "source": [
    "_dataset_cleaned = travel_dataset[non_errors]"
   ]
  },
  {
   "cell_type": "markdown",
   "metadata": {},
   "source": [
    "##### ❓ Make a mask for the people that traveled to Tokyo. Call the variable tokyo."
   ]
  },
  {
   "cell_type": "code",
   "execution_count": 37,
   "metadata": {},
   "outputs": [],
   "source": [
    "tokyo = _dataset_cleaned[\"destination\"] == \"Tokyo\""
   ]
  },
  {
   "cell_type": "markdown",
   "metadata": {},
   "source": [
    "#####  Updating rows the right way"
   ]
  },
  {
   "cell_type": "markdown",
   "metadata": {},
   "source": [
    "We can now grab the rows where the destination is Tokyo as follows"
   ]
  },
  {
   "cell_type": "code",
   "execution_count": 38,
   "metadata": {},
   "outputs": [
    {
     "data": {
      "text/html": [
       "<div>\n",
       "<style scoped>\n",
       "    .dataframe tbody tr th:only-of-type {\n",
       "        vertical-align: middle;\n",
       "    }\n",
       "\n",
       "    .dataframe tbody tr th {\n",
       "        vertical-align: top;\n",
       "    }\n",
       "\n",
       "    .dataframe thead th {\n",
       "        text-align: right;\n",
       "    }\n",
       "</style>\n",
       "<table border=\"1\" class=\"dataframe\">\n",
       "  <thead>\n",
       "    <tr style=\"text-align: right;\">\n",
       "      <th></th>\n",
       "      <th>Unnamed: 0</th>\n",
       "      <th>sales_id</th>\n",
       "      <th>age</th>\n",
       "      <th>country</th>\n",
       "      <th>membership_status</th>\n",
       "      <th>previous_purchases</th>\n",
       "      <th>destination</th>\n",
       "      <th>stay_length</th>\n",
       "      <th>guests</th>\n",
       "      <th>travel_month</th>\n",
       "      <th>months_before_travel</th>\n",
       "      <th>earlybird_discount</th>\n",
       "      <th>package_Type</th>\n",
       "      <th>cost</th>\n",
       "      <th>rating</th>\n",
       "      <th>margin</th>\n",
       "      <th>additional_services_cost</th>\n",
       "    </tr>\n",
       "  </thead>\n",
       "  <tbody>\n",
       "    <tr>\n",
       "      <th>1</th>\n",
       "      <td>1</td>\n",
       "      <td>2</td>\n",
       "      <td>37</td>\n",
       "      <td>Italy</td>\n",
       "      <td>silver</td>\n",
       "      <td>5</td>\n",
       "      <td>Tokyo</td>\n",
       "      <td>4</td>\n",
       "      <td>2</td>\n",
       "      <td>8</td>\n",
       "      <td>4</td>\n",
       "      <td>False</td>\n",
       "      <td>Adventure</td>\n",
       "      <td>281233.19</td>\n",
       "      <td>7</td>\n",
       "      <td>1570.39</td>\n",
       "      <td>405.52</td>\n",
       "    </tr>\n",
       "    <tr>\n",
       "      <th>6</th>\n",
       "      <td>6</td>\n",
       "      <td>7</td>\n",
       "      <td>63</td>\n",
       "      <td>Italy</td>\n",
       "      <td>silver</td>\n",
       "      <td>4</td>\n",
       "      <td>Tokyo</td>\n",
       "      <td>1</td>\n",
       "      <td>1</td>\n",
       "      <td>6</td>\n",
       "      <td>1</td>\n",
       "      <td>False</td>\n",
       "      <td>Cultural</td>\n",
       "      <td>37424.42</td>\n",
       "      <td>7</td>\n",
       "      <td>-89.33</td>\n",
       "      <td>81.53</td>\n",
       "    </tr>\n",
       "    <tr>\n",
       "      <th>7</th>\n",
       "      <td>7</td>\n",
       "      <td>8</td>\n",
       "      <td>51</td>\n",
       "      <td>Spain</td>\n",
       "      <td>silver</td>\n",
       "      <td>3</td>\n",
       "      <td>Tokyo</td>\n",
       "      <td>11</td>\n",
       "      <td>2</td>\n",
       "      <td>7</td>\n",
       "      <td>3</td>\n",
       "      <td>True</td>\n",
       "      <td>Adventure</td>\n",
       "      <td>810452.74</td>\n",
       "      <td>5</td>\n",
       "      <td>4882.30</td>\n",
       "      <td>1509.58</td>\n",
       "    </tr>\n",
       "    <tr>\n",
       "      <th>11</th>\n",
       "      <td>11</td>\n",
       "      <td>12</td>\n",
       "      <td>33</td>\n",
       "      <td>Australia</td>\n",
       "      <td>standard</td>\n",
       "      <td>3</td>\n",
       "      <td>Tokyo</td>\n",
       "      <td>4</td>\n",
       "      <td>3</td>\n",
       "      <td>7</td>\n",
       "      <td>5</td>\n",
       "      <td>True</td>\n",
       "      <td>Adventure</td>\n",
       "      <td>445455.58</td>\n",
       "      <td>7</td>\n",
       "      <td>2574.81</td>\n",
       "      <td>738.01</td>\n",
       "    </tr>\n",
       "    <tr>\n",
       "      <th>27</th>\n",
       "      <td>27</td>\n",
       "      <td>28</td>\n",
       "      <td>45</td>\n",
       "      <td>Spain</td>\n",
       "      <td>silver</td>\n",
       "      <td>4</td>\n",
       "      <td>Tokyo</td>\n",
       "      <td>19</td>\n",
       "      <td>3</td>\n",
       "      <td>2</td>\n",
       "      <td>11</td>\n",
       "      <td>True</td>\n",
       "      <td>Relaxation</td>\n",
       "      <td>1796515.55</td>\n",
       "      <td>6</td>\n",
       "      <td>11144.05</td>\n",
       "      <td>3772.01</td>\n",
       "    </tr>\n",
       "    <tr>\n",
       "      <th>...</th>\n",
       "      <td>...</td>\n",
       "      <td>...</td>\n",
       "      <td>...</td>\n",
       "      <td>...</td>\n",
       "      <td>...</td>\n",
       "      <td>...</td>\n",
       "      <td>...</td>\n",
       "      <td>...</td>\n",
       "      <td>...</td>\n",
       "      <td>...</td>\n",
       "      <td>...</td>\n",
       "      <td>...</td>\n",
       "      <td>...</td>\n",
       "      <td>...</td>\n",
       "      <td>...</td>\n",
       "      <td>...</td>\n",
       "      <td>...</td>\n",
       "    </tr>\n",
       "    <tr>\n",
       "      <th>9936</th>\n",
       "      <td>9936</td>\n",
       "      <td>9937</td>\n",
       "      <td>44</td>\n",
       "      <td>Australia</td>\n",
       "      <td>gold</td>\n",
       "      <td>5</td>\n",
       "      <td>Tokyo</td>\n",
       "      <td>2</td>\n",
       "      <td>2</td>\n",
       "      <td>8</td>\n",
       "      <td>14</td>\n",
       "      <td>True</td>\n",
       "      <td>Cultural</td>\n",
       "      <td>143747.78</td>\n",
       "      <td>8</td>\n",
       "      <td>798.81</td>\n",
       "      <td>123.23</td>\n",
       "    </tr>\n",
       "    <tr>\n",
       "      <th>9958</th>\n",
       "      <td>9958</td>\n",
       "      <td>9959</td>\n",
       "      <td>49</td>\n",
       "      <td>Australia</td>\n",
       "      <td>standard</td>\n",
       "      <td>1</td>\n",
       "      <td>Tokyo</td>\n",
       "      <td>9</td>\n",
       "      <td>1</td>\n",
       "      <td>8</td>\n",
       "      <td>3</td>\n",
       "      <td>False</td>\n",
       "      <td>Adventure</td>\n",
       "      <td>320119.76</td>\n",
       "      <td>6</td>\n",
       "      <td>1727.44</td>\n",
       "      <td>702.34</td>\n",
       "    </tr>\n",
       "    <tr>\n",
       "      <th>9965</th>\n",
       "      <td>9965</td>\n",
       "      <td>9966</td>\n",
       "      <td>47</td>\n",
       "      <td>Spain</td>\n",
       "      <td>standard</td>\n",
       "      <td>2</td>\n",
       "      <td>Tokyo</td>\n",
       "      <td>5</td>\n",
       "      <td>2</td>\n",
       "      <td>2</td>\n",
       "      <td>1</td>\n",
       "      <td>False</td>\n",
       "      <td>Adventure</td>\n",
       "      <td>324200.00</td>\n",
       "      <td>5</td>\n",
       "      <td>1661.63</td>\n",
       "      <td>494.94</td>\n",
       "    </tr>\n",
       "    <tr>\n",
       "      <th>9986</th>\n",
       "      <td>9986</td>\n",
       "      <td>9987</td>\n",
       "      <td>34</td>\n",
       "      <td>Italy</td>\n",
       "      <td>standard</td>\n",
       "      <td>3</td>\n",
       "      <td>Tokyo</td>\n",
       "      <td>5</td>\n",
       "      <td>3</td>\n",
       "      <td>12</td>\n",
       "      <td>8</td>\n",
       "      <td>False</td>\n",
       "      <td>Relaxation</td>\n",
       "      <td>535010.48</td>\n",
       "      <td>6</td>\n",
       "      <td>3011.18</td>\n",
       "      <td>875.61</td>\n",
       "    </tr>\n",
       "    <tr>\n",
       "      <th>9991</th>\n",
       "      <td>9991</td>\n",
       "      <td>9992</td>\n",
       "      <td>42</td>\n",
       "      <td>UK</td>\n",
       "      <td>silver</td>\n",
       "      <td>2</td>\n",
       "      <td>Tokyo</td>\n",
       "      <td>2</td>\n",
       "      <td>1</td>\n",
       "      <td>7</td>\n",
       "      <td>2</td>\n",
       "      <td>False</td>\n",
       "      <td>Adventure</td>\n",
       "      <td>67273.96</td>\n",
       "      <td>6</td>\n",
       "      <td>141.39</td>\n",
       "      <td>85.79</td>\n",
       "    </tr>\n",
       "  </tbody>\n",
       "</table>\n",
       "<p>1239 rows × 17 columns</p>\n",
       "</div>"
      ],
      "text/plain": [
       "      Unnamed: 0  sales_id  age    country membership_status  \\\n",
       "1              1         2   37      Italy            silver   \n",
       "6              6         7   63      Italy            silver   \n",
       "7              7         8   51      Spain            silver   \n",
       "11            11        12   33  Australia          standard   \n",
       "27            27        28   45      Spain            silver   \n",
       "...          ...       ...  ...        ...               ...   \n",
       "9936        9936      9937   44  Australia              gold   \n",
       "9958        9958      9959   49  Australia          standard   \n",
       "9965        9965      9966   47      Spain          standard   \n",
       "9986        9986      9987   34      Italy          standard   \n",
       "9991        9991      9992   42         UK            silver   \n",
       "\n",
       "      previous_purchases destination  stay_length  guests  travel_month  \\\n",
       "1                      5       Tokyo            4       2             8   \n",
       "6                      4       Tokyo            1       1             6   \n",
       "7                      3       Tokyo           11       2             7   \n",
       "11                     3       Tokyo            4       3             7   \n",
       "27                     4       Tokyo           19       3             2   \n",
       "...                  ...         ...          ...     ...           ...   \n",
       "9936                   5       Tokyo            2       2             8   \n",
       "9958                   1       Tokyo            9       1             8   \n",
       "9965                   2       Tokyo            5       2             2   \n",
       "9986                   3       Tokyo            5       3            12   \n",
       "9991                   2       Tokyo            2       1             7   \n",
       "\n",
       "      months_before_travel  earlybird_discount package_Type       cost  \\\n",
       "1                        4               False    Adventure  281233.19   \n",
       "6                        1               False     Cultural   37424.42   \n",
       "7                        3                True    Adventure  810452.74   \n",
       "11                       5                True    Adventure  445455.58   \n",
       "27                      11                True   Relaxation 1796515.55   \n",
       "...                    ...                 ...          ...        ...   \n",
       "9936                    14                True     Cultural  143747.78   \n",
       "9958                     3               False    Adventure  320119.76   \n",
       "9965                     1               False    Adventure  324200.00   \n",
       "9986                     8               False   Relaxation  535010.48   \n",
       "9991                     2               False    Adventure   67273.96   \n",
       "\n",
       "      rating   margin  additional_services_cost  \n",
       "1          7  1570.39                    405.52  \n",
       "6          7   -89.33                     81.53  \n",
       "7          5  4882.30                   1509.58  \n",
       "11         7  2574.81                    738.01  \n",
       "27         6 11144.05                   3772.01  \n",
       "...      ...      ...                       ...  \n",
       "9936       8   798.81                    123.23  \n",
       "9958       6  1727.44                    702.34  \n",
       "9965       5  1661.63                    494.94  \n",
       "9986       6  3011.18                    875.61  \n",
       "9991       6   141.39                     85.79  \n",
       "\n",
       "[1239 rows x 17 columns]"
      ]
     },
     "execution_count": 38,
     "metadata": {},
     "output_type": "execute_result"
    }
   ],
   "source": [
    "_dataset_cleaned[tokyo]"
   ]
  },
  {
   "cell_type": "markdown",
   "metadata": {},
   "source": [
    "This gives us a filtered dataset we can now grab the cost column from"
   ]
  },
  {
   "cell_type": "code",
   "execution_count": 39,
   "metadata": {},
   "outputs": [
    {
     "data": {
      "text/plain": [
       "1       281233.19\n",
       "6        37424.42\n",
       "7       810452.74\n",
       "11      445455.58\n",
       "27     1796515.55\n",
       "          ...    \n",
       "9936    143747.78\n",
       "9958    320119.76\n",
       "9965    324200.00\n",
       "9986    535010.48\n",
       "9991     67273.96\n",
       "Name: cost, Length: 1239, dtype: float64"
      ]
     },
     "execution_count": 39,
     "metadata": {},
     "output_type": "execute_result"
    }
   ],
   "source": [
    "_dataset_cleaned[tokyo][\"cost\"]"
   ]
  },
  {
   "cell_type": "markdown",
   "metadata": {},
   "source": [
    "Now we have the rows we can convert the currency by dividing by 158. You will likely attempt to do the following\n",
    "\n",
    "`_dataset_cleaned[tokyo][\"cost\"] /= 158`"
   ]
  },
  {
   "cell_type": "code",
   "execution_count": 40,
   "metadata": {},
   "outputs": [
    {
     "name": "stderr",
     "output_type": "stream",
     "text": [
      "C:\\Users\\u0140497\\AppData\\Local\\Temp\\ipykernel_25296\\727726227.py:1: SettingWithCopyWarning: \n",
      "A value is trying to be set on a copy of a slice from a DataFrame.\n",
      "Try using .loc[row_indexer,col_indexer] = value instead\n",
      "\n",
      "See the caveats in the documentation: https://pandas.pydata.org/pandas-docs/stable/user_guide/indexing.html#returning-a-view-versus-a-copy\n",
      "  _dataset_cleaned[tokyo][\"cost\"] /= 1\n"
     ]
    }
   ],
   "source": [
    "_dataset_cleaned[tokyo][\"cost\"] /= 1"
   ]
  },
  {
   "cell_type": "markdown",
   "metadata": {},
   "source": [
    "This gives us the same error as we encountered in the previous session. The way we can get around is is by using `data.loc`.\n",
    "\n",
    "`df.loc` can be quite confusing. It is an object you can slice by using square brackets `[]`. The first element is the **index**. This is typically the column on the far left."
   ]
  },
  {
   "cell_type": "code",
   "execution_count": 41,
   "metadata": {},
   "outputs": [
    {
     "data": {
      "text/plain": [
       "Index([   0,    1,    2,    3,    4,    5,    6,    7,    8,    9,\n",
       "       ...\n",
       "       9990, 9991, 9992, 9993, 9994, 9995, 9996, 9997, 9998, 9999],\n",
       "      dtype='int64', length=9900)"
      ]
     },
     "execution_count": 41,
     "metadata": {},
     "output_type": "execute_result"
    }
   ],
   "source": [
    "_dataset_cleaned.index # Each dataframe has an index"
   ]
  },
  {
   "cell_type": "code",
   "execution_count": 42,
   "metadata": {},
   "outputs": [
    {
     "data": {
      "text/plain": [
       "Index([   0,    1,    2,    3,    4,    5,    6,    7,    8,    9,\n",
       "       ...\n",
       "       9990, 9991, 9992, 9993, 9994, 9995, 9996, 9997, 9998, 9999],\n",
       "      dtype='int64', length=9900)"
      ]
     },
     "execution_count": 42,
     "metadata": {},
     "output_type": "execute_result"
    }
   ],
   "source": [
    "tokyo.index # Each series has an index too"
   ]
  },
  {
   "cell_type": "code",
   "execution_count": 43,
   "metadata": {},
   "outputs": [
    {
     "data": {
      "text/html": [
       "<div>\n",
       "<style scoped>\n",
       "    .dataframe tbody tr th:only-of-type {\n",
       "        vertical-align: middle;\n",
       "    }\n",
       "\n",
       "    .dataframe tbody tr th {\n",
       "        vertical-align: top;\n",
       "    }\n",
       "\n",
       "    .dataframe thead th {\n",
       "        text-align: right;\n",
       "    }\n",
       "</style>\n",
       "<table border=\"1\" class=\"dataframe\">\n",
       "  <thead>\n",
       "    <tr style=\"text-align: right;\">\n",
       "      <th></th>\n",
       "      <th>Unnamed: 0</th>\n",
       "      <th>sales_id</th>\n",
       "      <th>age</th>\n",
       "      <th>country</th>\n",
       "      <th>membership_status</th>\n",
       "      <th>previous_purchases</th>\n",
       "      <th>destination</th>\n",
       "      <th>stay_length</th>\n",
       "      <th>guests</th>\n",
       "      <th>travel_month</th>\n",
       "      <th>months_before_travel</th>\n",
       "      <th>earlybird_discount</th>\n",
       "      <th>package_Type</th>\n",
       "      <th>cost</th>\n",
       "      <th>rating</th>\n",
       "      <th>margin</th>\n",
       "      <th>additional_services_cost</th>\n",
       "    </tr>\n",
       "  </thead>\n",
       "  <tbody>\n",
       "    <tr>\n",
       "      <th>1</th>\n",
       "      <td>1</td>\n",
       "      <td>2</td>\n",
       "      <td>37</td>\n",
       "      <td>Italy</td>\n",
       "      <td>silver</td>\n",
       "      <td>5</td>\n",
       "      <td>Tokyo</td>\n",
       "      <td>4</td>\n",
       "      <td>2</td>\n",
       "      <td>8</td>\n",
       "      <td>4</td>\n",
       "      <td>False</td>\n",
       "      <td>Adventure</td>\n",
       "      <td>281233.19</td>\n",
       "      <td>7</td>\n",
       "      <td>1570.39</td>\n",
       "      <td>405.52</td>\n",
       "    </tr>\n",
       "    <tr>\n",
       "      <th>6</th>\n",
       "      <td>6</td>\n",
       "      <td>7</td>\n",
       "      <td>63</td>\n",
       "      <td>Italy</td>\n",
       "      <td>silver</td>\n",
       "      <td>4</td>\n",
       "      <td>Tokyo</td>\n",
       "      <td>1</td>\n",
       "      <td>1</td>\n",
       "      <td>6</td>\n",
       "      <td>1</td>\n",
       "      <td>False</td>\n",
       "      <td>Cultural</td>\n",
       "      <td>37424.42</td>\n",
       "      <td>7</td>\n",
       "      <td>-89.33</td>\n",
       "      <td>81.53</td>\n",
       "    </tr>\n",
       "    <tr>\n",
       "      <th>7</th>\n",
       "      <td>7</td>\n",
       "      <td>8</td>\n",
       "      <td>51</td>\n",
       "      <td>Spain</td>\n",
       "      <td>silver</td>\n",
       "      <td>3</td>\n",
       "      <td>Tokyo</td>\n",
       "      <td>11</td>\n",
       "      <td>2</td>\n",
       "      <td>7</td>\n",
       "      <td>3</td>\n",
       "      <td>True</td>\n",
       "      <td>Adventure</td>\n",
       "      <td>810452.74</td>\n",
       "      <td>5</td>\n",
       "      <td>4882.30</td>\n",
       "      <td>1509.58</td>\n",
       "    </tr>\n",
       "    <tr>\n",
       "      <th>11</th>\n",
       "      <td>11</td>\n",
       "      <td>12</td>\n",
       "      <td>33</td>\n",
       "      <td>Australia</td>\n",
       "      <td>standard</td>\n",
       "      <td>3</td>\n",
       "      <td>Tokyo</td>\n",
       "      <td>4</td>\n",
       "      <td>3</td>\n",
       "      <td>7</td>\n",
       "      <td>5</td>\n",
       "      <td>True</td>\n",
       "      <td>Adventure</td>\n",
       "      <td>445455.58</td>\n",
       "      <td>7</td>\n",
       "      <td>2574.81</td>\n",
       "      <td>738.01</td>\n",
       "    </tr>\n",
       "    <tr>\n",
       "      <th>27</th>\n",
       "      <td>27</td>\n",
       "      <td>28</td>\n",
       "      <td>45</td>\n",
       "      <td>Spain</td>\n",
       "      <td>silver</td>\n",
       "      <td>4</td>\n",
       "      <td>Tokyo</td>\n",
       "      <td>19</td>\n",
       "      <td>3</td>\n",
       "      <td>2</td>\n",
       "      <td>11</td>\n",
       "      <td>True</td>\n",
       "      <td>Relaxation</td>\n",
       "      <td>1796515.55</td>\n",
       "      <td>6</td>\n",
       "      <td>11144.05</td>\n",
       "      <td>3772.01</td>\n",
       "    </tr>\n",
       "    <tr>\n",
       "      <th>...</th>\n",
       "      <td>...</td>\n",
       "      <td>...</td>\n",
       "      <td>...</td>\n",
       "      <td>...</td>\n",
       "      <td>...</td>\n",
       "      <td>...</td>\n",
       "      <td>...</td>\n",
       "      <td>...</td>\n",
       "      <td>...</td>\n",
       "      <td>...</td>\n",
       "      <td>...</td>\n",
       "      <td>...</td>\n",
       "      <td>...</td>\n",
       "      <td>...</td>\n",
       "      <td>...</td>\n",
       "      <td>...</td>\n",
       "      <td>...</td>\n",
       "    </tr>\n",
       "    <tr>\n",
       "      <th>9936</th>\n",
       "      <td>9936</td>\n",
       "      <td>9937</td>\n",
       "      <td>44</td>\n",
       "      <td>Australia</td>\n",
       "      <td>gold</td>\n",
       "      <td>5</td>\n",
       "      <td>Tokyo</td>\n",
       "      <td>2</td>\n",
       "      <td>2</td>\n",
       "      <td>8</td>\n",
       "      <td>14</td>\n",
       "      <td>True</td>\n",
       "      <td>Cultural</td>\n",
       "      <td>143747.78</td>\n",
       "      <td>8</td>\n",
       "      <td>798.81</td>\n",
       "      <td>123.23</td>\n",
       "    </tr>\n",
       "    <tr>\n",
       "      <th>9958</th>\n",
       "      <td>9958</td>\n",
       "      <td>9959</td>\n",
       "      <td>49</td>\n",
       "      <td>Australia</td>\n",
       "      <td>standard</td>\n",
       "      <td>1</td>\n",
       "      <td>Tokyo</td>\n",
       "      <td>9</td>\n",
       "      <td>1</td>\n",
       "      <td>8</td>\n",
       "      <td>3</td>\n",
       "      <td>False</td>\n",
       "      <td>Adventure</td>\n",
       "      <td>320119.76</td>\n",
       "      <td>6</td>\n",
       "      <td>1727.44</td>\n",
       "      <td>702.34</td>\n",
       "    </tr>\n",
       "    <tr>\n",
       "      <th>9965</th>\n",
       "      <td>9965</td>\n",
       "      <td>9966</td>\n",
       "      <td>47</td>\n",
       "      <td>Spain</td>\n",
       "      <td>standard</td>\n",
       "      <td>2</td>\n",
       "      <td>Tokyo</td>\n",
       "      <td>5</td>\n",
       "      <td>2</td>\n",
       "      <td>2</td>\n",
       "      <td>1</td>\n",
       "      <td>False</td>\n",
       "      <td>Adventure</td>\n",
       "      <td>324200.00</td>\n",
       "      <td>5</td>\n",
       "      <td>1661.63</td>\n",
       "      <td>494.94</td>\n",
       "    </tr>\n",
       "    <tr>\n",
       "      <th>9986</th>\n",
       "      <td>9986</td>\n",
       "      <td>9987</td>\n",
       "      <td>34</td>\n",
       "      <td>Italy</td>\n",
       "      <td>standard</td>\n",
       "      <td>3</td>\n",
       "      <td>Tokyo</td>\n",
       "      <td>5</td>\n",
       "      <td>3</td>\n",
       "      <td>12</td>\n",
       "      <td>8</td>\n",
       "      <td>False</td>\n",
       "      <td>Relaxation</td>\n",
       "      <td>535010.48</td>\n",
       "      <td>6</td>\n",
       "      <td>3011.18</td>\n",
       "      <td>875.61</td>\n",
       "    </tr>\n",
       "    <tr>\n",
       "      <th>9991</th>\n",
       "      <td>9991</td>\n",
       "      <td>9992</td>\n",
       "      <td>42</td>\n",
       "      <td>UK</td>\n",
       "      <td>silver</td>\n",
       "      <td>2</td>\n",
       "      <td>Tokyo</td>\n",
       "      <td>2</td>\n",
       "      <td>1</td>\n",
       "      <td>7</td>\n",
       "      <td>2</td>\n",
       "      <td>False</td>\n",
       "      <td>Adventure</td>\n",
       "      <td>67273.96</td>\n",
       "      <td>6</td>\n",
       "      <td>141.39</td>\n",
       "      <td>85.79</td>\n",
       "    </tr>\n",
       "  </tbody>\n",
       "</table>\n",
       "<p>1239 rows × 17 columns</p>\n",
       "</div>"
      ],
      "text/plain": [
       "      Unnamed: 0  sales_id  age    country membership_status  \\\n",
       "1              1         2   37      Italy            silver   \n",
       "6              6         7   63      Italy            silver   \n",
       "7              7         8   51      Spain            silver   \n",
       "11            11        12   33  Australia          standard   \n",
       "27            27        28   45      Spain            silver   \n",
       "...          ...       ...  ...        ...               ...   \n",
       "9936        9936      9937   44  Australia              gold   \n",
       "9958        9958      9959   49  Australia          standard   \n",
       "9965        9965      9966   47      Spain          standard   \n",
       "9986        9986      9987   34      Italy          standard   \n",
       "9991        9991      9992   42         UK            silver   \n",
       "\n",
       "      previous_purchases destination  stay_length  guests  travel_month  \\\n",
       "1                      5       Tokyo            4       2             8   \n",
       "6                      4       Tokyo            1       1             6   \n",
       "7                      3       Tokyo           11       2             7   \n",
       "11                     3       Tokyo            4       3             7   \n",
       "27                     4       Tokyo           19       3             2   \n",
       "...                  ...         ...          ...     ...           ...   \n",
       "9936                   5       Tokyo            2       2             8   \n",
       "9958                   1       Tokyo            9       1             8   \n",
       "9965                   2       Tokyo            5       2             2   \n",
       "9986                   3       Tokyo            5       3            12   \n",
       "9991                   2       Tokyo            2       1             7   \n",
       "\n",
       "      months_before_travel  earlybird_discount package_Type       cost  \\\n",
       "1                        4               False    Adventure  281233.19   \n",
       "6                        1               False     Cultural   37424.42   \n",
       "7                        3                True    Adventure  810452.74   \n",
       "11                       5                True    Adventure  445455.58   \n",
       "27                      11                True   Relaxation 1796515.55   \n",
       "...                    ...                 ...          ...        ...   \n",
       "9936                    14                True     Cultural  143747.78   \n",
       "9958                     3               False    Adventure  320119.76   \n",
       "9965                     1               False    Adventure  324200.00   \n",
       "9986                     8               False   Relaxation  535010.48   \n",
       "9991                     2               False    Adventure   67273.96   \n",
       "\n",
       "      rating   margin  additional_services_cost  \n",
       "1          7  1570.39                    405.52  \n",
       "6          7   -89.33                     81.53  \n",
       "7          5  4882.30                   1509.58  \n",
       "11         7  2574.81                    738.01  \n",
       "27         6 11144.05                   3772.01  \n",
       "...      ...      ...                       ...  \n",
       "9936       8   798.81                    123.23  \n",
       "9958       6  1727.44                    702.34  \n",
       "9965       5  1661.63                    494.94  \n",
       "9986       6  3011.18                    875.61  \n",
       "9991       6   141.39                     85.79  \n",
       "\n",
       "[1239 rows x 17 columns]"
      ]
     },
     "execution_count": 43,
     "metadata": {},
     "output_type": "execute_result"
    }
   ],
   "source": [
    "_dataset_cleaned.loc[tokyo] # Loc filters the dataset where Tokyo is true"
   ]
  },
  {
   "cell_type": "markdown",
   "metadata": {},
   "source": [
    "We can also give columns or a list of columns to `.loc`"
   ]
  },
  {
   "cell_type": "code",
   "execution_count": 44,
   "metadata": {},
   "outputs": [
    {
     "data": {
      "text/plain": [
       "1       281233.19\n",
       "6        37424.42\n",
       "7       810452.74\n",
       "11      445455.58\n",
       "27     1796515.55\n",
       "          ...    \n",
       "9936    143747.78\n",
       "9958    320119.76\n",
       "9965    324200.00\n",
       "9986    535010.48\n",
       "9991     67273.96\n",
       "Name: cost, Length: 1239, dtype: float64"
      ]
     },
     "execution_count": 44,
     "metadata": {},
     "output_type": "execute_result"
    }
   ],
   "source": [
    "_dataset_cleaned.loc[tokyo, \"cost\"]"
   ]
  },
  {
   "cell_type": "markdown",
   "metadata": {},
   "source": [
    "It is a good habit to make a copy before you change your data. If you don't do this and make a mistake you need to rerun your entire script. For a small dataset like this it's not a big problem, but as you scale it can become a bottleneck."
   ]
  },
  {
   "cell_type": "code",
   "execution_count": 45,
   "metadata": {},
   "outputs": [],
   "source": [
    "cleaned_dataset = _dataset_cleaned.copy()"
   ]
  },
  {
   "cell_type": "code",
   "execution_count": 46,
   "metadata": {},
   "outputs": [],
   "source": [
    "\n",
    "cleaned_dataset.loc[tokyo, \"cost\"] /= 158"
   ]
  },
  {
   "cell_type": "code",
   "execution_count": 47,
   "metadata": {},
   "outputs": [
    {
     "data": {
      "text/html": [
       "<div>\n",
       "<style scoped>\n",
       "    .dataframe tbody tr th:only-of-type {\n",
       "        vertical-align: middle;\n",
       "    }\n",
       "\n",
       "    .dataframe tbody tr th {\n",
       "        vertical-align: top;\n",
       "    }\n",
       "\n",
       "    .dataframe thead th {\n",
       "        text-align: right;\n",
       "    }\n",
       "</style>\n",
       "<table border=\"1\" class=\"dataframe\">\n",
       "  <thead>\n",
       "    <tr style=\"text-align: right;\">\n",
       "      <th></th>\n",
       "      <th>Unnamed: 0</th>\n",
       "      <th>sales_id</th>\n",
       "      <th>age</th>\n",
       "      <th>country</th>\n",
       "      <th>membership_status</th>\n",
       "      <th>previous_purchases</th>\n",
       "      <th>destination</th>\n",
       "      <th>stay_length</th>\n",
       "      <th>guests</th>\n",
       "      <th>travel_month</th>\n",
       "      <th>months_before_travel</th>\n",
       "      <th>earlybird_discount</th>\n",
       "      <th>package_Type</th>\n",
       "      <th>cost</th>\n",
       "      <th>rating</th>\n",
       "      <th>margin</th>\n",
       "      <th>additional_services_cost</th>\n",
       "    </tr>\n",
       "  </thead>\n",
       "  <tbody>\n",
       "    <tr>\n",
       "      <th>0</th>\n",
       "      <td>0</td>\n",
       "      <td>1</td>\n",
       "      <td>47</td>\n",
       "      <td>UK</td>\n",
       "      <td>silver</td>\n",
       "      <td>1</td>\n",
       "      <td>Sydney</td>\n",
       "      <td>4</td>\n",
       "      <td>2</td>\n",
       "      <td>7</td>\n",
       "      <td>1</td>\n",
       "      <td>False</td>\n",
       "      <td>Adventure</td>\n",
       "      <td>1706.09</td>\n",
       "      <td>6</td>\n",
       "      <td>1219.74</td>\n",
       "      <td>291.06</td>\n",
       "    </tr>\n",
       "    <tr>\n",
       "      <th>1</th>\n",
       "      <td>1</td>\n",
       "      <td>2</td>\n",
       "      <td>37</td>\n",
       "      <td>Italy</td>\n",
       "      <td>silver</td>\n",
       "      <td>5</td>\n",
       "      <td>Tokyo</td>\n",
       "      <td>4</td>\n",
       "      <td>2</td>\n",
       "      <td>8</td>\n",
       "      <td>4</td>\n",
       "      <td>False</td>\n",
       "      <td>Adventure</td>\n",
       "      <td>1779.96</td>\n",
       "      <td>7</td>\n",
       "      <td>1570.39</td>\n",
       "      <td>405.52</td>\n",
       "    </tr>\n",
       "    <tr>\n",
       "      <th>2</th>\n",
       "      <td>2</td>\n",
       "      <td>3</td>\n",
       "      <td>49</td>\n",
       "      <td>USA</td>\n",
       "      <td>standard</td>\n",
       "      <td>2</td>\n",
       "      <td>Sydney</td>\n",
       "      <td>3</td>\n",
       "      <td>4</td>\n",
       "      <td>7</td>\n",
       "      <td>1</td>\n",
       "      <td>False</td>\n",
       "      <td>Cultural</td>\n",
       "      <td>2829.92</td>\n",
       "      <td>6</td>\n",
       "      <td>2360.49</td>\n",
       "      <td>285.36</td>\n",
       "    </tr>\n",
       "    <tr>\n",
       "      <th>3</th>\n",
       "      <td>3</td>\n",
       "      <td>4</td>\n",
       "      <td>62</td>\n",
       "      <td>Spain</td>\n",
       "      <td>silver</td>\n",
       "      <td>2</td>\n",
       "      <td>Cape Town</td>\n",
       "      <td>7</td>\n",
       "      <td>2</td>\n",
       "      <td>1</td>\n",
       "      <td>3</td>\n",
       "      <td>True</td>\n",
       "      <td>Adventure</td>\n",
       "      <td>2789.53</td>\n",
       "      <td>7</td>\n",
       "      <td>2315.66</td>\n",
       "      <td>747.53</td>\n",
       "    </tr>\n",
       "    <tr>\n",
       "      <th>4</th>\n",
       "      <td>4</td>\n",
       "      <td>5</td>\n",
       "      <td>36</td>\n",
       "      <td>Germany</td>\n",
       "      <td>silver</td>\n",
       "      <td>3</td>\n",
       "      <td>Paris</td>\n",
       "      <td>9</td>\n",
       "      <td>3</td>\n",
       "      <td>2</td>\n",
       "      <td>7</td>\n",
       "      <td>False</td>\n",
       "      <td>Adventure</td>\n",
       "      <td>5358.00</td>\n",
       "      <td>5</td>\n",
       "      <td>5042.14</td>\n",
       "      <td>1117.09</td>\n",
       "    </tr>\n",
       "    <tr>\n",
       "      <th>...</th>\n",
       "      <td>...</td>\n",
       "      <td>...</td>\n",
       "      <td>...</td>\n",
       "      <td>...</td>\n",
       "      <td>...</td>\n",
       "      <td>...</td>\n",
       "      <td>...</td>\n",
       "      <td>...</td>\n",
       "      <td>...</td>\n",
       "      <td>...</td>\n",
       "      <td>...</td>\n",
       "      <td>...</td>\n",
       "      <td>...</td>\n",
       "      <td>...</td>\n",
       "      <td>...</td>\n",
       "      <td>...</td>\n",
       "      <td>...</td>\n",
       "    </tr>\n",
       "    <tr>\n",
       "      <th>9995</th>\n",
       "      <td>9995</td>\n",
       "      <td>9996</td>\n",
       "      <td>59</td>\n",
       "      <td>Germany</td>\n",
       "      <td>standard</td>\n",
       "      <td>3</td>\n",
       "      <td>Cape Town</td>\n",
       "      <td>11</td>\n",
       "      <td>3</td>\n",
       "      <td>8</td>\n",
       "      <td>1</td>\n",
       "      <td>True</td>\n",
       "      <td>Adventure</td>\n",
       "      <td>7504.78</td>\n",
       "      <td>7</td>\n",
       "      <td>7045.05</td>\n",
       "      <td>1602.18</td>\n",
       "    </tr>\n",
       "    <tr>\n",
       "      <th>9996</th>\n",
       "      <td>9996</td>\n",
       "      <td>9997</td>\n",
       "      <td>18</td>\n",
       "      <td>Australia</td>\n",
       "      <td>standard</td>\n",
       "      <td>1</td>\n",
       "      <td>Sydney</td>\n",
       "      <td>6</td>\n",
       "      <td>1</td>\n",
       "      <td>7</td>\n",
       "      <td>1</td>\n",
       "      <td>True</td>\n",
       "      <td>Relaxation</td>\n",
       "      <td>1427.12</td>\n",
       "      <td>7</td>\n",
       "      <td>1051.24</td>\n",
       "      <td>395.36</td>\n",
       "    </tr>\n",
       "    <tr>\n",
       "      <th>9997</th>\n",
       "      <td>9997</td>\n",
       "      <td>9998</td>\n",
       "      <td>29</td>\n",
       "      <td>USA</td>\n",
       "      <td>silver</td>\n",
       "      <td>3</td>\n",
       "      <td>Paris</td>\n",
       "      <td>5</td>\n",
       "      <td>3</td>\n",
       "      <td>12</td>\n",
       "      <td>2</td>\n",
       "      <td>True</td>\n",
       "      <td>Adventure</td>\n",
       "      <td>3458.86</td>\n",
       "      <td>5</td>\n",
       "      <td>2945.36</td>\n",
       "      <td>539.41</td>\n",
       "    </tr>\n",
       "    <tr>\n",
       "      <th>9998</th>\n",
       "      <td>9998</td>\n",
       "      <td>9999</td>\n",
       "      <td>47</td>\n",
       "      <td>USA</td>\n",
       "      <td>standard</td>\n",
       "      <td>5</td>\n",
       "      <td>Paris</td>\n",
       "      <td>16</td>\n",
       "      <td>5</td>\n",
       "      <td>8</td>\n",
       "      <td>3</td>\n",
       "      <td>False</td>\n",
       "      <td>Relaxation</td>\n",
       "      <td>18392.27</td>\n",
       "      <td>5</td>\n",
       "      <td>17968.59</td>\n",
       "      <td>5247.25</td>\n",
       "    </tr>\n",
       "    <tr>\n",
       "      <th>9999</th>\n",
       "      <td>9999</td>\n",
       "      <td>10000</td>\n",
       "      <td>49</td>\n",
       "      <td>Canada</td>\n",
       "      <td>standard</td>\n",
       "      <td>2</td>\n",
       "      <td>Cape Town</td>\n",
       "      <td>15</td>\n",
       "      <td>1</td>\n",
       "      <td>1</td>\n",
       "      <td>2</td>\n",
       "      <td>False</td>\n",
       "      <td>Relaxation</td>\n",
       "      <td>3041.91</td>\n",
       "      <td>7</td>\n",
       "      <td>2738.33</td>\n",
       "      <td>820.83</td>\n",
       "    </tr>\n",
       "  </tbody>\n",
       "</table>\n",
       "<p>9900 rows × 17 columns</p>\n",
       "</div>"
      ],
      "text/plain": [
       "      Unnamed: 0  sales_id  age    country membership_status  \\\n",
       "0              0         1   47         UK            silver   \n",
       "1              1         2   37      Italy            silver   \n",
       "2              2         3   49        USA          standard   \n",
       "3              3         4   62      Spain            silver   \n",
       "4              4         5   36    Germany            silver   \n",
       "...          ...       ...  ...        ...               ...   \n",
       "9995        9995      9996   59    Germany          standard   \n",
       "9996        9996      9997   18  Australia          standard   \n",
       "9997        9997      9998   29        USA            silver   \n",
       "9998        9998      9999   47        USA          standard   \n",
       "9999        9999     10000   49     Canada          standard   \n",
       "\n",
       "      previous_purchases destination  stay_length  guests  travel_month  \\\n",
       "0                      1      Sydney            4       2             7   \n",
       "1                      5       Tokyo            4       2             8   \n",
       "2                      2      Sydney            3       4             7   \n",
       "3                      2   Cape Town            7       2             1   \n",
       "4                      3       Paris            9       3             2   \n",
       "...                  ...         ...          ...     ...           ...   \n",
       "9995                   3   Cape Town           11       3             8   \n",
       "9996                   1      Sydney            6       1             7   \n",
       "9997                   3       Paris            5       3            12   \n",
       "9998                   5       Paris           16       5             8   \n",
       "9999                   2   Cape Town           15       1             1   \n",
       "\n",
       "      months_before_travel  earlybird_discount package_Type     cost  rating  \\\n",
       "0                        1               False    Adventure  1706.09       6   \n",
       "1                        4               False    Adventure  1779.96       7   \n",
       "2                        1               False     Cultural  2829.92       6   \n",
       "3                        3                True    Adventure  2789.53       7   \n",
       "4                        7               False    Adventure  5358.00       5   \n",
       "...                    ...                 ...          ...      ...     ...   \n",
       "9995                     1                True    Adventure  7504.78       7   \n",
       "9996                     1                True   Relaxation  1427.12       7   \n",
       "9997                     2                True    Adventure  3458.86       5   \n",
       "9998                     3               False   Relaxation 18392.27       5   \n",
       "9999                     2               False   Relaxation  3041.91       7   \n",
       "\n",
       "       margin  additional_services_cost  \n",
       "0     1219.74                    291.06  \n",
       "1     1570.39                    405.52  \n",
       "2     2360.49                    285.36  \n",
       "3     2315.66                    747.53  \n",
       "4     5042.14                   1117.09  \n",
       "...       ...                       ...  \n",
       "9995  7045.05                   1602.18  \n",
       "9996  1051.24                    395.36  \n",
       "9997  2945.36                    539.41  \n",
       "9998 17968.59                   5247.25  \n",
       "9999  2738.33                    820.83  \n",
       "\n",
       "[9900 rows x 17 columns]"
      ]
     },
     "execution_count": 47,
     "metadata": {},
     "output_type": "execute_result"
    }
   ],
   "source": [
    "cleaned_dataset"
   ]
  },
  {
   "cell_type": "markdown",
   "metadata": {},
   "source": [
    "We will briefly look at the impact of what we did on our analysis"
   ]
  },
  {
   "cell_type": "code",
   "execution_count": 48,
   "metadata": {},
   "outputs": [
    {
     "data": {
      "text/html": [
       "<div>\n",
       "<style scoped>\n",
       "    .dataframe tbody tr th:only-of-type {\n",
       "        vertical-align: middle;\n",
       "    }\n",
       "\n",
       "    .dataframe tbody tr th {\n",
       "        vertical-align: top;\n",
       "    }\n",
       "\n",
       "    .dataframe thead tr th {\n",
       "        text-align: left;\n",
       "    }\n",
       "\n",
       "    .dataframe thead tr:last-of-type th {\n",
       "        text-align: right;\n",
       "    }\n",
       "</style>\n",
       "<table border=\"1\" class=\"dataframe\">\n",
       "  <thead>\n",
       "    <tr>\n",
       "      <th></th>\n",
       "      <th colspan=\"5\" halign=\"left\">cost</th>\n",
       "    </tr>\n",
       "    <tr>\n",
       "      <th></th>\n",
       "      <th>min</th>\n",
       "      <th>max</th>\n",
       "      <th>median</th>\n",
       "      <th>mean</th>\n",
       "      <th>std</th>\n",
       "    </tr>\n",
       "    <tr>\n",
       "      <th>destination</th>\n",
       "      <th></th>\n",
       "      <th></th>\n",
       "      <th></th>\n",
       "      <th></th>\n",
       "      <th></th>\n",
       "    </tr>\n",
       "  </thead>\n",
       "  <tbody>\n",
       "    <tr>\n",
       "      <th>Cairo</th>\n",
       "      <td>286.53</td>\n",
       "      <td>43707.46</td>\n",
       "      <td>4342.23</td>\n",
       "      <td>5897.69</td>\n",
       "      <td>5300.76</td>\n",
       "    </tr>\n",
       "    <tr>\n",
       "      <th>Cape Town</th>\n",
       "      <td>236.15</td>\n",
       "      <td>30977.86</td>\n",
       "      <td>4132.99</td>\n",
       "      <td>5521.14</td>\n",
       "      <td>4677.70</td>\n",
       "    </tr>\n",
       "    <tr>\n",
       "      <th>New York</th>\n",
       "      <td>104.24</td>\n",
       "      <td>50263.48</td>\n",
       "      <td>4576.78</td>\n",
       "      <td>6009.05</td>\n",
       "      <td>5394.53</td>\n",
       "    </tr>\n",
       "    <tr>\n",
       "      <th>Paris</th>\n",
       "      <td>169.12</td>\n",
       "      <td>48416.78</td>\n",
       "      <td>4708.07</td>\n",
       "      <td>6061.44</td>\n",
       "      <td>5078.72</td>\n",
       "    </tr>\n",
       "    <tr>\n",
       "      <th>Rio</th>\n",
       "      <td>190.22</td>\n",
       "      <td>41355.67</td>\n",
       "      <td>4003.00</td>\n",
       "      <td>5325.80</td>\n",
       "      <td>4614.33</td>\n",
       "    </tr>\n",
       "    <tr>\n",
       "      <th>Rome</th>\n",
       "      <td>180.58</td>\n",
       "      <td>56969.50</td>\n",
       "      <td>4234.08</td>\n",
       "      <td>5786.73</td>\n",
       "      <td>5081.94</td>\n",
       "    </tr>\n",
       "    <tr>\n",
       "      <th>Sydney</th>\n",
       "      <td>114.02</td>\n",
       "      <td>36791.09</td>\n",
       "      <td>4053.77</td>\n",
       "      <td>5254.98</td>\n",
       "      <td>4355.73</td>\n",
       "    </tr>\n",
       "    <tr>\n",
       "      <th>Tokyo</th>\n",
       "      <td>94.29</td>\n",
       "      <td>42557.21</td>\n",
       "      <td>4566.32</td>\n",
       "      <td>6124.05</td>\n",
       "      <td>5591.10</td>\n",
       "    </tr>\n",
       "  </tbody>\n",
       "</table>\n",
       "</div>"
      ],
      "text/plain": [
       "              cost                                 \n",
       "               min      max  median    mean     std\n",
       "destination                                        \n",
       "Cairo       286.53 43707.46 4342.23 5897.69 5300.76\n",
       "Cape Town   236.15 30977.86 4132.99 5521.14 4677.70\n",
       "New York    104.24 50263.48 4576.78 6009.05 5394.53\n",
       "Paris       169.12 48416.78 4708.07 6061.44 5078.72\n",
       "Rio         190.22 41355.67 4003.00 5325.80 4614.33\n",
       "Rome        180.58 56969.50 4234.08 5786.73 5081.94\n",
       "Sydney      114.02 36791.09 4053.77 5254.98 4355.73\n",
       "Tokyo        94.29 42557.21 4566.32 6124.05 5591.10"
      ]
     },
     "execution_count": 48,
     "metadata": {},
     "output_type": "execute_result"
    }
   ],
   "source": [
    "cleaned_dataset[[\"destination\", \"cost\"]].groupby(\"destination\").agg([\"min\", \"max\", \"median\", \"mean\", \"std\"])"
   ]
  },
  {
   "cell_type": "code",
   "execution_count": 49,
   "metadata": {},
   "outputs": [
    {
     "data": {
      "text/html": [
       "<div>\n",
       "<style scoped>\n",
       "    .dataframe tbody tr th:only-of-type {\n",
       "        vertical-align: middle;\n",
       "    }\n",
       "\n",
       "    .dataframe tbody tr th {\n",
       "        vertical-align: top;\n",
       "    }\n",
       "\n",
       "    .dataframe thead th {\n",
       "        text-align: right;\n",
       "    }\n",
       "</style>\n",
       "<table border=\"1\" class=\"dataframe\">\n",
       "  <thead>\n",
       "    <tr style=\"text-align: right;\">\n",
       "      <th></th>\n",
       "      <th>age</th>\n",
       "      <th>cost</th>\n",
       "      <th>stay_length</th>\n",
       "    </tr>\n",
       "  </thead>\n",
       "  <tbody>\n",
       "    <tr>\n",
       "      <th>age</th>\n",
       "      <td>1.00</td>\n",
       "      <td>0.02</td>\n",
       "      <td>0.00</td>\n",
       "    </tr>\n",
       "    <tr>\n",
       "      <th>cost</th>\n",
       "      <td>0.02</td>\n",
       "      <td>1.00</td>\n",
       "      <td>0.75</td>\n",
       "    </tr>\n",
       "    <tr>\n",
       "      <th>stay_length</th>\n",
       "      <td>0.00</td>\n",
       "      <td>0.75</td>\n",
       "      <td>1.00</td>\n",
       "    </tr>\n",
       "  </tbody>\n",
       "</table>\n",
       "</div>"
      ],
      "text/plain": [
       "             age  cost  stay_length\n",
       "age         1.00  0.02         0.00\n",
       "cost        0.02  1.00         0.75\n",
       "stay_length 0.00  0.75         1.00"
      ]
     },
     "execution_count": 49,
     "metadata": {},
     "output_type": "execute_result"
    }
   ],
   "source": [
    "cleaned_dataset[[\"age\", \"cost\", \"stay_length\"]].corr()"
   ]
  },
  {
   "cell_type": "code",
   "execution_count": 50,
   "metadata": {},
   "outputs": [
    {
     "data": {
      "text/html": [
       "<div>\n",
       "<style scoped>\n",
       "    .dataframe tbody tr th:only-of-type {\n",
       "        vertical-align: middle;\n",
       "    }\n",
       "\n",
       "    .dataframe tbody tr th {\n",
       "        vertical-align: top;\n",
       "    }\n",
       "\n",
       "    .dataframe thead th {\n",
       "        text-align: right;\n",
       "    }\n",
       "</style>\n",
       "<table border=\"1\" class=\"dataframe\">\n",
       "  <thead>\n",
       "    <tr style=\"text-align: right;\">\n",
       "      <th></th>\n",
       "      <th>cost</th>\n",
       "      <th>age</th>\n",
       "      <th>stay_length</th>\n",
       "    </tr>\n",
       "    <tr>\n",
       "      <th>destination</th>\n",
       "      <th></th>\n",
       "      <th></th>\n",
       "      <th></th>\n",
       "    </tr>\n",
       "  </thead>\n",
       "  <tbody>\n",
       "    <tr>\n",
       "      <th>Cairo</th>\n",
       "      <td>5897.69</td>\n",
       "      <td>39.85</td>\n",
       "      <td>10.63</td>\n",
       "    </tr>\n",
       "    <tr>\n",
       "      <th>Cape Town</th>\n",
       "      <td>5521.14</td>\n",
       "      <td>40.18</td>\n",
       "      <td>10.49</td>\n",
       "    </tr>\n",
       "    <tr>\n",
       "      <th>New York</th>\n",
       "      <td>6009.05</td>\n",
       "      <td>39.81</td>\n",
       "      <td>10.72</td>\n",
       "    </tr>\n",
       "    <tr>\n",
       "      <th>Paris</th>\n",
       "      <td>6061.44</td>\n",
       "      <td>39.81</td>\n",
       "      <td>10.87</td>\n",
       "    </tr>\n",
       "    <tr>\n",
       "      <th>Rio</th>\n",
       "      <td>5325.80</td>\n",
       "      <td>39.73</td>\n",
       "      <td>9.93</td>\n",
       "    </tr>\n",
       "    <tr>\n",
       "      <th>Rome</th>\n",
       "      <td>5786.73</td>\n",
       "      <td>39.58</td>\n",
       "      <td>10.38</td>\n",
       "    </tr>\n",
       "    <tr>\n",
       "      <th>Sydney</th>\n",
       "      <td>5254.98</td>\n",
       "      <td>40.10</td>\n",
       "      <td>9.91</td>\n",
       "    </tr>\n",
       "    <tr>\n",
       "      <th>Tokyo</th>\n",
       "      <td>6124.05</td>\n",
       "      <td>40.92</td>\n",
       "      <td>10.98</td>\n",
       "    </tr>\n",
       "  </tbody>\n",
       "</table>\n",
       "</div>"
      ],
      "text/plain": [
       "               cost   age  stay_length\n",
       "destination                           \n",
       "Cairo       5897.69 39.85        10.63\n",
       "Cape Town   5521.14 40.18        10.49\n",
       "New York    6009.05 39.81        10.72\n",
       "Paris       6061.44 39.81        10.87\n",
       "Rio         5325.80 39.73         9.93\n",
       "Rome        5786.73 39.58        10.38\n",
       "Sydney      5254.98 40.10         9.91\n",
       "Tokyo       6124.05 40.92        10.98"
      ]
     },
     "execution_count": 50,
     "metadata": {},
     "output_type": "execute_result"
    }
   ],
   "source": [
    "cleaned_dataset[[\"cost\", \"destination\", \"age\", \"stay_length\"]].groupby(\"destination\").mean()"
   ]
  },
  {
   "cell_type": "markdown",
   "metadata": {},
   "source": [
    "##### ❓ What changed?  "
   ]
  },
  {
   "cell_type": "markdown",
   "metadata": {},
   "source": [
    "The outliers have been removed, the data looks a lot better now than it used to. The mean and medians are quite close to each other now."
   ]
  },
  {
   "cell_type": "markdown",
   "metadata": {},
   "source": [
    "##### ❓ How did the outliers impact our analysis?"
   ]
  },
  {
   "cell_type": "markdown",
   "metadata": {},
   "source": [
    "The correlation went threefold, from 0.22 to 0.75"
   ]
  },
  {
   "cell_type": "markdown",
   "metadata": {},
   "source": [
    "\n",
    "##### ❓ How do interpret the correlations?"
   ]
  },
  {
   "cell_type": "markdown",
   "metadata": {},
   "source": [
    "For every additional \"unit\" of stay length there is 0.75 additional unit of cost and vice versa. \n",
    "\n",
    "This is a bidirectional relationship, here it's obvious to see the relationship goes from stay length to cost (causal) but in most cases we can't make that claim.\n",
    "\n",
    "It's a linear relationship. Low correlations don't always mean an absence of a relationship, it could be there but just non-linear."
   ]
  },
  {
   "cell_type": "markdown",
   "metadata": {},
   "source": [
    "\n",
    "<center>\n",
    "Anscomnbe's quarter: four datasets with an equal correlation.\n",
    "<br>\n",
    "<br>\n",
    "<img src=\"https://upload.wikimedia.org/wikipedia/commons/thumb/e/ec/Anscombe%27s_quartet_3.svg/1200px-Anscombe%27s_quartet_3.svg.png\" style=\"width:50%\">\n",
    "</center>"
   ]
  },
  {
   "cell_type": "markdown",
   "metadata": {},
   "source": [
    "### Introduction to plotting with Matplotlib, Seaborn and Plotly"
   ]
  },
  {
   "cell_type": "markdown",
   "metadata": {},
   "source": [
    "We have helped Ada so far to gain insights into her data by wrangling it into shape and making tables to summarize data. Now, to further enhance our understanding and visualize the patterns, trends, and potential anomalies, we will be plotting the data. \n",
    "\n",
    "Making data visual simplifies complex datasets and also makes it more intuitive for stakeholders to grasp key takeaways. By transitioning from tabular summaries to graphical plots, we can also communicate more effectively."
   ]
  },
  {
   "cell_type": "markdown",
   "metadata": {},
   "source": [
    "#### Matplotlib\n",
    "\n",
    "<center>\n",
    "<img src=\"https://matplotlib.org/stable/_images/sphx_glr_logos2_003.png\" style=\"background-color:white\">\n",
    "</center>"
   ]
  },
  {
   "cell_type": "markdown",
   "metadata": {},
   "source": [
    "The name matplotlib comes from matrix plotting library. It's a descendant from the MATLAB programming language. It's by now an older library (2003) that has some quirks, but it is still important to know the basics of Matplotlib since other Python plotting libraries build on top of it. "
   ]
  },
  {
   "cell_type": "code",
   "execution_count": 51,
   "metadata": {},
   "outputs": [],
   "source": [
    "# uncomment to install\n",
    "# %pip install matplotlib "
   ]
  },
  {
   "cell_type": "code",
   "execution_count": 52,
   "metadata": {},
   "outputs": [],
   "source": [
    "import matplotlib.pyplot as plt # convention"
   ]
  },
  {
   "cell_type": "markdown",
   "metadata": {},
   "source": [
    "##### Plotting univariate data"
   ]
  },
  {
   "cell_type": "markdown",
   "metadata": {},
   "source": [
    "\n",
    "The table below is a summary of the different types of plots for **numeric data**.\n",
    "\n",
    "| Plot Type          | Description                                           | When to Use                                                      |\n",
    "|--------------------|-------------------------------------------------------|------------------------------------------------------------------|\n",
    "| **Histogram**      | Displays the distribution of a single continuous variable by dividing the data into bins and showing the frequency of observations in each bin. | To visualize the distribution of a variable, especially to identify its central tendency (mean), spread (standard deviation), and skewness (are low or high values more common).  |\n",
    "| **Box Plot (or Whisker Plot)** | Shows the distribution of a variable using quartiles and displays potential outliers. | To get a summary of a variable's distribution in terms of its median, quartiles, and possible outliers. Useful when comparing the distribution across categories. |\n",
    "| **Density Plot (or Kernel Density Plot)** | Provides a smoothed version of a histogram. | To visualize the distribution of a variable in a continuous manner. Particularly useful when comparing the distributions of multiple variables on the same plot. |\n",
    "| **Violin Plot**    | Combines aspects of box plots and density plots.       | To visualize both the distribution and summary statistics of a variable. Especially useful when comparing across different categories. |\n"
   ]
  },
  {
   "cell_type": "markdown",
   "metadata": {},
   "source": [
    "The syntax for plotting is generally `plt.<plotType>(x, y)`. "
   ]
  },
  {
   "cell_type": "code",
   "execution_count": 53,
   "metadata": {},
   "outputs": [
    {
     "data": {
      "image/png": "[encoded data removed]",
      "text/plain": [
       "<Figure size 640x480 with 1 Axes>"
      ]
     },
     "metadata": {},
     "output_type": "display_data"
    }
   ],
   "source": [
    "plt.boxplot(cleaned_dataset[\"cost\"]); # Matplotlib prints things while plotting, the semicolon an suppress it."
   ]
  },
  {
   "cell_type": "markdown",
   "metadata": {},
   "source": [
    "A boxplot provides a comprehensive view of a dataset's distribution, offering more detailed insights than typical tables. The central line within the box represents the median, splitting the data into its lower and upper halves. The box itself is framed by two lines: the lower boundary represents the 25th percentile (or Q1), meaning 25% of the data lies below this value, and the upper boundary denotes the 75th percentile (or Q3), indicating that 75% of the data is below this point.\n",
    "\n",
    "The range between Q3 and Q1 is known as the Interquartile Range (IQR). Beyond the box, the plot extends 'whiskers'. Their \"distance\" is calculated as `1.5 * IQR` both above and below the box, providing a range for typical data points. Any data outside these whiskers can be considered outliers."
   ]
  },
  {
   "cell_type": "markdown",
   "metadata": {},
   "source": [
    "##### ❓ What other plots would make sense? Make them."
   ]
  },
  {
   "cell_type": "markdown",
   "metadata": {},
   "source": [
    "Histograms on age and cost as well."
   ]
  },
  {
   "cell_type": "code",
   "execution_count": 61,
   "metadata": {},
   "outputs": [
    {
     "data": {
      "image/png": "[encoded data removed]",
      "text/plain": [
       "<Figure size 640x480 with 1 Axes>"
      ]
     },
     "metadata": {},
     "output_type": "display_data"
    }
   ],
   "source": [
    "plt.hist(cleaned_dataset[\"age\"], bins=50);"
   ]
  },
  {
   "cell_type": "code",
   "execution_count": 57,
   "metadata": {},
   "outputs": [
    {
     "data": {
      "image/png": "[encoded data removed]",
      "text/plain": [
       "<Figure size 640x480 with 1 Axes>"
      ]
     },
     "metadata": {},
     "output_type": "display_data"
    }
   ],
   "source": [
    "plt.hist(cleaned_dataset[\"cost\"], bins=100);"
   ]
  },
  {
   "cell_type": "markdown",
   "metadata": {},
   "source": [
    "For categorical data, categories can often serve as a basis for comparison in other plots, like boxplots. This means you can use a single category to differentiate data within such plots. You can also produce the same type of plot multiple times, once for each category, to analyze patterns within individual categories.\n",
    "\n",
    "\n",
    "| Plot Type     | Description                                          | When to Use                                         |\n",
    "|---------------|------------------------------------------------------|-----------------------------------------------------|\n",
    "| **Count Plot**| Represents the frequency or count of each category.  | To see how often each category appears in the data. |"
   ]
  }
 ],
 "metadata": {
  "kernelspec": {
   "display_name": ".venv",
   "language": "python",
   "name": "python3"
  },
  "language_info": {
   "codemirror_mode": {
    "name": "ipython",
    "version": 3
   },
   "file_extension": ".py",
   "mimetype": "text/x-python",
   "name": "python",
   "nbconvert_exporter": "python",
   "pygments_lexer": "ipython3",
   "version": "3.11.3"
  },
  "orig_nbformat": 4
 },
 "nbformat": 4,
 "nbformat_minor": 2
}
